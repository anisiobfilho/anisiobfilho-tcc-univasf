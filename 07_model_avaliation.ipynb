{
 "cells": [
  {
   "cell_type": "code",
   "execution_count": 1,
   "id": "31c4abd1-18d0-42d8-b440-d3235174faea",
   "metadata": {},
   "outputs": [],
   "source": [
    "# PIVIC - \"Um modelo computacional para identificação de notícias falsas sobre a Covid-19 no Brasil\"\n",
    "# Code: Machine Learning - Supervised Learning\n",
    "# Author: Anísio Pereira Batista Filho"
   ]
  },
  {
   "cell_type": "code",
   "execution_count": 2,
   "id": "f2ba65bf-2866-4355-89e8-20e456e731e1",
   "metadata": {},
   "outputs": [],
   "source": [
    "##Essentials\n",
    "import os\n",
    "import csv\n",
    "import numpy as np\n",
    "import pandas as pd\n",
    "import gensim\n",
    "import time\n",
    "import joblib\n",
    "\n",
    "####Machine learning algorithms\n",
    "from xgboost import XGBClassifier\n",
    "from sklearn.ensemble import RandomForestClassifier\n",
    "\n",
    "###Balancing techniques\n",
    "from imblearn.over_sampling import SMOTE\n",
    "from imblearn.under_sampling import RandomUnderSampler\n",
    "\n",
    "##Model selection\n",
    "from sklearn.model_selection import train_test_split, KFold, GridSearchCV, RandomizedSearchCV\n",
    "\n",
    "###Pipeline\n",
    "from sklearn.pipeline import Pipeline as sklearnPipeline\n",
    "from imblearn.pipeline import Pipeline as imblearnPipeline\n",
    "from sklearn.compose import ColumnTransformer\n",
    "\n",
    "\n",
    "###Metrics\n",
    "from sklearn.metrics import classification_report, f1_score"
   ]
  },
  {
   "cell_type": "code",
   "execution_count": 3,
   "id": "3bf09d95-d3b6-4bd7-9cc8-e35a2f4612e3",
   "metadata": {},
   "outputs": [],
   "source": [
    "pd.set_option(\"display.max_columns\", None)"
   ]
  },
  {
   "cell_type": "markdown",
   "id": "b0278c83-6dc5-475e-89f0-ccaf355cff75",
   "metadata": {},
   "source": [
    "## Configuração"
   ]
  },
  {
   "cell_type": "markdown",
   "id": "615b589f-4779-48b5-824b-bf8c00eaefb3",
   "metadata": {},
   "source": [
    "### Classficador"
   ]
  },
  {
   "cell_type": "code",
   "execution_count": 4,
   "id": "6c91bb51-0058-4c2f-a8df-597dcf69f19b",
   "metadata": {},
   "outputs": [],
   "source": [
    "classificador = 'xgboost'"
   ]
  },
  {
   "cell_type": "markdown",
   "id": "dfc73628-1d21-4fd4-b5b0-52a3b06e7912",
   "metadata": {},
   "source": [
    "### Oversampling"
   ]
  },
  {
   "cell_type": "code",
   "execution_count": 5,
   "id": "9f33408b-7115-4d66-9642-f6e06b72efc7",
   "metadata": {},
   "outputs": [],
   "source": [
    "oversampling = True"
   ]
  },
  {
   "cell_type": "markdown",
   "id": "fed622d1-f82c-4c12-8ebb-9e2b778c3a7f",
   "metadata": {},
   "source": [
    "### Undersampling"
   ]
  },
  {
   "cell_type": "code",
   "execution_count": 6,
   "id": "9a1905c1-dda3-432b-81bf-fc2a896bbcf8",
   "metadata": {},
   "outputs": [],
   "source": [
    "undersampling = True"
   ]
  },
  {
   "cell_type": "markdown",
   "id": "d42be450-011a-4303-980d-d80d9f1ec9af",
   "metadata": {},
   "source": [
    "## Abertura de arquivo e criação do dataframe"
   ]
  },
  {
   "cell_type": "code",
   "execution_count": 7,
   "id": "5f01578a-f92e-4fd9-81cf-006d783e187d",
   "metadata": {},
   "outputs": [],
   "source": [
    "resultados_base = pd.read_csv('models/06_parameters_selection_base.csv', low_memory=True)"
   ]
  },
  {
   "cell_type": "code",
   "execution_count": 8,
   "id": "9ee050c9-1ec2-4941-beeb-9e23f42fcf9a",
   "metadata": {},
   "outputs": [],
   "source": [
    "df = pd.read_csv('data/corpus_labeled/iguais/bases_tcc/03_geracao_carcteristicas_base.csv', sep=\",\", low_memory=False)"
   ]
  },
  {
   "cell_type": "code",
   "execution_count": 9,
   "id": "df519770-e7d6-4ecb-b390-86c8abc2bbbf",
   "metadata": {},
   "outputs": [],
   "source": [
    "y = pd.DataFrame()\n",
    "y['label'] = df.loc[:,'label_A']\n",
    "y.label += 1"
   ]
  },
  {
   "cell_type": "code",
   "execution_count": 10,
   "id": "24d21dcd-c28c-4753-b6c5-a270a87dae54",
   "metadata": {},
   "outputs": [
    {
     "data": {
      "text/plain": [
       "(3600, 1)"
      ]
     },
     "execution_count": 10,
     "metadata": {},
     "output_type": "execute_result"
    }
   ],
   "source": [
    "y.shape"
   ]
  },
  {
   "cell_type": "code",
   "execution_count": 11,
   "id": "2d7f3f61",
   "metadata": {},
   "outputs": [],
   "source": [
    "X = pd.read_csv(\"data/corpus_labeled/iguais/bases_tcc/05_word2vec_model_creation_base.csv\", sep=\",\", low_memory=False)"
   ]
  },
  {
   "cell_type": "markdown",
   "id": "fa61c126-afc0-43f3-b055-1cccb9ad7e22",
   "metadata": {},
   "source": [
    "### Separando dados de treinamento e de teste"
   ]
  },
  {
   "cell_type": "code",
   "execution_count": 12,
   "id": "b5f5982a-bf41-4789-9c55-cea33cb989ad",
   "metadata": {},
   "outputs": [],
   "source": [
    "#X_train, X_test, y_train, y_test = train_test_split(X, y.label, test_size = 0.30, random_state = 1)"
   ]
  },
  {
   "cell_type": "markdown",
   "id": "aa391ef7-99b0-4694-b72d-1c3290e69369",
   "metadata": {},
   "source": [
    "### Construindo o pré-processador"
   ]
  },
  {
   "cell_type": "code",
   "execution_count": 13,
   "id": "b174e9ff-47d2-4f43-b9e1-8382a694e207",
   "metadata": {},
   "outputs": [],
   "source": [
    "preprocessor = ColumnTransformer(transformers=[\n",
    "#    ('tf-idf-stemming', TfidfVectorizer(), 'tweet_text_stemming'),\n",
    "#    ('tf-idf-lemmatization', TfidfVectorizer(), 'tweet_text_lemmatization'),\n",
    "#    ('one-hot-time-shift', OneHotEncoder(handle_unknown = 'ignore'), ['time_shift']),\n",
    "#    ('one-hot-location-treated', OneHotEncoder(handle_unknown = 'ignore'), ['location_treated']),\n",
    "#    ('one-hot-state-location', OneHotEncoder(handle_unknown = 'ignore'), ['state_location']),\n",
    "#    ('one-hot-region-location', OneHotEncoder(handle_unknown = 'ignore'), ['region_location']),\n",
    "#    ('min-max-tweet-text-stemming-char-len', MinMaxScaler(feature_range=(0, 1)), ['tweet_text_stemming_char_len']),\n",
    "#    ('min-max-tweet-text-stemming-word-len', MinMaxScaler(feature_range=(0, 1)), ['tweet_text_stemming_word_len']),\n",
    "#    ('min-max-tweet-text-stemming-noun', MinMaxScaler(feature_range=(0, 1)), ['tweet_text_stemming_noun']),\n",
    "#    ('min-max-tweet-text-stemming-adj', MinMaxScaler(feature_range=(0, 1)), ['tweet_text_stemming_adj']),\n",
    "#    ('min-max-tweet-text-stemming-verb', MinMaxScaler(feature_range=(0, 1)), ['tweet_text_stemming_verb']),\n",
    "#    ('min-max-tweet-text-stemming-adv', MinMaxScaler(feature_range=(0, 1)), ['tweet_text_stemming_adv']),\n",
    "#    ('min-max-tweet-text-lemmatization-char-len', MinMaxScaler(feature_range=(0, 1)), ['tweet_text_lemmatization_char_len']),\n",
    "#    ('min-max-tweet-text-lemmatization-word-len', MinMaxScaler(feature_range=(0, 1)), ['tweet_text_lemmatization_word_len']),\n",
    "#    ('min-max-tweet-text-lemmatization-noun', MinMaxScaler(feature_range=(0, 1)), ['tweet_text_lemmatization_noun']),\n",
    "#    ('min-max-tweet-text-lemmatization-adj', MinMaxScaler(feature_range=(0, 1)), ['tweet_text_lemmatization_adj']),\n",
    "#    ('min-max-tweet-text-lemmatization-verb', MinMaxScaler(feature_range=(0, 1)), ['tweet_text_lemmatization_verb']),\n",
    "#    ('min-max-tweet-text-lemmatization-adv', MinMaxScaler(feature_range=(0, 1)), ['tweet_text_lemmatization_adv']),\n",
    "    ],\n",
    "    remainder='passthrough'\n",
    "    )"
   ]
  },
  {
   "cell_type": "code",
   "execution_count": 14,
   "id": "34a24976-d563-4435-88a1-cf465324ffb3",
   "metadata": {},
   "outputs": [],
   "source": [
    "if oversampling == True:\n",
    "    oversampling_selecionado = ('oversampler', SMOTE(sampling_strategy='not majority', random_state=1))\n",
    "else:\n",
    "    oversampling_selecionado = ('oversampler', 'passthrough')"
   ]
  },
  {
   "cell_type": "code",
   "execution_count": 15,
   "id": "e4aac5cb-d9f3-403f-9644-bc196e56fdf0",
   "metadata": {},
   "outputs": [],
   "source": [
    "if undersampling == True:\n",
    "    undersampling_selecionado = ('undersampler', RandomUnderSampler(sampling_strategy='majority', random_state=1))\n",
    "else:\n",
    "    undersampling_selecionado = ('undersampler', 'passthrough')"
   ]
  },
  {
   "cell_type": "markdown",
   "id": "4335d201-64bc-4de4-ae85-0d2f41b55c01",
   "metadata": {},
   "source": [
    "### Parâmetros"
   ]
  },
  {
   "cell_type": "code",
   "execution_count": 16,
   "id": "4145858a",
   "metadata": {},
   "outputs": [
    {
     "data": {
      "text/plain": [
       "{'booster': 'gbtree',\n",
       " 'colsample_bylevel': 0.8999999999999999,\n",
       " 'colsample_bytree': 0.8,\n",
       " 'gamma': 0.1,\n",
       " 'learning_rate': 0.11,\n",
       " 'max_depth': 19,\n",
       " 'min_child_weight': 1.5,\n",
       " 'random_state': 1,\n",
       " 'reg_alpha': 0.5,\n",
       " 'reg_lambda': 0.2,\n",
       " 'subsample': 0.5,\n",
       " 'tree_method': 'hist'}"
      ]
     },
     "execution_count": 16,
     "metadata": {},
     "output_type": "execute_result"
    }
   ],
   "source": [
    "filtra_parametros = resultados_base[(resultados_base.classifier == classificador) & (resultados_base.oversampling == oversampling) & (resultados_base.undersampling == undersampling)].reset_index()\n",
    "parametros = filtra_parametros.best_params_grid[0]\n",
    "parametros = parametros.replace(classificador+'__', '')\n",
    "parametros = eval(parametros)\n",
    "parametros"
   ]
  },
  {
   "cell_type": "markdown",
   "id": "0ee26518-de42-4bc2-bd96-14b25eeed9c2",
   "metadata": {},
   "source": [
    " ### Seleciona classificador para o pipeline"
   ]
  },
  {
   "cell_type": "code",
   "execution_count": 17,
   "id": "49081d93-2e55-4cbb-ba44-b7145970cba2",
   "metadata": {},
   "outputs": [],
   "source": [
    "if classificador == 'randomforest':\n",
    "    classificador_selecionado = ('randomforest', RandomForestClassifier(max_depth=parametros['max_depth'], \n",
    "                                                                        max_features=parametros['max_features'], \n",
    "                                                                        min_samples_leaf=parametros['min_samples_leaf'], \n",
    "                                                                        n_estimators=parametros['n_estimators'], \n",
    "                                                                        random_state=parametros['random_state']))\n",
    "elif classificador == 'xgboost':\n",
    "    classificador_selecionado = ('xgboost', XGBClassifier(  booster=parametros['booster'],\n",
    "                                                            colsample_bylevel=parametros['colsample_bylevel'],\n",
    "                                                            colsample_bytree=parametros['colsample_bytree'],\n",
    "                                                            gamma=parametros['gamma'],\n",
    "                                                            learning_rate=parametros['learning_rate'],\n",
    "                                                            max_depth=parametros['max_depth'],\n",
    "                                                            min_child_weight=parametros['min_child_weight'],\n",
    "                                                            random_state=parametros['random_state'],\n",
    "                                                            reg_alpha=parametros['reg_alpha'],\n",
    "                                                            reg_lambda=parametros['reg_lambda'],\n",
    "                                                            subsample=parametros['subsample'],\n",
    "                                                            tree_method=parametros['tree_method']))"
   ]
  },
  {
   "cell_type": "markdown",
   "id": "3d5af2da-d6ac-4859-ae2f-30b8b89bafab",
   "metadata": {},
   "source": [
    "### Criando o modelo usando pipeline"
   ]
  },
  {
   "cell_type": "code",
   "execution_count": 18,
   "id": "1e44bdf3-64d9-41a5-98f9-01819c404126",
   "metadata": {},
   "outputs": [],
   "source": [
    "model = imblearnPipeline(steps=[\n",
    "    ('preprocessor', preprocessor),\n",
    "    oversampling_selecionado,\n",
    "    undersampling_selecionado,\n",
    "    \n",
    "    classificador_selecionado,\n",
    "])"
   ]
  },
  {
   "cell_type": "markdown",
   "id": "caf5d8b7",
   "metadata": {},
   "source": [
    "### Avaliando os modelos"
   ]
  },
  {
   "cell_type": "code",
   "execution_count": 19,
   "id": "cf826a07",
   "metadata": {},
   "outputs": [],
   "source": [
    "kf = KFold(n_splits=10, random_state=1, shuffle=True)"
   ]
  },
  {
   "cell_type": "code",
   "execution_count": 20,
   "id": "c7194af6",
   "metadata": {},
   "outputs": [],
   "source": [
    "#resultados_fscore = pd.DataFrame(columns=['classifier', 'oversampling', 'undersampling', 'classification_report', 'f_score_news', 'f_score_opinion', 'f_score_fake'])\n",
    "resultados_fscore = pd.read_csv('models/07_model_avaliation_base.csv')"
   ]
  },
  {
   "cell_type": "code",
   "execution_count": 21,
   "id": "526ca9a8",
   "metadata": {},
   "outputs": [
    {
     "name": "stdout",
     "output_type": "stream",
     "text": [
      "Split: 1\n",
      "[0.5        0.81276596 0.34146341]\n",
      "Split: 2\n",
      "[0.56338028 0.86507937 0.27027027]\n",
      "Split: 3\n",
      "[0.56774194 0.81702128 0.31578947]\n",
      "Split: 4\n",
      "[0.49315068 0.8125     0.31914894]\n",
      "Split: 5\n",
      "[0.50359712 0.84630739 0.375     ]\n",
      "Split: 6\n",
      "[0.47482014 0.81967213 0.38709677]\n",
      "Split: 7\n",
      "[0.5034965  0.83636364 0.36585366]\n",
      "Split: 8\n",
      "[0.46451613 0.79915433 0.41304348]\n",
      "Split: 9\n",
      "[0.4875     0.80168776 0.1627907 ]\n",
      "Split: 10\n",
      "[0.43971631 0.77731092 0.27184466]\n"
     ]
    }
   ],
   "source": [
    "split_num = 1\n",
    "for train_index, test_index in kf.split(X):\n",
    "    print('Split:', split_num)   \n",
    "    X_train, X_test = X.iloc[train_index], X.iloc[test_index]\n",
    "    y_train, y_test = y.label[train_index], y.label[test_index]\n",
    "\n",
    "    model.fit(X_train,y_train)\n",
    "    pred_values = model.predict(X_test)\n",
    "\n",
    "    f_score = f1_score(y_test, pred_values, average=None)\n",
    "    print(f_score)\n",
    "    class_report = classification_report(y_test, pred_values, target_names=['news', 'opinion', 'fake_news'])\n",
    "\n",
    "    lista_resultados = [classificador, oversampling, undersampling, \n",
    "                        class_report, f_score[0], f_score[1], f_score[2]]\n",
    "    resultados_fscore.loc[len(resultados_fscore)] = lista_resultados\n",
    "    resultados_fscore.to_csv('models/07_model_avaliation_base.csv', index=False)\n",
    "    split_num = split_num + 1"
   ]
  },
  {
   "cell_type": "markdown",
   "id": "0d9077fc",
   "metadata": {},
   "source": [
    "### Salvando o modelo"
   ]
  },
  {
   "cell_type": "code",
   "execution_count": 22,
   "id": "2b514ed2",
   "metadata": {},
   "outputs": [
    {
     "data": {
      "text/plain": [
       "['models/model-XGB_OV_True_UN_True.sav']"
      ]
     },
     "execution_count": 22,
     "metadata": {},
     "output_type": "execute_result"
    }
   ],
   "source": [
    "if classificador == 'randomforest':\n",
    "    tag = 'RF'\n",
    "elif classificador == 'xgboost':\n",
    "    tag = 'XGB'\n",
    "\n",
    "filename = 'models/model-'+tag+'_OV_'+str(oversampling)+'_UN_'+str(undersampling)+'.sav'\n",
    "joblib.dump(model, filename, compress=3)"
   ]
  }
 ],
 "metadata": {
  "kernelspec": {
   "display_name": "Python 3.10.4 ('tcc310')",
   "language": "python",
   "name": "python3"
  },
  "language_info": {
   "codemirror_mode": {
    "name": "ipython",
    "version": 3
   },
   "file_extension": ".py",
   "mimetype": "text/x-python",
   "name": "python",
   "nbconvert_exporter": "python",
   "pygments_lexer": "ipython3",
   "version": "3.10.4"
  },
  "vscode": {
   "interpreter": {
    "hash": "f4f5805ba710d0677e54e741567247f67083628d51f873d74e374cda809e29b0"
   }
  }
 },
 "nbformat": 4,
 "nbformat_minor": 5
}
