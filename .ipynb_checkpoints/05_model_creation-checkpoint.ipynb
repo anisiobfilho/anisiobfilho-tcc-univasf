{
 "cells": [
  {
   "cell_type": "code",
   "execution_count": null,
   "id": "31c4abd1-18d0-42d8-b440-d3235174faea",
   "metadata": {},
   "outputs": [],
   "source": [
    "# PIVIC - \"Um modelo computacional para identificação de notícias falsas sobre a Covid-19 no Brasil\"\n",
    "# Code: Machine Learning - Supervised Learning\n",
    "# Author: Anísio Pereira Batista Filho"
   ]
  },
  {
   "cell_type": "code",
   "execution_count": null,
   "id": "f2ba65bf-2866-4355-89e8-20e456e731e1",
   "metadata": {},
   "outputs": [],
   "source": [
    "##Essentials\n",
    "import os\n",
    "import csv\n",
    "import numpy as np ##Numpy\n",
    "import pandas as pd ##Pandas\n",
    "\n",
    "##Sci-kit Learn\n",
    "###Machine learning algorithms\n",
    "from xgboost import XGBClassifier, XGBRegressor\n",
    "from imblearn.pipeline import Pipeline as imblearnPipeline\n",
    "from imblearn.over_sampling import SMOTE\n",
    "from imblearn.under_sampling import RandomUnderSampler\n",
    "from sklearn.linear_model import LogisticRegression\n",
    "from sklearn.svm import SVC\n",
    "from sklearn.neighbors import KNeighborsClassifier\n",
    "from sklearn.tree import DecisionTreeClassifier\n",
    "from sklearn.ensemble import RandomForestClassifier, GradientBoostingClassifier, AdaBoostClassifier\n",
    "from sklearn.naive_bayes import GaussianNB, MultinomialNB\n",
    "\n",
    "##Model selection\n",
    "from sklearn.model_selection import train_test_split\n",
    "from sklearn.model_selection import KFold\n",
    "from sklearn.model_selection import cross_validate\n",
    "from sklearn.model_selection import GridSearchCV\n",
    "\n",
    "###Pipeline, vectorizers and preprocessing\n",
    "from sklearn.pipeline import Pipeline as sklearnPipeline\n",
    "from sklearn.impute import SimpleImputer\n",
    "from sklearn.preprocessing import OneHotEncoder\n",
    "from sklearn.preprocessing import MinMaxScaler\n",
    "from sklearn.preprocessing import MultiLabelBinarizer\n",
    "from sklearn.compose import ColumnTransformer\n",
    "from sklearn.feature_extraction.text import CountVectorizer, TfidfVectorizer\n",
    "\n",
    "###Metrics\n",
    "from sklearn.metrics import classification_report, f1_score\n",
    "\n",
    "##Utils\n",
    "import re\n",
    "import unicodedata\n",
    "from tqdm.auto import tqdm\n",
    "import time\n",
    "import timeit"
   ]
  },
  {
   "cell_type": "code",
   "execution_count": null,
   "id": "3bf09d95-d3b6-4bd7-9cc8-e35a2f4612e3",
   "metadata": {},
   "outputs": [],
   "source": [
    "pd.set_option(\"display.max_columns\", None)"
   ]
  },
  {
   "cell_type": "code",
   "execution_count": null,
   "id": "5726e9c0-b113-4606-ae90-e6c22239941a",
   "metadata": {},
   "outputs": [],
   "source": [
    "tqdm.pandas()"
   ]
  },
  {
   "cell_type": "markdown",
   "id": "b0278c83-6dc5-475e-89f0-ccaf355cff75",
   "metadata": {},
   "source": [
    "## Configuração"
   ]
  },
  {
   "cell_type": "markdown",
   "id": "615b589f-4779-48b5-824b-bf8c00eaefb3",
   "metadata": {},
   "source": [
    "### Classficador"
   ]
  },
  {
   "cell_type": "code",
   "execution_count": null,
   "id": "6c91bb51-0058-4c2f-a8df-597dcf69f19b",
   "metadata": {},
   "outputs": [],
   "source": [
    "classificador = 'randomforest'"
   ]
  },
  {
   "cell_type": "markdown",
   "id": "dfc73628-1d21-4fd4-b5b0-52a3b06e7912",
   "metadata": {},
   "source": [
    "### Oversampling"
   ]
  },
  {
   "cell_type": "code",
   "execution_count": null,
   "id": "9f33408b-7115-4d66-9642-f6e06b72efc7",
   "metadata": {},
   "outputs": [],
   "source": [
    "oversampling = True"
   ]
  },
  {
   "cell_type": "markdown",
   "id": "fed622d1-f82c-4c12-8ebb-9e2b778c3a7f",
   "metadata": {},
   "source": [
    "### Undersampling"
   ]
  },
  {
   "cell_type": "code",
   "execution_count": null,
   "id": "9a1905c1-dda3-432b-81bf-fc2a896bbcf8",
   "metadata": {},
   "outputs": [],
   "source": [
    "undersampling = True"
   ]
  },
  {
   "cell_type": "markdown",
   "id": "d42be450-011a-4303-980d-d80d9f1ec9af",
   "metadata": {},
   "source": [
    "## Abertura de arquivo e criação do dataframe"
   ]
  },
  {
   "cell_type": "code",
   "execution_count": null,
   "id": "9ee050c9-1ec2-4941-beeb-9e23f42fcf9a",
   "metadata": {},
   "outputs": [],
   "source": [
    "df = pd.read_csv('data/corpus_labeled/iguais/bases_tcc/03_geracao_carcteristicas_base.csv', sep=\",\", low_memory=False)"
   ]
  },
  {
   "cell_type": "code",
   "execution_count": null,
   "id": "5f01578a-f92e-4fd9-81cf-006d783e187d",
   "metadata": {},
   "outputs": [],
   "source": [
    "df.columns"
   ]
  },
  {
   "cell_type": "code",
   "execution_count": null,
   "id": "fbf4c22b-4db7-4c22-a060-41be4083d598",
   "metadata": {},
   "outputs": [],
   "source": [
    "X = pd.DataFrame()\n",
    "X = df[[    'tweet_text_stemming', 'tweet_text_lemmatization', \n",
    "            \n",
    "            'time_shift', 'location_treated', 'state_location', 'region_location', \n",
    "            \n",
    "            'tweet_text_stemming_char_len', 'tweet_text_stemming_word_len', \n",
    "            'tweet_text_stemming_noun', 'tweet_text_stemming_adj', \n",
    "            'tweet_text_stemming_verb', 'tweet_text_stemming_adv', \n",
    "\n",
    "            'tweet_text_lemmatization_char_len', 'tweet_text_lemmatization_word_len',\n",
    "            'tweet_text_lemmatization_noun', 'tweet_text_lemmatization_adj', \n",
    "            'tweet_text_lemmatization_verb', 'tweet_text_lemmatization_adv'\n",
    "       ]]"
   ]
  },
  {
   "cell_type": "code",
   "execution_count": null,
   "id": "bef26bec-6d39-4bad-9870-8d1f83ae4a4f",
   "metadata": {},
   "outputs": [],
   "source": [
    "X"
   ]
  },
  {
   "cell_type": "code",
   "execution_count": null,
   "id": "df519770-e7d6-4ecb-b390-86c8abc2bbbf",
   "metadata": {},
   "outputs": [],
   "source": [
    "y = pd.DataFrame()\n",
    "y['label'] = df.loc[:,'label_A']\n",
    "y.label += 1"
   ]
  },
  {
   "cell_type": "code",
   "execution_count": null,
   "id": "24d21dcd-c28c-4753-b6c5-a270a87dae54",
   "metadata": {},
   "outputs": [],
   "source": [
    "y"
   ]
  },
  {
   "cell_type": "markdown",
   "id": "fa61c126-afc0-43f3-b055-1cccb9ad7e22",
   "metadata": {},
   "source": [
    "### Separando dados de treinamento e de teste"
   ]
  },
  {
   "cell_type": "code",
   "execution_count": null,
   "id": "b5f5982a-bf41-4789-9c55-cea33cb989ad",
   "metadata": {},
   "outputs": [],
   "source": [
    "X_train, X_test, y_train, y_test = train_test_split(X, y.label, test_size = 0.30, random_state = 1)"
   ]
  },
  {
   "cell_type": "markdown",
   "id": "aa391ef7-99b0-4694-b72d-1c3290e69369",
   "metadata": {},
   "source": [
    "### Construindo o pré-processador"
   ]
  },
  {
   "cell_type": "code",
   "execution_count": null,
   "id": "b174e9ff-47d2-4f43-b9e1-8382a694e207",
   "metadata": {},
   "outputs": [],
   "source": [
    "preprocessor = ColumnTransformer(transformers=[\n",
    "    ('tf-idf-stemming', TfidfVectorizer(), 'tweet_text_stemming'),\n",
    "    ('tf-idf-lemmatization', TfidfVectorizer(), 'tweet_text_lemmatization'),\n",
    "    ('one-hot-time-shift', OneHotEncoder(handle_unknown = 'ignore'), ['time_shift']),\n",
    "    ('one-hot-location-treated', OneHotEncoder(handle_unknown = 'ignore'), ['location_treated']),\n",
    "    ('one-hot-state-location', OneHotEncoder(handle_unknown = 'ignore'), ['state_location']),\n",
    "    ('one-hot-region-location', OneHotEncoder(handle_unknown = 'ignore'), ['region_location']),\n",
    "    ('min-max-tweet-text-stemming-char-len', MinMaxScaler(feature_range=(0, 1)), ['tweet_text_stemming_char_len']),\n",
    "    ('min-max-tweet-text-stemming-word-len', MinMaxScaler(feature_range=(0, 1)), ['tweet_text_stemming_word_len']),\n",
    "    ('min-max-tweet-text-stemming-noun', MinMaxScaler(feature_range=(0, 1)), ['tweet_text_stemming_noun']),\n",
    "    ('min-max-tweet-text-stemming-adj', MinMaxScaler(feature_range=(0, 1)), ['tweet_text_stemming_adj']),\n",
    "    ('min-max-tweet-text-stemming-verb', MinMaxScaler(feature_range=(0, 1)), ['tweet_text_stemming_verb']),\n",
    "    ('min-max-tweet-text-stemming-adv', MinMaxScaler(feature_range=(0, 1)), ['tweet_text_stemming_adv']),\n",
    "    ('min-max-tweet-text-lemmatization-char-len', MinMaxScaler(feature_range=(0, 1)), ['tweet_text_lemmatization_char_len']),\n",
    "    ('min-max-tweet-text-lemmatization-word-len', MinMaxScaler(feature_range=(0, 1)), ['tweet_text_lemmatization_word_len']),\n",
    "    ('min-max-tweet-text-lemmatization-noun', MinMaxScaler(feature_range=(0, 1)), ['tweet_text_lemmatization_noun']),\n",
    "    ('min-max-tweet-text-lemmatization-adj', MinMaxScaler(feature_range=(0, 1)), ['tweet_text_lemmatization_adj']),\n",
    "    ('min-max-tweet-text-lemmatization-verb', MinMaxScaler(feature_range=(0, 1)), ['tweet_text_lemmatization_verb']),\n",
    "    ('min-max-tweet-text-lemmatization-adv', MinMaxScaler(feature_range=(0, 1)), ['tweet_text_lemmatization_adv']),\n",
    "    ],\n",
    "    #remainder='passthrough'\n",
    "    )"
   ]
  },
  {
   "cell_type": "code",
   "execution_count": null,
   "id": "34a24976-d563-4435-88a1-cf465324ffb3",
   "metadata": {},
   "outputs": [],
   "source": [
    "if oversampling == True:\n",
    "    oversampling_selecionado = ('oversampler', SMOTE(random_state=1))\n",
    "else:\n",
    "    oversampling_selecionado = ('oversampler', 'passthrough')"
   ]
  },
  {
   "cell_type": "code",
   "execution_count": null,
   "id": "e4aac5cb-d9f3-403f-9644-bc196e56fdf0",
   "metadata": {},
   "outputs": [],
   "source": [
    "if undersampling == True:\n",
    "    undersampling_selecionado = ('undersampler', RandomUnderSampler(random_state=1))\n",
    "else:\n",
    "    undersampling_selecionado = ('undersampler', 'passthrough')"
   ]
  },
  {
   "cell_type": "markdown",
   "id": "0ee26518-de42-4bc2-bd96-14b25eeed9c2",
   "metadata": {},
   "source": [
    " ### Seleciona classificador para o pipeline"
   ]
  },
  {
   "cell_type": "code",
   "execution_count": null,
   "id": "49081d93-2e55-4cbb-ba44-b7145970cba2",
   "metadata": {},
   "outputs": [],
   "source": [
    "if classificador == 'decisiontree':\n",
    "    classificador_selecionado = ('decisiontree', DecisionTreeClassifier())\n",
    "elif classificador == 'multinomial-naive-bayes':\n",
    "    classificador_selecionado = ('multinomial-naive-bayes', MultinomialNB())\n",
    "elif classificador == 'svc':\n",
    "    classificador_selecionado = ('svc', SVC())\n",
    "elif classificador == 'randomforest':\n",
    "    classificador_selecionado = ('randomforest', RandomForestClassifier())\n",
    "elif classificador == 'adaboost':\n",
    "    classificador_selecionado = ('adaboost', AdaBoostClassifier(base_estimator=DecisionTreeClassifier()))\n",
    "elif classificador == 'xgboost':\n",
    "    classificador_selecionado = ('xgboost', XGBClassifier())"
   ]
  },
  {
   "cell_type": "markdown",
   "id": "3d5af2da-d6ac-4859-ae2f-30b8b89bafab",
   "metadata": {},
   "source": [
    "### Criando o modelo usando pipeline"
   ]
  },
  {
   "cell_type": "code",
   "execution_count": null,
   "id": "1e44bdf3-64d9-41a5-98f9-01819c404126",
   "metadata": {},
   "outputs": [],
   "source": [
    "model = imblearnPipeline(steps=[\n",
    "    ('preprocessor', preprocessor),\n",
    "\n",
    "    oversampling_selecionado,\n",
    "    undersampling_selecionado,\n",
    "    \n",
    "    classificador_selecionado,\n",
    "])"
   ]
  },
  {
   "cell_type": "code",
   "execution_count": null,
   "id": "e0c367d9-6835-4ead-b529-3813c4f72190",
   "metadata": {},
   "outputs": [],
   "source": [
    "model"
   ]
  },
  {
   "cell_type": "markdown",
   "id": "4335d201-64bc-4de4-ae85-0d2f41b55c01",
   "metadata": {},
   "source": [
    "### Parâmetros"
   ]
  },
  {
   "cell_type": "code",
   "execution_count": null,
   "id": "b58649f5-0742-4778-90f9-675ee2ceda63",
   "metadata": {},
   "outputs": [],
   "source": [
    "if classificador == 'decisiontree':\n",
    "    parameters = {  \n",
    "    'decisiontree__criterion': ['gini', 'entropy'],\n",
    "    'decisiontree__splitter': ['best', 'random'],\n",
    "    'decisiontree__max_depth': [9, 10, None],\n",
    "    'decisiontree__min_samples_split': [2, 3, 4, 5],\n",
    "    'decisiontree__min_samples_leaf': [1, 2, 3],\n",
    "    #'decisiontree__min_weight_fraction_leaf': [0.0],\n",
    "    #'decisiontree__max_features': [None],\n",
    "    'decisiontree__random_state': [1, None],\n",
    "    #'decisiontree__max_leaf_nodes': [None],\n",
    "    #'decisiontree__min_impurity_decrease': [0.0],\n",
    "    #'decisiontree__class_weight': [None],\n",
    "    #'decisiontree__ccp_alpha': [0.0]\n",
    "            }\n",
    "elif classificador == 'multinomial-naive-bayes':\n",
    "    parameters = {  \n",
    "    'multinomial-naive-bayes__alpha': [0.01, 0.1, 0.5, 1.0, 10.0],\n",
    "    #'multinomial-naive-bayes__fit_prior': [True, False],\n",
    "    'multinomial-naive-bayes__class_prior': [None]\n",
    "            }\n",
    "elif classificador == 'svc':\n",
    "    parameters = {  \n",
    "    'svc__C': [1, 10, 100, 1000],\n",
    "    'svc__kernel': ['rbf'],\n",
    "    #'svc__degree': [3],\n",
    "    'svc__gamma': [1, 0.1],\n",
    "    #'svc__coef0': [0.0],\n",
    "    #'svc__shrinking': [True],\n",
    "    #'svc__probability': [False],\n",
    "    #'svc__tol': [1e-3],\n",
    "    #'svc__cache_size': [200],\n",
    "    #'svc__class_weight': [None],\n",
    "    #'svc__verbose': [False],\n",
    "    #'svc__max_iter': [-1],\n",
    "    #'svc__decision_function_shape': ['ovr', 'ovo'],\n",
    "    #'svc__break_ties': [False],\n",
    "    'svc__random_state': [1, None]\n",
    "            }\n",
    "elif classificador == 'randomforest':\n",
    "    parameters = { \n",
    "    #'randomforest__bootstrap': [True, False],\n",
    "    #'randomforest__max_depth': [10, 20, 30, 40, 50, 60, 70, 80, 90, 100, None],\n",
    "    'randomforest__max_features': ['auto', 'sqrt', 'log2'],\n",
    "    #'randomforest__min_samples_leaf': [1, 2, 4],\n",
    "    #'randomforest__min_samples_split': [2, 5, 10],\n",
    "    'randomforest__n_estimators': [100, 200, 300, 400, 500, 600, 700, 800, 900, 1000, 1200, 1400, 1500],\n",
    "    #'randomforest__random_state': [1],\n",
    "              }\n",
    "elif classificador == 'adaboost':\n",
    "    parameters = { \n",
    "    #'adaboost__base_estimator__criterion': ['gini', 'entropy'],\n",
    "    #'adaboost__base_estimator__splitter': ['best', 'random'],\n",
    "    #'adaboost__base_estimator__max_depth': [1, 2, 3, 4, 5, 6, 7, 8, 9, 10, None],\n",
    "    #'adaboost__base_estimator__min_samples_split': [2, 3, 4, 5],\n",
    "    #'adaboost__base_estimator__min_samples_leaf': [1, 2, 3],\n",
    "    #'adaboost__base_estimator__random_state': [1, None],\n",
    "    'adaboost__n_estimators': [10, 50, 100, 500],\n",
    "    'adaboost__learning_rate': [0.0001, 0.001, 0.01, 0.1, 1.0],\n",
    "    #'adaboost__algorithm': ['SAMME', 'SAMME.R'],\n",
    "    #'adaboost__random_state': [1, None]\n",
    "               }\n",
    "elif classificador == 'xgboost':\n",
    "    parameters = {  \n",
    "    'xgboost__nthread': [4], #when use hyperthread, xgboost may become slower\n",
    "    'xgboost__learning_rate': [0.01], #so called `eta` value\n",
    "    'xgboost__max_depth': [7],\n",
    "    #'xgboost__min_child_weight': [11],\n",
    "    'xgboost__subsample': [0.8],\n",
    "    'xgboost__colsample_bytree': [0.8],\n",
    "    'xgboost__n_estimators': [1000], #number of trees, change it to 1000 for better results\n",
    "    #'xgboost__missing': [-999],\n",
    "    #'xgboost__seed': [1337],\n",
    "    #'xgboost__booster': ['gbdt'],\n",
    "    #'xgboost__metric': ['multiclass'],\n",
    "    'xgboost__eval_metric': ['mlogloss'],\n",
    "    #'xgboost__silent': [False], \n",
    "    #'xgboost__scale_pos_weight': [1],  \n",
    "    #'xgboost__subsample': [0.8],\n",
    "    'xgboost__objective': ['multi:softmax'], \n",
    "    'xgboost__reg_alpha': [0.3],\n",
    "    'xgboost__gamma': [0, 1],\n",
    "    'xgboost__use_label_encoder': [False],\n",
    "    'xgboost__num_class': [3]\n",
    "            }"
   ]
  },
  {
   "cell_type": "markdown",
   "id": "2950105b-f2f0-4a3d-9f25-f582b67d81b2",
   "metadata": {},
   "source": [
    "### K-Fold"
   ]
  },
  {
   "cell_type": "code",
   "execution_count": null,
   "id": "daa0db96-0f35-4f9b-ab4d-4104041d123b",
   "metadata": {},
   "outputs": [],
   "source": [
    "kfold = KFold(n_splits=10)"
   ]
  },
  {
   "cell_type": "markdown",
   "id": "5d46c4ab-0f85-4625-a81c-a56f24dfffa4",
   "metadata": {},
   "source": [
    "### Grid Search Cross Validation"
   ]
  },
  {
   "cell_type": "code",
   "execution_count": null,
   "id": "4a6a8dbc-c0b8-4fdc-b404-3a9bbd99ec51",
   "metadata": {},
   "outputs": [],
   "source": [
    "grid = GridSearchCV(model, param_grid=parameters, scoring='f1_samples', cv=kfold, n_jobs=-1)"
   ]
  },
  {
   "cell_type": "markdown",
   "id": "b6bec2d1-d8c4-4320-9c31-02d2f66c11c9",
   "metadata": {},
   "source": [
    "### Treinamento"
   ]
  },
  {
   "cell_type": "code",
   "execution_count": null,
   "id": "3d7caad4-01f9-4afc-bed2-e44d071390d1",
   "metadata": {},
   "outputs": [],
   "source": [
    "grid.fit(X_train, y_train)"
   ]
  },
  {
   "cell_type": "markdown",
   "id": "0f496f3b-230a-4a59-8610-2d27f9e0007a",
   "metadata": {},
   "source": [
    "### Predição"
   ]
  },
  {
   "cell_type": "code",
   "execution_count": null,
   "id": "455b920c-f554-40f3-8b1f-33cbbc5f4b32",
   "metadata": {},
   "outputs": [],
   "source": [
    "y_pred = grid.best_estimator_.predict(X_test)"
   ]
  },
  {
   "cell_type": "markdown",
   "id": "91822a06-153f-4533-a107-6a9728df8ca5",
   "metadata": {},
   "source": [
    "### F1 Score"
   ]
  },
  {
   "cell_type": "code",
   "execution_count": null,
   "id": "a065f6c2-ebca-4053-85d0-c51152a77c43",
   "metadata": {},
   "outputs": [],
   "source": [
    "f1_score(y_test,y_pred, average=None)"
   ]
  },
  {
   "cell_type": "markdown",
   "id": "b82f8aa5-ba6d-436a-83d6-b9eb3a6576bb",
   "metadata": {},
   "source": [
    "### Classification report"
   ]
  },
  {
   "cell_type": "code",
   "execution_count": null,
   "id": "80379e99-76fd-46ff-bd9b-65fb07565775",
   "metadata": {},
   "outputs": [],
   "source": [
    "print(classification_report(y_pred,y_test, target_names=['news', 'opinion', 'fake']))"
   ]
  },
  {
   "cell_type": "markdown",
   "id": "f0243eda-cf5d-4307-ad30-61a16d7d2a0b",
   "metadata": {},
   "source": [
    "### Melhor parâmetro"
   ]
  },
  {
   "cell_type": "code",
   "execution_count": null,
   "id": "2c518230-1767-49ef-9093-8cd1117e0a01",
   "metadata": {},
   "outputs": [],
   "source": [
    "grid.best_params_"
   ]
  },
  {
   "cell_type": "markdown",
   "id": "2e29846d-d8ce-4d34-8dbf-771e9b74fbf7",
   "metadata": {},
   "source": [
    "### Gerar dataframe de resultados"
   ]
  },
  {
   "cell_type": "code",
   "execution_count": null,
   "id": "44912a98-8fd2-4074-94c0-57bc932138b0",
   "metadata": {},
   "outputs": [],
   "source": [
    "#result_df = pd.DataFrame(grid.cv_results_)"
   ]
  }
 ],
 "metadata": {
  "kernelspec": {
   "display_name": "Python 3 (ipykernel)",
   "language": "python",
   "name": "python3"
  },
  "language_info": {
   "codemirror_mode": {
    "name": "ipython",
    "version": 3
   },
   "file_extension": ".py",
   "mimetype": "text/x-python",
   "name": "python",
   "nbconvert_exporter": "python",
   "pygments_lexer": "ipython3",
   "version": "3.10.4"
  }
 },
 "nbformat": 4,
 "nbformat_minor": 5
}
