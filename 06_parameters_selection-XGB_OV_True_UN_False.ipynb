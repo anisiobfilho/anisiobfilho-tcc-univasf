{
 "cells": [
  {
   "cell_type": "code",
   "execution_count": 1,
   "id": "31c4abd1-18d0-42d8-b440-d3235174faea",
   "metadata": {},
   "outputs": [],
   "source": [
    "# PIVIC - \"Um modelo computacional para identificação de notícias falsas sobre a Covid-19 no Brasil\"\n",
    "# Code: Machine Learning - Supervised Learning\n",
    "# Author: Anísio Pereira Batista Filho"
   ]
  },
  {
   "cell_type": "code",
   "execution_count": 2,
   "id": "f2ba65bf-2866-4355-89e8-20e456e731e1",
   "metadata": {},
   "outputs": [],
   "source": [
    "##Essentials\n",
    "import os\n",
    "import csv\n",
    "import numpy as np\n",
    "import pandas as pd\n",
    "import gensim\n",
    "import time\n",
    "\n",
    "####Machine learning algorithms\n",
    "from xgboost import XGBClassifier\n",
    "#from sklearn.ensemble import RandomForestClassifier\n",
    "\n",
    "###Balancing techniques\n",
    "from imblearn.over_sampling import SMOTE\n",
    "from imblearn.under_sampling import RandomUnderSampler\n",
    "\n",
    "##Model selection\n",
    "from sklearn.model_selection import train_test_split, KFold, GridSearchCV, RandomizedSearchCV\n",
    "\n",
    "###Pipeline\n",
    "from sklearn.pipeline import Pipeline as sklearnPipeline\n",
    "from imblearn.pipeline import Pipeline as imblearnPipeline\n",
    "from sklearn.compose import ColumnTransformer\n",
    "\n",
    "### Preprocessing\n",
    "#from sklearn.preprocessing import OneHotEncoder\n",
    "#from sklearn.preprocessing import MinMaxScaler\n",
    "#from sklearn.feature_extraction.text import  TfidfVectorizer\n",
    "\n",
    "###Metrics\n",
    "from sklearn.metrics import classification_report, f1_score"
   ]
  },
  {
   "cell_type": "code",
   "execution_count": 3,
   "id": "3bf09d95-d3b6-4bd7-9cc8-e35a2f4612e3",
   "metadata": {},
   "outputs": [],
   "source": [
    "pd.set_option(\"display.max_columns\", None)"
   ]
  },
  {
   "cell_type": "markdown",
   "id": "b0278c83-6dc5-475e-89f0-ccaf355cff75",
   "metadata": {},
   "source": [
    "## Configuração"
   ]
  },
  {
   "cell_type": "markdown",
   "id": "615b589f-4779-48b5-824b-bf8c00eaefb3",
   "metadata": {},
   "source": [
    "### Classficador"
   ]
  },
  {
   "cell_type": "code",
   "execution_count": 4,
   "id": "6c91bb51-0058-4c2f-a8df-597dcf69f19b",
   "metadata": {},
   "outputs": [],
   "source": [
    "classificador = 'xgboost'"
   ]
  },
  {
   "cell_type": "markdown",
   "id": "dfc73628-1d21-4fd4-b5b0-52a3b06e7912",
   "metadata": {},
   "source": [
    "### Oversampling"
   ]
  },
  {
   "cell_type": "code",
   "execution_count": 5,
   "id": "9f33408b-7115-4d66-9642-f6e06b72efc7",
   "metadata": {},
   "outputs": [],
   "source": [
    "oversampling = True"
   ]
  },
  {
   "cell_type": "markdown",
   "id": "fed622d1-f82c-4c12-8ebb-9e2b778c3a7f",
   "metadata": {},
   "source": [
    "### Undersampling"
   ]
  },
  {
   "cell_type": "code",
   "execution_count": 6,
   "id": "9a1905c1-dda3-432b-81bf-fc2a896bbcf8",
   "metadata": {},
   "outputs": [],
   "source": [
    "undersampling = False"
   ]
  },
  {
   "cell_type": "markdown",
   "id": "d42be450-011a-4303-980d-d80d9f1ec9af",
   "metadata": {},
   "source": [
    "## Abertura de arquivo e criação do dataframe"
   ]
  },
  {
   "cell_type": "code",
   "execution_count": 7,
   "id": "9ee050c9-1ec2-4941-beeb-9e23f42fcf9a",
   "metadata": {},
   "outputs": [],
   "source": [
    "df = pd.read_csv('data/corpus_labeled/iguais/bases_tcc/03_geracao_carcteristicas_base.csv', sep=\",\", low_memory=False)"
   ]
  },
  {
   "cell_type": "code",
   "execution_count": 8,
   "id": "5f01578a-f92e-4fd9-81cf-006d783e187d",
   "metadata": {},
   "outputs": [],
   "source": [
    "#resultados_base = pd.read_csv('models/05_model_creation.csv', low_memory=True)"
   ]
  },
  {
   "cell_type": "code",
   "execution_count": 9,
   "id": "df519770-e7d6-4ecb-b390-86c8abc2bbbf",
   "metadata": {},
   "outputs": [],
   "source": [
    "y = pd.DataFrame()\n",
    "y['label'] = df.loc[:,'label_A']\n",
    "y.label += 1"
   ]
  },
  {
   "cell_type": "code",
   "execution_count": 10,
   "id": "24d21dcd-c28c-4753-b6c5-a270a87dae54",
   "metadata": {},
   "outputs": [
    {
     "data": {
      "text/plain": [
       "(3600, 1)"
      ]
     },
     "execution_count": 10,
     "metadata": {},
     "output_type": "execute_result"
    }
   ],
   "source": [
    "y.shape"
   ]
  },
  {
   "cell_type": "code",
   "execution_count": 11,
   "id": "2d7f3f61",
   "metadata": {},
   "outputs": [],
   "source": [
    "X = pd.read_csv(\"data/corpus_labeled/iguais/bases_tcc/05_word2vec_model_creation_base.csv\", sep=\",\", low_memory=False)"
   ]
  },
  {
   "cell_type": "markdown",
   "id": "fa61c126-afc0-43f3-b055-1cccb9ad7e22",
   "metadata": {},
   "source": [
    "### Separando dados de treinamento e de teste"
   ]
  },
  {
   "cell_type": "code",
   "execution_count": 12,
   "id": "b5f5982a-bf41-4789-9c55-cea33cb989ad",
   "metadata": {},
   "outputs": [],
   "source": [
    "X_train, X_test, y_train, y_test = train_test_split(X, y.label, test_size = 0.30, random_state = 1)"
   ]
  },
  {
   "cell_type": "markdown",
   "id": "aa391ef7-99b0-4694-b72d-1c3290e69369",
   "metadata": {},
   "source": [
    "### Construindo o pré-processador"
   ]
  },
  {
   "cell_type": "code",
   "execution_count": 13,
   "id": "b174e9ff-47d2-4f43-b9e1-8382a694e207",
   "metadata": {},
   "outputs": [],
   "source": [
    "preprocessor = ColumnTransformer(transformers=[\n",
    "#    ('tf-idf-stemming', TfidfVectorizer(), 'tweet_text_stemming'),\n",
    "#    ('tf-idf-lemmatization', TfidfVectorizer(), 'tweet_text_lemmatization'),\n",
    "#    ('one-hot-time-shift', OneHotEncoder(handle_unknown = 'ignore'), ['time_shift']),\n",
    "#    ('one-hot-location-treated', OneHotEncoder(handle_unknown = 'ignore'), ['location_treated']),\n",
    "#    ('one-hot-state-location', OneHotEncoder(handle_unknown = 'ignore'), ['state_location']),\n",
    "#    ('one-hot-region-location', OneHotEncoder(handle_unknown = 'ignore'), ['region_location']),\n",
    "#    ('min-max-tweet-text-stemming-char-len', MinMaxScaler(feature_range=(0, 1)), ['tweet_text_stemming_char_len']),\n",
    "#    ('min-max-tweet-text-stemming-word-len', MinMaxScaler(feature_range=(0, 1)), ['tweet_text_stemming_word_len']),\n",
    "#    ('min-max-tweet-text-stemming-noun', MinMaxScaler(feature_range=(0, 1)), ['tweet_text_stemming_noun']),\n",
    "#    ('min-max-tweet-text-stemming-adj', MinMaxScaler(feature_range=(0, 1)), ['tweet_text_stemming_adj']),\n",
    "#    ('min-max-tweet-text-stemming-verb', MinMaxScaler(feature_range=(0, 1)), ['tweet_text_stemming_verb']),\n",
    "#    ('min-max-tweet-text-stemming-adv', MinMaxScaler(feature_range=(0, 1)), ['tweet_text_stemming_adv']),\n",
    "#    ('min-max-tweet-text-lemmatization-char-len', MinMaxScaler(feature_range=(0, 1)), ['tweet_text_lemmatization_char_len']),\n",
    "#    ('min-max-tweet-text-lemmatization-word-len', MinMaxScaler(feature_range=(0, 1)), ['tweet_text_lemmatization_word_len']),\n",
    "#    ('min-max-tweet-text-lemmatization-noun', MinMaxScaler(feature_range=(0, 1)), ['tweet_text_lemmatization_noun']),\n",
    "#    ('min-max-tweet-text-lemmatization-adj', MinMaxScaler(feature_range=(0, 1)), ['tweet_text_lemmatization_adj']),\n",
    "#    ('min-max-tweet-text-lemmatization-verb', MinMaxScaler(feature_range=(0, 1)), ['tweet_text_lemmatization_verb']),\n",
    "#    ('min-max-tweet-text-lemmatization-adv', MinMaxScaler(feature_range=(0, 1)), ['tweet_text_lemmatization_adv']),\n",
    "    ],\n",
    "    remainder='passthrough'\n",
    "    )"
   ]
  },
  {
   "cell_type": "code",
   "execution_count": 14,
   "id": "34a24976-d563-4435-88a1-cf465324ffb3",
   "metadata": {},
   "outputs": [],
   "source": [
    "if oversampling == True:\n",
    "    oversampling_selecionado = ('oversampler', SMOTE(sampling_strategy='not majority', random_state=1))\n",
    "else:\n",
    "    oversampling_selecionado = ('oversampler', 'passthrough')"
   ]
  },
  {
   "cell_type": "code",
   "execution_count": 15,
   "id": "e4aac5cb-d9f3-403f-9644-bc196e56fdf0",
   "metadata": {},
   "outputs": [],
   "source": [
    "if undersampling == True:\n",
    "    undersampling_selecionado = ('undersampler', RandomUnderSampler(sampling_strategy='majority', random_state=1))\n",
    "else:\n",
    "    undersampling_selecionado = ('undersampler', 'passthrough')"
   ]
  },
  {
   "cell_type": "markdown",
   "id": "0ee26518-de42-4bc2-bd96-14b25eeed9c2",
   "metadata": {},
   "source": [
    " ### Seleciona classificador para o pipeline"
   ]
  },
  {
   "cell_type": "code",
   "execution_count": 16,
   "id": "49081d93-2e55-4cbb-ba44-b7145970cba2",
   "metadata": {},
   "outputs": [],
   "source": [
    "if classificador == 'randomforest':\n",
    "    classificador_selecionado = ('randomforest', RandomForestClassifier())\n",
    "elif classificador == 'xgboost':\n",
    "    classificador_selecionado = ('xgboost', XGBClassifier())"
   ]
  },
  {
   "cell_type": "markdown",
   "id": "3d5af2da-d6ac-4859-ae2f-30b8b89bafab",
   "metadata": {},
   "source": [
    "### Criando o modelo usando pipeline"
   ]
  },
  {
   "cell_type": "code",
   "execution_count": 17,
   "id": "1e44bdf3-64d9-41a5-98f9-01819c404126",
   "metadata": {},
   "outputs": [],
   "source": [
    "model = imblearnPipeline(steps=[\n",
    "    ('preprocessor', preprocessor),\n",
    "    oversampling_selecionado,\n",
    "    undersampling_selecionado,\n",
    "    \n",
    "    classificador_selecionado,\n",
    "])"
   ]
  },
  {
   "cell_type": "markdown",
   "id": "4335d201-64bc-4de4-ae85-0d2f41b55c01",
   "metadata": {},
   "source": [
    "### Parâmetros"
   ]
  },
  {
   "cell_type": "code",
   "execution_count": 21,
   "id": "b58649f5-0742-4778-90f9-675ee2ceda63",
   "metadata": {},
   "outputs": [],
   "source": [
    "if classificador == 'randomforest':\n",
    "    parameters_random = { \n",
    "    'randomforest__min_samples_leaf': list(range(1, 60, 2)),\n",
    "    'randomforest__max_features': list(np.arange(0.1, 1, 0.2)),\n",
    "    'randomforest__max_depth': list(range(6, 20, 2)),\n",
    "    'randomforest__n_estimators': list(range(10, 200, 10)),\n",
    "    'randomforest__random_state': [1],\n",
    "              }\n",
    "\n",
    "    \n",
    "elif classificador == 'xgboost':\n",
    "    parameters_random = {\n",
    "    'xgboost__booster': ['gbtree', 'dart'],\n",
    "    'xgboost__tree_method': ['exact', 'hist', 'approx'],\n",
    "    'xgboost__max_depth': list(range(3, 20, 2)),\n",
    "    'xgboost__learning_rate': list(np.arange(0.01, 0.5, 0.05)),\n",
    "    'xgboost__gamma': list(np.arange(0.0, 1.0, 0.2)),\n",
    "    'xgboost__reg_alpha': list(np.arange(0.0, 1.0, 0.2)),\n",
    "    'xgboost__reg_lambda': list(np.arange(0.0, 1.0, 0.2)),\n",
    "    'xgboost__min_child_weight': list(np.arange(0.0, 5.0, 0.5)),\n",
    "    'xgboost__subsample': list(np.arange(0.5, 1.0, 0.1)),\n",
    "    'xgboost__colsample_bytree': list(np.arange(0.5, 1.0, 0.1)),\n",
    "    'xgboost__colsample_bylevel': list(np.arange(0.5, 1.0, 0.1)),\n",
    "    'xgboost__random_state': [1],\n",
    "            }"
   ]
  },
  {
   "cell_type": "markdown",
   "id": "5d46c4ab-0f85-4625-a81c-a56f24dfffa4",
   "metadata": {},
   "source": [
    "### Randomized Search Cross Validation"
   ]
  },
  {
   "cell_type": "code",
   "execution_count": 22,
   "id": "4a6a8dbc-c0b8-4fdc-b404-3a9bbd99ec51",
   "metadata": {},
   "outputs": [],
   "source": [
    "random = RandomizedSearchCV(estimator=model, param_distributions=parameters_random, n_iter=50, cv=3, scoring='f1_weighted', n_jobs=1, verbose=3, random_state=1)"
   ]
  },
  {
   "cell_type": "markdown",
   "id": "b6bec2d1-d8c4-4320-9c31-02d2f66c11c9",
   "metadata": {},
   "source": [
    "### Treinamento"
   ]
  },
  {
   "cell_type": "code",
   "execution_count": 23,
   "id": "3d7caad4-01f9-4afc-bed2-e44d071390d1",
   "metadata": {},
   "outputs": [
    {
     "name": "stdout",
     "output_type": "stream",
     "text": [
      "Fitting 3 folds for each of 50 candidates, totalling 150 fits\n",
      "[CV 1/3] END xgboost__booster=dart, xgboost__colsample_bylevel=0.5, xgboost__colsample_bytree=0.7, xgboost__gamma=0.4, xgboost__learning_rate=0.01, xgboost__max_depth=17, xgboost__min_child_weight=2.0, xgboost__random_state=1, xgboost__reg_alpha=0.2, xgboost__reg_lambda=0.6000000000000001, xgboost__subsample=0.7999999999999999, xgboost__tree_method=approx;, score=0.705 total time=  27.6s\n",
      "[CV 2/3] END xgboost__booster=dart, xgboost__colsample_bylevel=0.5, xgboost__colsample_bytree=0.7, xgboost__gamma=0.4, xgboost__learning_rate=0.01, xgboost__max_depth=17, xgboost__min_child_weight=2.0, xgboost__random_state=1, xgboost__reg_alpha=0.2, xgboost__reg_lambda=0.6000000000000001, xgboost__subsample=0.7999999999999999, xgboost__tree_method=approx;, score=0.684 total time=  29.1s\n",
      "[CV 3/3] END xgboost__booster=dart, xgboost__colsample_bylevel=0.5, xgboost__colsample_bytree=0.7, xgboost__gamma=0.4, xgboost__learning_rate=0.01, xgboost__max_depth=17, xgboost__min_child_weight=2.0, xgboost__random_state=1, xgboost__reg_alpha=0.2, xgboost__reg_lambda=0.6000000000000001, xgboost__subsample=0.7999999999999999, xgboost__tree_method=approx;, score=0.667 total time=  35.8s\n",
      "[CV 1/3] END xgboost__booster=gbtree, xgboost__colsample_bylevel=0.5, xgboost__colsample_bytree=0.8999999999999999, xgboost__gamma=0.0, xgboost__learning_rate=0.01, xgboost__max_depth=9, xgboost__min_child_weight=1.5, xgboost__random_state=1, xgboost__reg_alpha=0.0, xgboost__reg_lambda=0.0, xgboost__subsample=0.6, xgboost__tree_method=approx;, score=0.699 total time=  26.9s\n",
      "[CV 2/3] END xgboost__booster=gbtree, xgboost__colsample_bylevel=0.5, xgboost__colsample_bytree=0.8999999999999999, xgboost__gamma=0.0, xgboost__learning_rate=0.01, xgboost__max_depth=9, xgboost__min_child_weight=1.5, xgboost__random_state=1, xgboost__reg_alpha=0.0, xgboost__reg_lambda=0.0, xgboost__subsample=0.6, xgboost__tree_method=approx;, score=0.679 total time=  27.5s\n",
      "[CV 3/3] END xgboost__booster=gbtree, xgboost__colsample_bylevel=0.5, xgboost__colsample_bytree=0.8999999999999999, xgboost__gamma=0.0, xgboost__learning_rate=0.01, xgboost__max_depth=9, xgboost__min_child_weight=1.5, xgboost__random_state=1, xgboost__reg_alpha=0.0, xgboost__reg_lambda=0.0, xgboost__subsample=0.6, xgboost__tree_method=approx;, score=0.677 total time=  27.9s\n",
      "[CV 1/3] END xgboost__booster=gbtree, xgboost__colsample_bylevel=0.5, xgboost__colsample_bytree=0.5, xgboost__gamma=0.2, xgboost__learning_rate=0.21000000000000002, xgboost__max_depth=13, xgboost__min_child_weight=0.0, xgboost__random_state=1, xgboost__reg_alpha=0.0, xgboost__reg_lambda=0.0, xgboost__subsample=0.8999999999999999, xgboost__tree_method=hist;, score=0.675 total time=   1.8s\n",
      "[CV 2/3] END xgboost__booster=gbtree, xgboost__colsample_bylevel=0.5, xgboost__colsample_bytree=0.5, xgboost__gamma=0.2, xgboost__learning_rate=0.21000000000000002, xgboost__max_depth=13, xgboost__min_child_weight=0.0, xgboost__random_state=1, xgboost__reg_alpha=0.0, xgboost__reg_lambda=0.0, xgboost__subsample=0.8999999999999999, xgboost__tree_method=hist;, score=0.679 total time=   1.8s\n",
      "[CV 3/3] END xgboost__booster=gbtree, xgboost__colsample_bylevel=0.5, xgboost__colsample_bytree=0.5, xgboost__gamma=0.2, xgboost__learning_rate=0.21000000000000002, xgboost__max_depth=13, xgboost__min_child_weight=0.0, xgboost__random_state=1, xgboost__reg_alpha=0.0, xgboost__reg_lambda=0.0, xgboost__subsample=0.8999999999999999, xgboost__tree_method=hist;, score=0.667 total time=   1.8s\n",
      "[CV 1/3] END xgboost__booster=gbtree, xgboost__colsample_bylevel=0.6, xgboost__colsample_bytree=0.7, xgboost__gamma=0.8, xgboost__learning_rate=0.36000000000000004, xgboost__max_depth=13, xgboost__min_child_weight=2.5, xgboost__random_state=1, xgboost__reg_alpha=0.0, xgboost__reg_lambda=0.2, xgboost__subsample=0.7999999999999999, xgboost__tree_method=approx;, score=0.678 total time=   3.8s\n",
      "[CV 2/3] END xgboost__booster=gbtree, xgboost__colsample_bylevel=0.6, xgboost__colsample_bytree=0.7, xgboost__gamma=0.8, xgboost__learning_rate=0.36000000000000004, xgboost__max_depth=13, xgboost__min_child_weight=2.5, xgboost__random_state=1, xgboost__reg_alpha=0.0, xgboost__reg_lambda=0.2, xgboost__subsample=0.7999999999999999, xgboost__tree_method=approx;, score=0.670 total time=   3.9s\n",
      "[CV 3/3] END xgboost__booster=gbtree, xgboost__colsample_bylevel=0.6, xgboost__colsample_bytree=0.7, xgboost__gamma=0.8, xgboost__learning_rate=0.36000000000000004, xgboost__max_depth=13, xgboost__min_child_weight=2.5, xgboost__random_state=1, xgboost__reg_alpha=0.0, xgboost__reg_lambda=0.2, xgboost__subsample=0.7999999999999999, xgboost__tree_method=approx;, score=0.686 total time=   4.2s\n"
     ]
    }
   ],
   "source": [
    "random.fit(X_train, y_train)"
   ]
  },
  {
   "cell_type": "markdown",
   "id": "0f496f3b-230a-4a59-8610-2d27f9e0007a",
   "metadata": {},
   "source": [
    "### Predição"
   ]
  },
  {
   "cell_type": "code",
   "execution_count": 21,
   "id": "455b920c-f554-40f3-8b1f-33cbbc5f4b32",
   "metadata": {},
   "outputs": [],
   "source": [
    "y_pred_random = random.best_estimator_.predict(X_test)"
   ]
  },
  {
   "cell_type": "markdown",
   "id": "91822a06-153f-4533-a107-6a9728df8ca5",
   "metadata": {},
   "source": [
    "### F1 score"
   ]
  },
  {
   "cell_type": "code",
   "execution_count": 22,
   "id": "a065f6c2-ebca-4053-85d0-c51152a77c43",
   "metadata": {},
   "outputs": [
    {
     "data": {
      "text/plain": [
       "array([0.52088452, 0.84170854, 0.19875776])"
      ]
     },
     "execution_count": 22,
     "metadata": {},
     "output_type": "execute_result"
    }
   ],
   "source": [
    "f_score_random = f1_score(y_test, y_pred_random, average=None)\n",
    "f_score_random"
   ]
  },
  {
   "cell_type": "markdown",
   "id": "b82f8aa5-ba6d-436a-83d6-b9eb3a6576bb",
   "metadata": {},
   "source": [
    "### Classification report"
   ]
  },
  {
   "cell_type": "code",
   "execution_count": 23,
   "id": "80379e99-76fd-46ff-bd9b-65fb07565775",
   "metadata": {},
   "outputs": [
    {
     "name": "stdout",
     "output_type": "stream",
     "text": [
      "              precision    recall  f1-score   support\n",
      "\n",
      "        news       0.46      0.60      0.52       177\n",
      "     opinion       0.94      0.76      0.84       878\n",
      "        fake       0.12      0.64      0.20        25\n",
      "\n",
      "    accuracy                           0.73      1080\n",
      "   macro avg       0.51      0.67      0.52      1080\n",
      "weighted avg       0.84      0.73      0.77      1080\n",
      "\n"
     ]
    }
   ],
   "source": [
    "class_report_random = classification_report(y_pred_random, y_test, target_names=['news', 'opinion', 'fake'])\n",
    "print(class_report_random)"
   ]
  },
  {
   "cell_type": "markdown",
   "id": "f0243eda-cf5d-4307-ad30-61a16d7d2a0b",
   "metadata": {},
   "source": [
    "### Melhor parâmetro"
   ]
  },
  {
   "cell_type": "code",
   "execution_count": 24,
   "id": "2c518230-1767-49ef-9093-8cd1117e0a01",
   "metadata": {},
   "outputs": [
    {
     "data": {
      "text/plain": [
       "{'randomforest__random_state': 1,\n",
       " 'randomforest__n_estimators': 140,\n",
       " 'randomforest__min_samples_leaf': 3,\n",
       " 'randomforest__max_features': 0.5000000000000001,\n",
       " 'randomforest__max_depth': 18}"
      ]
     },
     "execution_count": 24,
     "metadata": {},
     "output_type": "execute_result"
    }
   ],
   "source": [
    "random.best_params_"
   ]
  },
  {
   "cell_type": "code",
   "execution_count": 25,
   "id": "68072921",
   "metadata": {},
   "outputs": [],
   "source": [
    "if classificador == 'randomforest':\n",
    "    parameters_grid = { \n",
    "    'randomforest__min_samples_leaf': list(range(2, 4, 1)),\n",
    "    'randomforest__max_features': list(np.arange(0.4, 0.6, 0.1)),\n",
    "    'randomforest__max_depth': list(range(16, 20, 1)),\n",
    "    'randomforest__n_estimators': list(range(130, 150, 5)),\n",
    "    'randomforest__random_state': [1],\n",
    "              }\n"
   ]
  },
  {
   "cell_type": "markdown",
   "id": "61863c14",
   "metadata": {},
   "source": [
    "### Grid Search Cross Validation"
   ]
  },
  {
   "cell_type": "code",
   "execution_count": 26,
   "id": "b896a063",
   "metadata": {},
   "outputs": [],
   "source": [
    "grid = GridSearchCV(estimator=model, param_grid=parameters_grid, cv=10, scoring='f1_weighted', n_jobs=1, verbose=3)"
   ]
  },
  {
   "cell_type": "markdown",
   "id": "027b2631",
   "metadata": {},
   "source": [
    "### Treinamento"
   ]
  },
  {
   "cell_type": "code",
   "execution_count": 27,
   "id": "2e12b45c",
   "metadata": {},
   "outputs": [
    {
     "name": "stdout",
     "output_type": "stream",
     "text": [
      "Fitting 10 folds for each of 64 candidates, totalling 640 fits\n",
      "[CV 1/10] END randomforest__max_depth=16, randomforest__max_features=0.4, randomforest__min_samples_leaf=2, randomforest__n_estimators=130, randomforest__random_state=1;, score=0.688 total time=   7.5s\n",
      "[CV 2/10] END randomforest__max_depth=16, randomforest__max_features=0.4, randomforest__min_samples_leaf=2, randomforest__n_estimators=130, randomforest__random_state=1;, score=0.703 total time=   7.5s\n",
      "[CV 3/10] END randomforest__max_depth=16, randomforest__max_features=0.4, randomforest__min_samples_leaf=2, randomforest__n_estimators=130, randomforest__random_state=1;, score=0.692 total time=   7.8s\n",
      "[CV 4/10] END randomforest__max_depth=16, randomforest__max_features=0.4, randomforest__min_samples_leaf=2, randomforest__n_estimators=130, randomforest__random_state=1;, score=0.715 total time=   7.8s\n",
      "[CV 5/10] END randomforest__max_depth=16, randomforest__max_features=0.4, randomforest__min_samples_leaf=2, randomforest__n_estimators=130, randomforest__random_state=1;, score=0.710 total time=   7.6s\n",
      "[CV 6/10] END randomforest__max_depth=16, randomforest__max_features=0.4, randomforest__min_samples_leaf=2, randomforest__n_estimators=130, randomforest__random_state=1;, score=0.662 total time=   7.6s\n",
      "[CV 7/10] END randomforest__max_depth=16, randomforest__max_features=0.4, randomforest__min_samples_leaf=2, randomforest__n_estimators=130, randomforest__random_state=1;, score=0.718 total time=   7.7s\n",
      "[CV 8/10] END randomforest__max_depth=16, randomforest__max_features=0.4, randomforest__min_samples_leaf=2, randomforest__n_estimators=130, randomforest__random_state=1;, score=0.660 total time=   7.5s\n",
      "[CV 9/10] END randomforest__max_depth=16, randomforest__max_features=0.4, randomforest__min_samples_leaf=2, randomforest__n_estimators=130, randomforest__random_state=1;, score=0.678 total time=   7.6s\n",
      "[CV 10/10] END randomforest__max_depth=16, randomforest__max_features=0.4, randomforest__min_samples_leaf=2, randomforest__n_estimators=130, randomforest__random_state=1;, score=0.683 total time=   7.4s\n",
      "[CV 1/10] END randomforest__max_depth=16, randomforest__max_features=0.4, randomforest__min_samples_leaf=2, randomforest__n_estimators=135, randomforest__random_state=1;, score=0.687 total time=   7.9s\n",
      "[CV 2/10] END randomforest__max_depth=16, randomforest__max_features=0.4, randomforest__min_samples_leaf=2, randomforest__n_estimators=135, randomforest__random_state=1;, score=0.703 total time=   7.8s\n",
      "[CV 3/10] END randomforest__max_depth=16, randomforest__max_features=0.4, randomforest__min_samples_leaf=2, randomforest__n_estimators=135, randomforest__random_state=1;, score=0.687 total time=   8.1s\n",
      "[CV 4/10] END randomforest__max_depth=16, randomforest__max_features=0.4, randomforest__min_samples_leaf=2, randomforest__n_estimators=135, randomforest__random_state=1;, score=0.717 total time=   7.9s\n",
      "[CV 5/10] END randomforest__max_depth=16, randomforest__max_features=0.4, randomforest__min_samples_leaf=2, randomforest__n_estimators=135, randomforest__random_state=1;, score=0.710 total time=   8.1s\n",
      "[CV 6/10] END randomforest__max_depth=16, randomforest__max_features=0.4, randomforest__min_samples_leaf=2, randomforest__n_estimators=135, randomforest__random_state=1;, score=0.656 total time=   7.8s\n",
      "[CV 7/10] END randomforest__max_depth=16, randomforest__max_features=0.4, randomforest__min_samples_leaf=2, randomforest__n_estimators=135, randomforest__random_state=1;, score=0.695 total time=   7.9s\n",
      "[CV 8/10] END randomforest__max_depth=16, randomforest__max_features=0.4, randomforest__min_samples_leaf=2, randomforest__n_estimators=135, randomforest__random_state=1;, score=0.659 total time=   7.9s\n",
      "[CV 9/10] END randomforest__max_depth=16, randomforest__max_features=0.4, randomforest__min_samples_leaf=2, randomforest__n_estimators=135, randomforest__random_state=1;, score=0.682 total time=   7.9s\n",
      "[CV 10/10] END randomforest__max_depth=16, randomforest__max_features=0.4, randomforest__min_samples_leaf=2, randomforest__n_estimators=135, randomforest__random_state=1;, score=0.685 total time=   7.9s\n",
      "[CV 1/10] END randomforest__max_depth=16, randomforest__max_features=0.4, randomforest__min_samples_leaf=2, randomforest__n_estimators=140, randomforest__random_state=1;, score=0.690 total time=   8.2s\n",
      "[CV 2/10] END randomforest__max_depth=16, randomforest__max_features=0.4, randomforest__min_samples_leaf=2, randomforest__n_estimators=140, randomforest__random_state=1;, score=0.702 total time=   7.7s\n",
      "[CV 3/10] END randomforest__max_depth=16, randomforest__max_features=0.4, randomforest__min_samples_leaf=2, randomforest__n_estimators=140, randomforest__random_state=1;, score=0.687 total time=   8.2s\n",
      "[CV 4/10] END randomforest__max_depth=16, randomforest__max_features=0.4, randomforest__min_samples_leaf=2, randomforest__n_estimators=140, randomforest__random_state=1;, score=0.717 total time=   7.9s\n",
      "[CV 5/10] END randomforest__max_depth=16, randomforest__max_features=0.4, randomforest__min_samples_leaf=2, randomforest__n_estimators=140, randomforest__random_state=1;, score=0.708 total time=   8.2s\n",
      "[CV 6/10] END randomforest__max_depth=16, randomforest__max_features=0.4, randomforest__min_samples_leaf=2, randomforest__n_estimators=140, randomforest__random_state=1;, score=0.662 total time=   8.1s\n",
      "[CV 7/10] END randomforest__max_depth=16, randomforest__max_features=0.4, randomforest__min_samples_leaf=2, randomforest__n_estimators=140, randomforest__random_state=1;, score=0.695 total time=   8.1s\n",
      "[CV 8/10] END randomforest__max_depth=16, randomforest__max_features=0.4, randomforest__min_samples_leaf=2, randomforest__n_estimators=140, randomforest__random_state=1;, score=0.662 total time=   8.3s\n",
      "[CV 9/10] END randomforest__max_depth=16, randomforest__max_features=0.4, randomforest__min_samples_leaf=2, randomforest__n_estimators=140, randomforest__random_state=1;, score=0.686 total time=   8.3s\n",
      "[CV 10/10] END randomforest__max_depth=16, randomforest__max_features=0.4, randomforest__min_samples_leaf=2, randomforest__n_estimators=140, randomforest__random_state=1;, score=0.682 total time=   8.1s\n",
      "[CV 1/10] END randomforest__max_depth=16, randomforest__max_features=0.4, randomforest__min_samples_leaf=2, randomforest__n_estimators=145, randomforest__random_state=1;, score=0.683 total time=   8.6s\n",
      "[CV 2/10] END randomforest__max_depth=16, randomforest__max_features=0.4, randomforest__min_samples_leaf=2, randomforest__n_estimators=145, randomforest__random_state=1;, score=0.702 total time=   8.2s\n",
      "[CV 3/10] END randomforest__max_depth=16, randomforest__max_features=0.4, randomforest__min_samples_leaf=2, randomforest__n_estimators=145, randomforest__random_state=1;, score=0.687 total time=   8.4s\n",
      "[CV 4/10] END randomforest__max_depth=16, randomforest__max_features=0.4, randomforest__min_samples_leaf=2, randomforest__n_estimators=145, randomforest__random_state=1;, score=0.718 total time=   8.4s\n",
      "[CV 5/10] END randomforest__max_depth=16, randomforest__max_features=0.4, randomforest__min_samples_leaf=2, randomforest__n_estimators=145, randomforest__random_state=1;, score=0.705 total time=   8.6s\n",
      "[CV 6/10] END randomforest__max_depth=16, randomforest__max_features=0.4, randomforest__min_samples_leaf=2, randomforest__n_estimators=145, randomforest__random_state=1;, score=0.659 total time=   8.7s\n",
      "[CV 7/10] END randomforest__max_depth=16, randomforest__max_features=0.4, randomforest__min_samples_leaf=2, randomforest__n_estimators=145, randomforest__random_state=1;, score=0.700 total time=   9.1s\n",
      "[CV 8/10] END randomforest__max_depth=16, randomforest__max_features=0.4, randomforest__min_samples_leaf=2, randomforest__n_estimators=145, randomforest__random_state=1;, score=0.662 total time=   8.6s\n",
      "[CV 9/10] END randomforest__max_depth=16, randomforest__max_features=0.4, randomforest__min_samples_leaf=2, randomforest__n_estimators=145, randomforest__random_state=1;, score=0.681 total time=   8.6s\n",
      "[CV 10/10] END randomforest__max_depth=16, randomforest__max_features=0.4, randomforest__min_samples_leaf=2, randomforest__n_estimators=145, randomforest__random_state=1;, score=0.685 total time=   8.6s\n",
      "[CV 1/10] END randomforest__max_depth=16, randomforest__max_features=0.4, randomforest__min_samples_leaf=3, randomforest__n_estimators=130, randomforest__random_state=1;, score=0.680 total time=   7.3s\n",
      "[CV 2/10] END randomforest__max_depth=16, randomforest__max_features=0.4, randomforest__min_samples_leaf=3, randomforest__n_estimators=130, randomforest__random_state=1;, score=0.693 total time=   7.3s\n",
      "[CV 3/10] END randomforest__max_depth=16, randomforest__max_features=0.4, randomforest__min_samples_leaf=3, randomforest__n_estimators=130, randomforest__random_state=1;, score=0.703 total time=   7.4s\n",
      "[CV 4/10] END randomforest__max_depth=16, randomforest__max_features=0.4, randomforest__min_samples_leaf=3, randomforest__n_estimators=130, randomforest__random_state=1;, score=0.706 total time=   7.6s\n",
      "[CV 5/10] END randomforest__max_depth=16, randomforest__max_features=0.4, randomforest__min_samples_leaf=3, randomforest__n_estimators=130, randomforest__random_state=1;, score=0.690 total time=   7.5s\n",
      "[CV 6/10] END randomforest__max_depth=16, randomforest__max_features=0.4, randomforest__min_samples_leaf=3, randomforest__n_estimators=130, randomforest__random_state=1;, score=0.673 total time=   7.3s\n",
      "[CV 7/10] END randomforest__max_depth=16, randomforest__max_features=0.4, randomforest__min_samples_leaf=3, randomforest__n_estimators=130, randomforest__random_state=1;, score=0.689 total time=   7.5s\n",
      "[CV 8/10] END randomforest__max_depth=16, randomforest__max_features=0.4, randomforest__min_samples_leaf=3, randomforest__n_estimators=130, randomforest__random_state=1;, score=0.683 total time=   7.3s\n",
      "[CV 9/10] END randomforest__max_depth=16, randomforest__max_features=0.4, randomforest__min_samples_leaf=3, randomforest__n_estimators=130, randomforest__random_state=1;, score=0.676 total time=   7.4s\n",
      "[CV 10/10] END randomforest__max_depth=16, randomforest__max_features=0.4, randomforest__min_samples_leaf=3, randomforest__n_estimators=130, randomforest__random_state=1;, score=0.670 total time=   7.3s\n",
      "[CV 1/10] END randomforest__max_depth=16, randomforest__max_features=0.4, randomforest__min_samples_leaf=3, randomforest__n_estimators=135, randomforest__random_state=1;, score=0.684 total time=   7.7s\n",
      "[CV 2/10] END randomforest__max_depth=16, randomforest__max_features=0.4, randomforest__min_samples_leaf=3, randomforest__n_estimators=135, randomforest__random_state=1;, score=0.688 total time=   7.3s\n",
      "[CV 3/10] END randomforest__max_depth=16, randomforest__max_features=0.4, randomforest__min_samples_leaf=3, randomforest__n_estimators=135, randomforest__random_state=1;, score=0.703 total time=   7.8s\n",
      "[CV 4/10] END randomforest__max_depth=16, randomforest__max_features=0.4, randomforest__min_samples_leaf=3, randomforest__n_estimators=135, randomforest__random_state=1;, score=0.711 total time=   7.6s\n",
      "[CV 5/10] END randomforest__max_depth=16, randomforest__max_features=0.4, randomforest__min_samples_leaf=3, randomforest__n_estimators=135, randomforest__random_state=1;, score=0.690 total time=   7.8s\n",
      "[CV 6/10] END randomforest__max_depth=16, randomforest__max_features=0.4, randomforest__min_samples_leaf=3, randomforest__n_estimators=135, randomforest__random_state=1;, score=0.657 total time=   7.6s\n",
      "[CV 7/10] END randomforest__max_depth=16, randomforest__max_features=0.4, randomforest__min_samples_leaf=3, randomforest__n_estimators=135, randomforest__random_state=1;, score=0.686 total time=   7.6s\n",
      "[CV 8/10] END randomforest__max_depth=16, randomforest__max_features=0.4, randomforest__min_samples_leaf=3, randomforest__n_estimators=135, randomforest__random_state=1;, score=0.691 total time=   7.6s\n",
      "[CV 9/10] END randomforest__max_depth=16, randomforest__max_features=0.4, randomforest__min_samples_leaf=3, randomforest__n_estimators=135, randomforest__random_state=1;, score=0.678 total time=   7.5s\n",
      "[CV 10/10] END randomforest__max_depth=16, randomforest__max_features=0.4, randomforest__min_samples_leaf=3, randomforest__n_estimators=135, randomforest__random_state=1;, score=0.671 total time=   7.5s\n",
      "[CV 1/10] END randomforest__max_depth=16, randomforest__max_features=0.4, randomforest__min_samples_leaf=3, randomforest__n_estimators=140, randomforest__random_state=1;, score=0.692 total time=   8.0s\n",
      "[CV 2/10] END randomforest__max_depth=16, randomforest__max_features=0.4, randomforest__min_samples_leaf=3, randomforest__n_estimators=140, randomforest__random_state=1;, score=0.693 total time=   7.7s\n",
      "[CV 3/10] END randomforest__max_depth=16, randomforest__max_features=0.4, randomforest__min_samples_leaf=3, randomforest__n_estimators=140, randomforest__random_state=1;, score=0.703 total time=   8.0s\n",
      "[CV 4/10] END randomforest__max_depth=16, randomforest__max_features=0.4, randomforest__min_samples_leaf=3, randomforest__n_estimators=140, randomforest__random_state=1;, score=0.711 total time=   8.0s\n",
      "[CV 5/10] END randomforest__max_depth=16, randomforest__max_features=0.4, randomforest__min_samples_leaf=3, randomforest__n_estimators=140, randomforest__random_state=1;, score=0.695 total time=   8.0s\n",
      "[CV 6/10] END randomforest__max_depth=16, randomforest__max_features=0.4, randomforest__min_samples_leaf=3, randomforest__n_estimators=140, randomforest__random_state=1;, score=0.652 total time=   8.0s\n",
      "[CV 7/10] END randomforest__max_depth=16, randomforest__max_features=0.4, randomforest__min_samples_leaf=3, randomforest__n_estimators=140, randomforest__random_state=1;, score=0.690 total time=   7.9s\n",
      "[CV 8/10] END randomforest__max_depth=16, randomforest__max_features=0.4, randomforest__min_samples_leaf=3, randomforest__n_estimators=140, randomforest__random_state=1;, score=0.688 total time=   7.7s\n",
      "[CV 9/10] END randomforest__max_depth=16, randomforest__max_features=0.4, randomforest__min_samples_leaf=3, randomforest__n_estimators=140, randomforest__random_state=1;, score=0.681 total time=   7.0s\n",
      "[CV 10/10] END randomforest__max_depth=16, randomforest__max_features=0.4, randomforest__min_samples_leaf=3, randomforest__n_estimators=140, randomforest__random_state=1;, score=0.671 total time=   7.1s\n",
      "[CV 1/10] END randomforest__max_depth=16, randomforest__max_features=0.4, randomforest__min_samples_leaf=3, randomforest__n_estimators=145, randomforest__random_state=1;, score=0.683 total time=   7.2s\n",
      "[CV 2/10] END randomforest__max_depth=16, randomforest__max_features=0.4, randomforest__min_samples_leaf=3, randomforest__n_estimators=145, randomforest__random_state=1;, score=0.685 total time=   7.3s\n",
      "[CV 3/10] END randomforest__max_depth=16, randomforest__max_features=0.4, randomforest__min_samples_leaf=3, randomforest__n_estimators=145, randomforest__random_state=1;, score=0.703 total time=   7.4s\n",
      "[CV 4/10] END randomforest__max_depth=16, randomforest__max_features=0.4, randomforest__min_samples_leaf=3, randomforest__n_estimators=145, randomforest__random_state=1;, score=0.692 total time=   7.3s\n",
      "[CV 5/10] END randomforest__max_depth=16, randomforest__max_features=0.4, randomforest__min_samples_leaf=3, randomforest__n_estimators=145, randomforest__random_state=1;, score=0.695 total time=   7.3s\n",
      "[CV 6/10] END randomforest__max_depth=16, randomforest__max_features=0.4, randomforest__min_samples_leaf=3, randomforest__n_estimators=145, randomforest__random_state=1;, score=0.654 total time=   7.3s\n",
      "[CV 7/10] END randomforest__max_depth=16, randomforest__max_features=0.4, randomforest__min_samples_leaf=3, randomforest__n_estimators=145, randomforest__random_state=1;, score=0.690 total time=   7.5s\n",
      "[CV 8/10] END randomforest__max_depth=16, randomforest__max_features=0.4, randomforest__min_samples_leaf=3, randomforest__n_estimators=145, randomforest__random_state=1;, score=0.688 total time=   7.3s\n",
      "[CV 9/10] END randomforest__max_depth=16, randomforest__max_features=0.4, randomforest__min_samples_leaf=3, randomforest__n_estimators=145, randomforest__random_state=1;, score=0.683 total time=   7.3s\n",
      "[CV 10/10] END randomforest__max_depth=16, randomforest__max_features=0.4, randomforest__min_samples_leaf=3, randomforest__n_estimators=145, randomforest__random_state=1;, score=0.671 total time=   7.2s\n",
      "[CV 1/10] END randomforest__max_depth=16, randomforest__max_features=0.5, randomforest__min_samples_leaf=2, randomforest__n_estimators=130, randomforest__random_state=1;, score=0.693 total time=   8.3s\n",
      "[CV 2/10] END randomforest__max_depth=16, randomforest__max_features=0.5, randomforest__min_samples_leaf=2, randomforest__n_estimators=130, randomforest__random_state=1;, score=0.706 total time=   8.2s\n",
      "[CV 3/10] END randomforest__max_depth=16, randomforest__max_features=0.5, randomforest__min_samples_leaf=2, randomforest__n_estimators=130, randomforest__random_state=1;, score=0.689 total time=   8.4s\n",
      "[CV 4/10] END randomforest__max_depth=16, randomforest__max_features=0.5, randomforest__min_samples_leaf=2, randomforest__n_estimators=130, randomforest__random_state=1;, score=0.699 total time=   8.6s\n",
      "[CV 5/10] END randomforest__max_depth=16, randomforest__max_features=0.5, randomforest__min_samples_leaf=2, randomforest__n_estimators=130, randomforest__random_state=1;, score=0.707 total time=   8.4s\n",
      "[CV 6/10] END randomforest__max_depth=16, randomforest__max_features=0.5, randomforest__min_samples_leaf=2, randomforest__n_estimators=130, randomforest__random_state=1;, score=0.660 total time=   8.3s\n",
      "[CV 7/10] END randomforest__max_depth=16, randomforest__max_features=0.5, randomforest__min_samples_leaf=2, randomforest__n_estimators=130, randomforest__random_state=1;, score=0.695 total time=   8.5s\n",
      "[CV 8/10] END randomforest__max_depth=16, randomforest__max_features=0.5, randomforest__min_samples_leaf=2, randomforest__n_estimators=130, randomforest__random_state=1;, score=0.669 total time=   8.4s\n",
      "[CV 9/10] END randomforest__max_depth=16, randomforest__max_features=0.5, randomforest__min_samples_leaf=2, randomforest__n_estimators=130, randomforest__random_state=1;, score=0.671 total time=   8.4s\n",
      "[CV 10/10] END randomforest__max_depth=16, randomforest__max_features=0.5, randomforest__min_samples_leaf=2, randomforest__n_estimators=130, randomforest__random_state=1;, score=0.681 total time=   8.4s\n",
      "[CV 1/10] END randomforest__max_depth=16, randomforest__max_features=0.5, randomforest__min_samples_leaf=2, randomforest__n_estimators=135, randomforest__random_state=1;, score=0.693 total time=   8.7s\n",
      "[CV 2/10] END randomforest__max_depth=16, randomforest__max_features=0.5, randomforest__min_samples_leaf=2, randomforest__n_estimators=135, randomforest__random_state=1;, score=0.709 total time=   8.7s\n",
      "[CV 3/10] END randomforest__max_depth=16, randomforest__max_features=0.5, randomforest__min_samples_leaf=2, randomforest__n_estimators=135, randomforest__random_state=1;, score=0.698 total time=   9.0s\n",
      "[CV 4/10] END randomforest__max_depth=16, randomforest__max_features=0.5, randomforest__min_samples_leaf=2, randomforest__n_estimators=135, randomforest__random_state=1;, score=0.703 total time=   8.8s\n",
      "[CV 5/10] END randomforest__max_depth=16, randomforest__max_features=0.5, randomforest__min_samples_leaf=2, randomforest__n_estimators=135, randomforest__random_state=1;, score=0.711 total time=   8.8s\n",
      "[CV 6/10] END randomforest__max_depth=16, randomforest__max_features=0.5, randomforest__min_samples_leaf=2, randomforest__n_estimators=135, randomforest__random_state=1;, score=0.658 total time=   8.9s\n",
      "[CV 7/10] END randomforest__max_depth=16, randomforest__max_features=0.5, randomforest__min_samples_leaf=2, randomforest__n_estimators=135, randomforest__random_state=1;, score=0.698 total time=   8.8s\n",
      "[CV 8/10] END randomforest__max_depth=16, randomforest__max_features=0.5, randomforest__min_samples_leaf=2, randomforest__n_estimators=135, randomforest__random_state=1;, score=0.669 total time=   8.7s\n",
      "[CV 9/10] END randomforest__max_depth=16, randomforest__max_features=0.5, randomforest__min_samples_leaf=2, randomforest__n_estimators=135, randomforest__random_state=1;, score=0.671 total time=   8.6s\n",
      "[CV 10/10] END randomforest__max_depth=16, randomforest__max_features=0.5, randomforest__min_samples_leaf=2, randomforest__n_estimators=135, randomforest__random_state=1;, score=0.681 total time=   8.7s\n",
      "[CV 1/10] END randomforest__max_depth=16, randomforest__max_features=0.5, randomforest__min_samples_leaf=2, randomforest__n_estimators=140, randomforest__random_state=1;, score=0.688 total time=   9.0s\n",
      "[CV 2/10] END randomforest__max_depth=16, randomforest__max_features=0.5, randomforest__min_samples_leaf=2, randomforest__n_estimators=140, randomforest__random_state=1;, score=0.713 total time=   8.9s\n",
      "[CV 3/10] END randomforest__max_depth=16, randomforest__max_features=0.5, randomforest__min_samples_leaf=2, randomforest__n_estimators=140, randomforest__random_state=1;, score=0.693 total time=   9.2s\n",
      "[CV 4/10] END randomforest__max_depth=16, randomforest__max_features=0.5, randomforest__min_samples_leaf=2, randomforest__n_estimators=140, randomforest__random_state=1;, score=0.702 total time=   9.0s\n",
      "[CV 5/10] END randomforest__max_depth=16, randomforest__max_features=0.5, randomforest__min_samples_leaf=2, randomforest__n_estimators=140, randomforest__random_state=1;, score=0.710 total time=   9.2s\n",
      "[CV 6/10] END randomforest__max_depth=16, randomforest__max_features=0.5, randomforest__min_samples_leaf=2, randomforest__n_estimators=140, randomforest__random_state=1;, score=0.657 total time=   8.8s\n",
      "[CV 7/10] END randomforest__max_depth=16, randomforest__max_features=0.5, randomforest__min_samples_leaf=2, randomforest__n_estimators=140, randomforest__random_state=1;, score=0.695 total time=   8.9s\n",
      "[CV 8/10] END randomforest__max_depth=16, randomforest__max_features=0.5, randomforest__min_samples_leaf=2, randomforest__n_estimators=140, randomforest__random_state=1;, score=0.673 total time=   8.9s\n",
      "[CV 9/10] END randomforest__max_depth=16, randomforest__max_features=0.5, randomforest__min_samples_leaf=2, randomforest__n_estimators=140, randomforest__random_state=1;, score=0.676 total time=   8.7s\n",
      "[CV 10/10] END randomforest__max_depth=16, randomforest__max_features=0.5, randomforest__min_samples_leaf=2, randomforest__n_estimators=140, randomforest__random_state=1;, score=0.681 total time=   9.1s\n",
      "[CV 1/10] END randomforest__max_depth=16, randomforest__max_features=0.5, randomforest__min_samples_leaf=2, randomforest__n_estimators=145, randomforest__random_state=1;, score=0.688 total time=   9.4s\n",
      "[CV 2/10] END randomforest__max_depth=16, randomforest__max_features=0.5, randomforest__min_samples_leaf=2, randomforest__n_estimators=145, randomforest__random_state=1;, score=0.712 total time=   9.3s\n",
      "[CV 3/10] END randomforest__max_depth=16, randomforest__max_features=0.5, randomforest__min_samples_leaf=2, randomforest__n_estimators=145, randomforest__random_state=1;, score=0.693 total time=   9.7s\n",
      "[CV 4/10] END randomforest__max_depth=16, randomforest__max_features=0.5, randomforest__min_samples_leaf=2, randomforest__n_estimators=145, randomforest__random_state=1;, score=0.708 total time=   9.3s\n",
      "[CV 5/10] END randomforest__max_depth=16, randomforest__max_features=0.5, randomforest__min_samples_leaf=2, randomforest__n_estimators=145, randomforest__random_state=1;, score=0.710 total time=   9.6s\n",
      "[CV 6/10] END randomforest__max_depth=16, randomforest__max_features=0.5, randomforest__min_samples_leaf=2, randomforest__n_estimators=145, randomforest__random_state=1;, score=0.658 total time=   9.5s\n",
      "[CV 7/10] END randomforest__max_depth=16, randomforest__max_features=0.5, randomforest__min_samples_leaf=2, randomforest__n_estimators=145, randomforest__random_state=1;, score=0.695 total time=   9.4s\n",
      "[CV 8/10] END randomforest__max_depth=16, randomforest__max_features=0.5, randomforest__min_samples_leaf=2, randomforest__n_estimators=145, randomforest__random_state=1;, score=0.673 total time=   9.4s\n",
      "[CV 9/10] END randomforest__max_depth=16, randomforest__max_features=0.5, randomforest__min_samples_leaf=2, randomforest__n_estimators=145, randomforest__random_state=1;, score=0.676 total time=   9.3s\n",
      "[CV 10/10] END randomforest__max_depth=16, randomforest__max_features=0.5, randomforest__min_samples_leaf=2, randomforest__n_estimators=145, randomforest__random_state=1;, score=0.681 total time=   9.3s\n",
      "[CV 1/10] END randomforest__max_depth=16, randomforest__max_features=0.5, randomforest__min_samples_leaf=3, randomforest__n_estimators=130, randomforest__random_state=1;, score=0.697 total time=   7.8s\n",
      "[CV 2/10] END randomforest__max_depth=16, randomforest__max_features=0.5, randomforest__min_samples_leaf=3, randomforest__n_estimators=130, randomforest__random_state=1;, score=0.683 total time=   7.8s\n",
      "[CV 3/10] END randomforest__max_depth=16, randomforest__max_features=0.5, randomforest__min_samples_leaf=3, randomforest__n_estimators=130, randomforest__random_state=1;, score=0.683 total time=   8.1s\n",
      "[CV 4/10] END randomforest__max_depth=16, randomforest__max_features=0.5, randomforest__min_samples_leaf=3, randomforest__n_estimators=130, randomforest__random_state=1;, score=0.723 total time=   8.0s\n",
      "[CV 5/10] END randomforest__max_depth=16, randomforest__max_features=0.5, randomforest__min_samples_leaf=3, randomforest__n_estimators=130, randomforest__random_state=1;, score=0.683 total time=   8.0s\n",
      "[CV 6/10] END randomforest__max_depth=16, randomforest__max_features=0.5, randomforest__min_samples_leaf=3, randomforest__n_estimators=130, randomforest__random_state=1;, score=0.670 total time=   8.0s\n",
      "[CV 7/10] END randomforest__max_depth=16, randomforest__max_features=0.5, randomforest__min_samples_leaf=3, randomforest__n_estimators=130, randomforest__random_state=1;, score=0.700 total time=   8.1s\n",
      "[CV 8/10] END randomforest__max_depth=16, randomforest__max_features=0.5, randomforest__min_samples_leaf=3, randomforest__n_estimators=130, randomforest__random_state=1;, score=0.670 total time=   7.9s\n",
      "[CV 9/10] END randomforest__max_depth=16, randomforest__max_features=0.5, randomforest__min_samples_leaf=3, randomforest__n_estimators=130, randomforest__random_state=1;, score=0.660 total time=   8.2s\n",
      "[CV 10/10] END randomforest__max_depth=16, randomforest__max_features=0.5, randomforest__min_samples_leaf=3, randomforest__n_estimators=130, randomforest__random_state=1;, score=0.687 total time=   8.1s\n",
      "[CV 1/10] END randomforest__max_depth=16, randomforest__max_features=0.5, randomforest__min_samples_leaf=3, randomforest__n_estimators=135, randomforest__random_state=1;, score=0.697 total time=   8.3s\n",
      "[CV 2/10] END randomforest__max_depth=16, randomforest__max_features=0.5, randomforest__min_samples_leaf=3, randomforest__n_estimators=135, randomforest__random_state=1;, score=0.691 total time=   8.2s\n",
      "[CV 3/10] END randomforest__max_depth=16, randomforest__max_features=0.5, randomforest__min_samples_leaf=3, randomforest__n_estimators=135, randomforest__random_state=1;, score=0.677 total time=   8.5s\n",
      "[CV 4/10] END randomforest__max_depth=16, randomforest__max_features=0.5, randomforest__min_samples_leaf=3, randomforest__n_estimators=135, randomforest__random_state=1;, score=0.715 total time=   8.3s\n",
      "[CV 5/10] END randomforest__max_depth=16, randomforest__max_features=0.5, randomforest__min_samples_leaf=3, randomforest__n_estimators=135, randomforest__random_state=1;, score=0.677 total time=   8.5s\n",
      "[CV 6/10] END randomforest__max_depth=16, randomforest__max_features=0.5, randomforest__min_samples_leaf=3, randomforest__n_estimators=135, randomforest__random_state=1;, score=0.682 total time=   8.2s\n",
      "[CV 7/10] END randomforest__max_depth=16, randomforest__max_features=0.5, randomforest__min_samples_leaf=3, randomforest__n_estimators=135, randomforest__random_state=1;, score=0.710 total time=   8.2s\n",
      "[CV 8/10] END randomforest__max_depth=16, randomforest__max_features=0.5, randomforest__min_samples_leaf=3, randomforest__n_estimators=135, randomforest__random_state=1;, score=0.673 total time=   8.1s\n",
      "[CV 9/10] END randomforest__max_depth=16, randomforest__max_features=0.5, randomforest__min_samples_leaf=3, randomforest__n_estimators=135, randomforest__random_state=1;, score=0.670 total time=   8.2s\n",
      "[CV 10/10] END randomforest__max_depth=16, randomforest__max_features=0.5, randomforest__min_samples_leaf=3, randomforest__n_estimators=135, randomforest__random_state=1;, score=0.681 total time=   8.3s\n",
      "[CV 1/10] END randomforest__max_depth=16, randomforest__max_features=0.5, randomforest__min_samples_leaf=3, randomforest__n_estimators=140, randomforest__random_state=1;, score=0.703 total time=   8.6s\n",
      "[CV 2/10] END randomforest__max_depth=16, randomforest__max_features=0.5, randomforest__min_samples_leaf=3, randomforest__n_estimators=140, randomforest__random_state=1;, score=0.696 total time=   8.4s\n",
      "[CV 3/10] END randomforest__max_depth=16, randomforest__max_features=0.5, randomforest__min_samples_leaf=3, randomforest__n_estimators=140, randomforest__random_state=1;, score=0.687 total time=   8.6s\n",
      "[CV 4/10] END randomforest__max_depth=16, randomforest__max_features=0.5, randomforest__min_samples_leaf=3, randomforest__n_estimators=140, randomforest__random_state=1;, score=0.726 total time=   8.6s\n",
      "[CV 5/10] END randomforest__max_depth=16, randomforest__max_features=0.5, randomforest__min_samples_leaf=3, randomforest__n_estimators=140, randomforest__random_state=1;, score=0.684 total time=   8.9s\n",
      "[CV 6/10] END randomforest__max_depth=16, randomforest__max_features=0.5, randomforest__min_samples_leaf=3, randomforest__n_estimators=140, randomforest__random_state=1;, score=0.675 total time=   8.6s\n",
      "[CV 7/10] END randomforest__max_depth=16, randomforest__max_features=0.5, randomforest__min_samples_leaf=3, randomforest__n_estimators=140, randomforest__random_state=1;, score=0.707 total time=   8.4s\n",
      "[CV 8/10] END randomforest__max_depth=16, randomforest__max_features=0.5, randomforest__min_samples_leaf=3, randomforest__n_estimators=140, randomforest__random_state=1;, score=0.668 total time=   8.5s\n",
      "[CV 9/10] END randomforest__max_depth=16, randomforest__max_features=0.5, randomforest__min_samples_leaf=3, randomforest__n_estimators=140, randomforest__random_state=1;, score=0.670 total time=   8.4s\n",
      "[CV 10/10] END randomforest__max_depth=16, randomforest__max_features=0.5, randomforest__min_samples_leaf=3, randomforest__n_estimators=140, randomforest__random_state=1;, score=0.683 total time=   8.6s\n",
      "[CV 1/10] END randomforest__max_depth=16, randomforest__max_features=0.5, randomforest__min_samples_leaf=3, randomforest__n_estimators=145, randomforest__random_state=1;, score=0.705 total time=   8.9s\n",
      "[CV 2/10] END randomforest__max_depth=16, randomforest__max_features=0.5, randomforest__min_samples_leaf=3, randomforest__n_estimators=145, randomforest__random_state=1;, score=0.691 total time=   8.8s\n",
      "[CV 3/10] END randomforest__max_depth=16, randomforest__max_features=0.5, randomforest__min_samples_leaf=3, randomforest__n_estimators=145, randomforest__random_state=1;, score=0.687 total time=   9.1s\n",
      "[CV 4/10] END randomforest__max_depth=16, randomforest__max_features=0.5, randomforest__min_samples_leaf=3, randomforest__n_estimators=145, randomforest__random_state=1;, score=0.718 total time=   8.9s\n",
      "[CV 5/10] END randomforest__max_depth=16, randomforest__max_features=0.5, randomforest__min_samples_leaf=3, randomforest__n_estimators=145, randomforest__random_state=1;, score=0.689 total time=   9.0s\n",
      "[CV 6/10] END randomforest__max_depth=16, randomforest__max_features=0.5, randomforest__min_samples_leaf=3, randomforest__n_estimators=145, randomforest__random_state=1;, score=0.664 total time=   8.8s\n",
      "[CV 7/10] END randomforest__max_depth=16, randomforest__max_features=0.5, randomforest__min_samples_leaf=3, randomforest__n_estimators=145, randomforest__random_state=1;, score=0.711 total time=   9.0s\n",
      "[CV 8/10] END randomforest__max_depth=16, randomforest__max_features=0.5, randomforest__min_samples_leaf=3, randomforest__n_estimators=145, randomforest__random_state=1;, score=0.668 total time=   8.8s\n",
      "[CV 9/10] END randomforest__max_depth=16, randomforest__max_features=0.5, randomforest__min_samples_leaf=3, randomforest__n_estimators=145, randomforest__random_state=1;, score=0.673 total time=   8.8s\n",
      "[CV 10/10] END randomforest__max_depth=16, randomforest__max_features=0.5, randomforest__min_samples_leaf=3, randomforest__n_estimators=145, randomforest__random_state=1;, score=0.686 total time=   8.8s\n",
      "[CV 1/10] END randomforest__max_depth=17, randomforest__max_features=0.4, randomforest__min_samples_leaf=2, randomforest__n_estimators=130, randomforest__random_state=1;, score=0.688 total time=   6.9s\n",
      "[CV 2/10] END randomforest__max_depth=17, randomforest__max_features=0.4, randomforest__min_samples_leaf=2, randomforest__n_estimators=130, randomforest__random_state=1;, score=0.708 total time=   6.8s\n",
      "[CV 3/10] END randomforest__max_depth=17, randomforest__max_features=0.4, randomforest__min_samples_leaf=2, randomforest__n_estimators=130, randomforest__random_state=1;, score=0.682 total time=   6.9s\n",
      "[CV 4/10] END randomforest__max_depth=17, randomforest__max_features=0.4, randomforest__min_samples_leaf=2, randomforest__n_estimators=130, randomforest__random_state=1;, score=0.720 total time=   6.9s\n",
      "[CV 5/10] END randomforest__max_depth=17, randomforest__max_features=0.4, randomforest__min_samples_leaf=2, randomforest__n_estimators=130, randomforest__random_state=1;, score=0.706 total time=   7.0s\n",
      "[CV 6/10] END randomforest__max_depth=17, randomforest__max_features=0.4, randomforest__min_samples_leaf=2, randomforest__n_estimators=130, randomforest__random_state=1;, score=0.657 total time=   7.0s\n",
      "[CV 7/10] END randomforest__max_depth=17, randomforest__max_features=0.4, randomforest__min_samples_leaf=2, randomforest__n_estimators=130, randomforest__random_state=1;, score=0.706 total time=   6.9s\n",
      "[CV 8/10] END randomforest__max_depth=17, randomforest__max_features=0.4, randomforest__min_samples_leaf=2, randomforest__n_estimators=130, randomforest__random_state=1;, score=0.656 total time=   7.0s\n",
      "[CV 9/10] END randomforest__max_depth=17, randomforest__max_features=0.4, randomforest__min_samples_leaf=2, randomforest__n_estimators=130, randomforest__random_state=1;, score=0.675 total time=   6.8s\n",
      "[CV 10/10] END randomforest__max_depth=17, randomforest__max_features=0.4, randomforest__min_samples_leaf=2, randomforest__n_estimators=130, randomforest__random_state=1;, score=0.683 total time=   7.0s\n",
      "[CV 1/10] END randomforest__max_depth=17, randomforest__max_features=0.4, randomforest__min_samples_leaf=2, randomforest__n_estimators=135, randomforest__random_state=1;, score=0.693 total time=   7.4s\n",
      "[CV 2/10] END randomforest__max_depth=17, randomforest__max_features=0.4, randomforest__min_samples_leaf=2, randomforest__n_estimators=135, randomforest__random_state=1;, score=0.707 total time=   7.1s\n",
      "[CV 3/10] END randomforest__max_depth=17, randomforest__max_features=0.4, randomforest__min_samples_leaf=2, randomforest__n_estimators=135, randomforest__random_state=1;, score=0.691 total time=   7.2s\n",
      "[CV 4/10] END randomforest__max_depth=17, randomforest__max_features=0.4, randomforest__min_samples_leaf=2, randomforest__n_estimators=135, randomforest__random_state=1;, score=0.720 total time=   7.0s\n",
      "[CV 5/10] END randomforest__max_depth=17, randomforest__max_features=0.4, randomforest__min_samples_leaf=2, randomforest__n_estimators=135, randomforest__random_state=1;, score=0.706 total time=   7.3s\n",
      "[CV 6/10] END randomforest__max_depth=17, randomforest__max_features=0.4, randomforest__min_samples_leaf=2, randomforest__n_estimators=135, randomforest__random_state=1;, score=0.654 total time=   7.2s\n",
      "[CV 7/10] END randomforest__max_depth=17, randomforest__max_features=0.4, randomforest__min_samples_leaf=2, randomforest__n_estimators=135, randomforest__random_state=1;, score=0.707 total time=   7.2s\n",
      "[CV 8/10] END randomforest__max_depth=17, randomforest__max_features=0.4, randomforest__min_samples_leaf=2, randomforest__n_estimators=135, randomforest__random_state=1;, score=0.656 total time=   7.2s\n",
      "[CV 9/10] END randomforest__max_depth=17, randomforest__max_features=0.4, randomforest__min_samples_leaf=2, randomforest__n_estimators=135, randomforest__random_state=1;, score=0.670 total time=   7.1s\n",
      "[CV 10/10] END randomforest__max_depth=17, randomforest__max_features=0.4, randomforest__min_samples_leaf=2, randomforest__n_estimators=135, randomforest__random_state=1;, score=0.677 total time=   7.1s\n",
      "[CV 1/10] END randomforest__max_depth=17, randomforest__max_features=0.4, randomforest__min_samples_leaf=2, randomforest__n_estimators=140, randomforest__random_state=1;, score=0.688 total time=   7.7s\n",
      "[CV 2/10] END randomforest__max_depth=17, randomforest__max_features=0.4, randomforest__min_samples_leaf=2, randomforest__n_estimators=140, randomforest__random_state=1;, score=0.704 total time=   7.3s\n",
      "[CV 3/10] END randomforest__max_depth=17, randomforest__max_features=0.4, randomforest__min_samples_leaf=2, randomforest__n_estimators=140, randomforest__random_state=1;, score=0.696 total time=   7.6s\n",
      "[CV 4/10] END randomforest__max_depth=17, randomforest__max_features=0.4, randomforest__min_samples_leaf=2, randomforest__n_estimators=140, randomforest__random_state=1;, score=0.715 total time=   7.4s\n",
      "[CV 5/10] END randomforest__max_depth=17, randomforest__max_features=0.4, randomforest__min_samples_leaf=2, randomforest__n_estimators=140, randomforest__random_state=1;, score=0.699 total time=   7.4s\n",
      "[CV 6/10] END randomforest__max_depth=17, randomforest__max_features=0.4, randomforest__min_samples_leaf=2, randomforest__n_estimators=140, randomforest__random_state=1;, score=0.648 total time=   7.3s\n",
      "[CV 7/10] END randomforest__max_depth=17, randomforest__max_features=0.4, randomforest__min_samples_leaf=2, randomforest__n_estimators=140, randomforest__random_state=1;, score=0.710 total time=   7.4s\n",
      "[CV 8/10] END randomforest__max_depth=17, randomforest__max_features=0.4, randomforest__min_samples_leaf=2, randomforest__n_estimators=140, randomforest__random_state=1;, score=0.651 total time=   7.3s\n",
      "[CV 9/10] END randomforest__max_depth=17, randomforest__max_features=0.4, randomforest__min_samples_leaf=2, randomforest__n_estimators=140, randomforest__random_state=1;, score=0.675 total time=   7.4s\n",
      "[CV 10/10] END randomforest__max_depth=17, randomforest__max_features=0.4, randomforest__min_samples_leaf=2, randomforest__n_estimators=140, randomforest__random_state=1;, score=0.678 total time=   7.7s\n",
      "[CV 1/10] END randomforest__max_depth=17, randomforest__max_features=0.4, randomforest__min_samples_leaf=2, randomforest__n_estimators=145, randomforest__random_state=1;, score=0.689 total time=   7.8s\n",
      "[CV 2/10] END randomforest__max_depth=17, randomforest__max_features=0.4, randomforest__min_samples_leaf=2, randomforest__n_estimators=145, randomforest__random_state=1;, score=0.707 total time=   7.5s\n",
      "[CV 3/10] END randomforest__max_depth=17, randomforest__max_features=0.4, randomforest__min_samples_leaf=2, randomforest__n_estimators=145, randomforest__random_state=1;, score=0.693 total time=   7.8s\n",
      "[CV 4/10] END randomforest__max_depth=17, randomforest__max_features=0.4, randomforest__min_samples_leaf=2, randomforest__n_estimators=145, randomforest__random_state=1;, score=0.720 total time=   7.7s\n",
      "[CV 5/10] END randomforest__max_depth=17, randomforest__max_features=0.4, randomforest__min_samples_leaf=2, randomforest__n_estimators=145, randomforest__random_state=1;, score=0.714 total time=   7.8s\n",
      "[CV 6/10] END randomforest__max_depth=17, randomforest__max_features=0.4, randomforest__min_samples_leaf=2, randomforest__n_estimators=145, randomforest__random_state=1;, score=0.648 total time=   7.5s\n",
      "[CV 7/10] END randomforest__max_depth=17, randomforest__max_features=0.4, randomforest__min_samples_leaf=2, randomforest__n_estimators=145, randomforest__random_state=1;, score=0.706 total time=   7.4s\n",
      "[CV 8/10] END randomforest__max_depth=17, randomforest__max_features=0.4, randomforest__min_samples_leaf=2, randomforest__n_estimators=145, randomforest__random_state=1;, score=0.661 total time=   7.6s\n",
      "[CV 9/10] END randomforest__max_depth=17, randomforest__max_features=0.4, randomforest__min_samples_leaf=2, randomforest__n_estimators=145, randomforest__random_state=1;, score=0.673 total time=   7.5s\n",
      "[CV 10/10] END randomforest__max_depth=17, randomforest__max_features=0.4, randomforest__min_samples_leaf=2, randomforest__n_estimators=145, randomforest__random_state=1;, score=0.678 total time=   7.6s\n",
      "[CV 1/10] END randomforest__max_depth=17, randomforest__max_features=0.4, randomforest__min_samples_leaf=3, randomforest__n_estimators=130, randomforest__random_state=1;, score=0.704 total time=   6.5s\n",
      "[CV 2/10] END randomforest__max_depth=17, randomforest__max_features=0.4, randomforest__min_samples_leaf=3, randomforest__n_estimators=130, randomforest__random_state=1;, score=0.688 total time=   6.5s\n",
      "[CV 3/10] END randomforest__max_depth=17, randomforest__max_features=0.4, randomforest__min_samples_leaf=3, randomforest__n_estimators=130, randomforest__random_state=1;, score=0.696 total time=   6.7s\n",
      "[CV 4/10] END randomforest__max_depth=17, randomforest__max_features=0.4, randomforest__min_samples_leaf=3, randomforest__n_estimators=130, randomforest__random_state=1;, score=0.709 total time=   6.6s\n",
      "[CV 5/10] END randomforest__max_depth=17, randomforest__max_features=0.4, randomforest__min_samples_leaf=3, randomforest__n_estimators=130, randomforest__random_state=1;, score=0.695 total time=   6.8s\n",
      "[CV 6/10] END randomforest__max_depth=17, randomforest__max_features=0.4, randomforest__min_samples_leaf=3, randomforest__n_estimators=130, randomforest__random_state=1;, score=0.651 total time=   6.5s\n",
      "[CV 7/10] END randomforest__max_depth=17, randomforest__max_features=0.4, randomforest__min_samples_leaf=3, randomforest__n_estimators=130, randomforest__random_state=1;, score=0.685 total time=   6.6s\n",
      "[CV 8/10] END randomforest__max_depth=17, randomforest__max_features=0.4, randomforest__min_samples_leaf=3, randomforest__n_estimators=130, randomforest__random_state=1;, score=0.677 total time=   6.6s\n",
      "[CV 9/10] END randomforest__max_depth=17, randomforest__max_features=0.4, randomforest__min_samples_leaf=3, randomforest__n_estimators=130, randomforest__random_state=1;, score=0.666 total time=   6.6s\n",
      "[CV 10/10] END randomforest__max_depth=17, randomforest__max_features=0.4, randomforest__min_samples_leaf=3, randomforest__n_estimators=130, randomforest__random_state=1;, score=0.675 total time=   6.5s\n",
      "[CV 1/10] END randomforest__max_depth=17, randomforest__max_features=0.4, randomforest__min_samples_leaf=3, randomforest__n_estimators=135, randomforest__random_state=1;, score=0.709 total time=   6.9s\n",
      "[CV 2/10] END randomforest__max_depth=17, randomforest__max_features=0.4, randomforest__min_samples_leaf=3, randomforest__n_estimators=135, randomforest__random_state=1;, score=0.691 total time=   6.6s\n",
      "[CV 3/10] END randomforest__max_depth=17, randomforest__max_features=0.4, randomforest__min_samples_leaf=3, randomforest__n_estimators=135, randomforest__random_state=1;, score=0.689 total time=   7.1s\n",
      "[CV 4/10] END randomforest__max_depth=17, randomforest__max_features=0.4, randomforest__min_samples_leaf=3, randomforest__n_estimators=135, randomforest__random_state=1;, score=0.714 total time=   7.1s\n",
      "[CV 5/10] END randomforest__max_depth=17, randomforest__max_features=0.4, randomforest__min_samples_leaf=3, randomforest__n_estimators=135, randomforest__random_state=1;, score=0.701 total time=   7.0s\n",
      "[CV 6/10] END randomforest__max_depth=17, randomforest__max_features=0.4, randomforest__min_samples_leaf=3, randomforest__n_estimators=135, randomforest__random_state=1;, score=0.651 total time=   6.7s\n",
      "[CV 7/10] END randomforest__max_depth=17, randomforest__max_features=0.4, randomforest__min_samples_leaf=3, randomforest__n_estimators=135, randomforest__random_state=1;, score=0.685 total time=   6.7s\n",
      "[CV 8/10] END randomforest__max_depth=17, randomforest__max_features=0.4, randomforest__min_samples_leaf=3, randomforest__n_estimators=135, randomforest__random_state=1;, score=0.667 total time=   6.8s\n",
      "[CV 9/10] END randomforest__max_depth=17, randomforest__max_features=0.4, randomforest__min_samples_leaf=3, randomforest__n_estimators=135, randomforest__random_state=1;, score=0.663 total time=   6.9s\n",
      "[CV 10/10] END randomforest__max_depth=17, randomforest__max_features=0.4, randomforest__min_samples_leaf=3, randomforest__n_estimators=135, randomforest__random_state=1;, score=0.672 total time=   6.7s\n",
      "[CV 1/10] END randomforest__max_depth=17, randomforest__max_features=0.4, randomforest__min_samples_leaf=3, randomforest__n_estimators=140, randomforest__random_state=1;, score=0.709 total time=   7.2s\n",
      "[CV 2/10] END randomforest__max_depth=17, randomforest__max_features=0.4, randomforest__min_samples_leaf=3, randomforest__n_estimators=140, randomforest__random_state=1;, score=0.691 total time=   6.9s\n",
      "[CV 3/10] END randomforest__max_depth=17, randomforest__max_features=0.4, randomforest__min_samples_leaf=3, randomforest__n_estimators=140, randomforest__random_state=1;, score=0.694 total time=   7.3s\n",
      "[CV 4/10] END randomforest__max_depth=17, randomforest__max_features=0.4, randomforest__min_samples_leaf=3, randomforest__n_estimators=140, randomforest__random_state=1;, score=0.709 total time=   7.0s\n",
      "[CV 5/10] END randomforest__max_depth=17, randomforest__max_features=0.4, randomforest__min_samples_leaf=3, randomforest__n_estimators=140, randomforest__random_state=1;, score=0.685 total time=   7.8s\n",
      "[CV 6/10] END randomforest__max_depth=17, randomforest__max_features=0.4, randomforest__min_samples_leaf=3, randomforest__n_estimators=140, randomforest__random_state=1;, score=0.651 total time=   8.0s\n",
      "[CV 7/10] END randomforest__max_depth=17, randomforest__max_features=0.4, randomforest__min_samples_leaf=3, randomforest__n_estimators=140, randomforest__random_state=1;, score=0.685 total time=   8.1s\n",
      "[CV 8/10] END randomforest__max_depth=17, randomforest__max_features=0.4, randomforest__min_samples_leaf=3, randomforest__n_estimators=140, randomforest__random_state=1;, score=0.667 total time=   8.1s\n",
      "[CV 9/10] END randomforest__max_depth=17, randomforest__max_features=0.4, randomforest__min_samples_leaf=3, randomforest__n_estimators=140, randomforest__random_state=1;, score=0.666 total time=   7.3s\n",
      "[CV 10/10] END randomforest__max_depth=17, randomforest__max_features=0.4, randomforest__min_samples_leaf=3, randomforest__n_estimators=140, randomforest__random_state=1;, score=0.675 total time=   7.2s\n",
      "[CV 1/10] END randomforest__max_depth=17, randomforest__max_features=0.4, randomforest__min_samples_leaf=3, randomforest__n_estimators=145, randomforest__random_state=1;, score=0.709 total time=   7.9s\n",
      "[CV 2/10] END randomforest__max_depth=17, randomforest__max_features=0.4, randomforest__min_samples_leaf=3, randomforest__n_estimators=145, randomforest__random_state=1;, score=0.690 total time=   7.7s\n",
      "[CV 3/10] END randomforest__max_depth=17, randomforest__max_features=0.4, randomforest__min_samples_leaf=3, randomforest__n_estimators=145, randomforest__random_state=1;, score=0.691 total time=   7.9s\n",
      "[CV 4/10] END randomforest__max_depth=17, randomforest__max_features=0.4, randomforest__min_samples_leaf=3, randomforest__n_estimators=145, randomforest__random_state=1;, score=0.707 total time=   8.1s\n",
      "[CV 5/10] END randomforest__max_depth=17, randomforest__max_features=0.4, randomforest__min_samples_leaf=3, randomforest__n_estimators=145, randomforest__random_state=1;, score=0.689 total time=   8.5s\n",
      "[CV 6/10] END randomforest__max_depth=17, randomforest__max_features=0.4, randomforest__min_samples_leaf=3, randomforest__n_estimators=145, randomforest__random_state=1;, score=0.650 total time=   8.7s\n",
      "[CV 7/10] END randomforest__max_depth=17, randomforest__max_features=0.4, randomforest__min_samples_leaf=3, randomforest__n_estimators=145, randomforest__random_state=1;, score=0.695 total time=   7.8s\n",
      "[CV 8/10] END randomforest__max_depth=17, randomforest__max_features=0.4, randomforest__min_samples_leaf=3, randomforest__n_estimators=145, randomforest__random_state=1;, score=0.672 total time=   9.1s\n",
      "[CV 9/10] END randomforest__max_depth=17, randomforest__max_features=0.4, randomforest__min_samples_leaf=3, randomforest__n_estimators=145, randomforest__random_state=1;, score=0.661 total time=   7.4s\n",
      "[CV 10/10] END randomforest__max_depth=17, randomforest__max_features=0.4, randomforest__min_samples_leaf=3, randomforest__n_estimators=145, randomforest__random_state=1;, score=0.684 total time=   8.0s\n",
      "[CV 1/10] END randomforest__max_depth=17, randomforest__max_features=0.5, randomforest__min_samples_leaf=2, randomforest__n_estimators=130, randomforest__random_state=1;, score=0.681 total time=   9.5s\n",
      "[CV 2/10] END randomforest__max_depth=17, randomforest__max_features=0.5, randomforest__min_samples_leaf=2, randomforest__n_estimators=130, randomforest__random_state=1;, score=0.693 total time=   9.0s\n",
      "[CV 3/10] END randomforest__max_depth=17, randomforest__max_features=0.5, randomforest__min_samples_leaf=2, randomforest__n_estimators=130, randomforest__random_state=1;, score=0.694 total time=  10.5s\n",
      "[CV 4/10] END randomforest__max_depth=17, randomforest__max_features=0.5, randomforest__min_samples_leaf=2, randomforest__n_estimators=130, randomforest__random_state=1;, score=0.680 total time=  10.2s\n",
      "[CV 5/10] END randomforest__max_depth=17, randomforest__max_features=0.5, randomforest__min_samples_leaf=2, randomforest__n_estimators=130, randomforest__random_state=1;, score=0.703 total time=  10.8s\n",
      "[CV 6/10] END randomforest__max_depth=17, randomforest__max_features=0.5, randomforest__min_samples_leaf=2, randomforest__n_estimators=130, randomforest__random_state=1;, score=0.670 total time=   9.7s\n",
      "[CV 7/10] END randomforest__max_depth=17, randomforest__max_features=0.5, randomforest__min_samples_leaf=2, randomforest__n_estimators=130, randomforest__random_state=1;, score=0.705 total time=   9.1s\n",
      "[CV 8/10] END randomforest__max_depth=17, randomforest__max_features=0.5, randomforest__min_samples_leaf=2, randomforest__n_estimators=130, randomforest__random_state=1;, score=0.675 total time=   8.8s\n",
      "[CV 9/10] END randomforest__max_depth=17, randomforest__max_features=0.5, randomforest__min_samples_leaf=2, randomforest__n_estimators=130, randomforest__random_state=1;, score=0.660 total time=   8.9s\n",
      "[CV 10/10] END randomforest__max_depth=17, randomforest__max_features=0.5, randomforest__min_samples_leaf=2, randomforest__n_estimators=130, randomforest__random_state=1;, score=0.688 total time=  10.4s\n",
      "[CV 1/10] END randomforest__max_depth=17, randomforest__max_features=0.5, randomforest__min_samples_leaf=2, randomforest__n_estimators=135, randomforest__random_state=1;, score=0.681 total time=  10.9s\n",
      "[CV 2/10] END randomforest__max_depth=17, randomforest__max_features=0.5, randomforest__min_samples_leaf=2, randomforest__n_estimators=135, randomforest__random_state=1;, score=0.695 total time=  10.0s\n",
      "[CV 3/10] END randomforest__max_depth=17, randomforest__max_features=0.5, randomforest__min_samples_leaf=2, randomforest__n_estimators=135, randomforest__random_state=1;, score=0.694 total time=  10.0s\n",
      "[CV 4/10] END randomforest__max_depth=17, randomforest__max_features=0.5, randomforest__min_samples_leaf=2, randomforest__n_estimators=135, randomforest__random_state=1;, score=0.680 total time=   9.7s\n",
      "[CV 5/10] END randomforest__max_depth=17, randomforest__max_features=0.5, randomforest__min_samples_leaf=2, randomforest__n_estimators=135, randomforest__random_state=1;, score=0.695 total time=   9.4s\n",
      "[CV 6/10] END randomforest__max_depth=17, randomforest__max_features=0.5, randomforest__min_samples_leaf=2, randomforest__n_estimators=135, randomforest__random_state=1;, score=0.670 total time=   9.6s\n",
      "[CV 7/10] END randomforest__max_depth=17, randomforest__max_features=0.5, randomforest__min_samples_leaf=2, randomforest__n_estimators=135, randomforest__random_state=1;, score=0.705 total time=   9.2s\n",
      "[CV 8/10] END randomforest__max_depth=17, randomforest__max_features=0.5, randomforest__min_samples_leaf=2, randomforest__n_estimators=135, randomforest__random_state=1;, score=0.669 total time=   8.9s\n",
      "[CV 9/10] END randomforest__max_depth=17, randomforest__max_features=0.5, randomforest__min_samples_leaf=2, randomforest__n_estimators=135, randomforest__random_state=1;, score=0.660 total time=   9.1s\n",
      "[CV 10/10] END randomforest__max_depth=17, randomforest__max_features=0.5, randomforest__min_samples_leaf=2, randomforest__n_estimators=135, randomforest__random_state=1;, score=0.680 total time=   9.8s\n",
      "[CV 1/10] END randomforest__max_depth=17, randomforest__max_features=0.5, randomforest__min_samples_leaf=2, randomforest__n_estimators=140, randomforest__random_state=1;, score=0.678 total time=  10.0s\n",
      "[CV 2/10] END randomforest__max_depth=17, randomforest__max_features=0.5, randomforest__min_samples_leaf=2, randomforest__n_estimators=140, randomforest__random_state=1;, score=0.695 total time=  10.5s\n",
      "[CV 3/10] END randomforest__max_depth=17, randomforest__max_features=0.5, randomforest__min_samples_leaf=2, randomforest__n_estimators=140, randomforest__random_state=1;, score=0.684 total time=   9.7s\n",
      "[CV 4/10] END randomforest__max_depth=17, randomforest__max_features=0.5, randomforest__min_samples_leaf=2, randomforest__n_estimators=140, randomforest__random_state=1;, score=0.685 total time=   9.2s\n",
      "[CV 5/10] END randomforest__max_depth=17, randomforest__max_features=0.5, randomforest__min_samples_leaf=2, randomforest__n_estimators=140, randomforest__random_state=1;, score=0.695 total time=   9.3s\n",
      "[CV 6/10] END randomforest__max_depth=17, randomforest__max_features=0.5, randomforest__min_samples_leaf=2, randomforest__n_estimators=140, randomforest__random_state=1;, score=0.670 total time=   9.2s\n",
      "[CV 7/10] END randomforest__max_depth=17, randomforest__max_features=0.5, randomforest__min_samples_leaf=2, randomforest__n_estimators=140, randomforest__random_state=1;, score=0.699 total time=   9.2s\n",
      "[CV 8/10] END randomforest__max_depth=17, randomforest__max_features=0.5, randomforest__min_samples_leaf=2, randomforest__n_estimators=140, randomforest__random_state=1;, score=0.674 total time=   9.3s\n",
      "[CV 9/10] END randomforest__max_depth=17, randomforest__max_features=0.5, randomforest__min_samples_leaf=2, randomforest__n_estimators=140, randomforest__random_state=1;, score=0.660 total time=   9.3s\n",
      "[CV 10/10] END randomforest__max_depth=17, randomforest__max_features=0.5, randomforest__min_samples_leaf=2, randomforest__n_estimators=140, randomforest__random_state=1;, score=0.688 total time=   9.3s\n",
      "[CV 1/10] END randomforest__max_depth=17, randomforest__max_features=0.5, randomforest__min_samples_leaf=2, randomforest__n_estimators=145, randomforest__random_state=1;, score=0.678 total time=   9.6s\n",
      "[CV 2/10] END randomforest__max_depth=17, randomforest__max_features=0.5, randomforest__min_samples_leaf=2, randomforest__n_estimators=145, randomforest__random_state=1;, score=0.692 total time=   9.6s\n",
      "[CV 3/10] END randomforest__max_depth=17, randomforest__max_features=0.5, randomforest__min_samples_leaf=2, randomforest__n_estimators=145, randomforest__random_state=1;, score=0.698 total time=   9.8s\n",
      "[CV 4/10] END randomforest__max_depth=17, randomforest__max_features=0.5, randomforest__min_samples_leaf=2, randomforest__n_estimators=145, randomforest__random_state=1;, score=0.692 total time=   9.4s\n",
      "[CV 5/10] END randomforest__max_depth=17, randomforest__max_features=0.5, randomforest__min_samples_leaf=2, randomforest__n_estimators=145, randomforest__random_state=1;, score=0.695 total time=   9.8s\n",
      "[CV 6/10] END randomforest__max_depth=17, randomforest__max_features=0.5, randomforest__min_samples_leaf=2, randomforest__n_estimators=145, randomforest__random_state=1;, score=0.670 total time=   9.6s\n",
      "[CV 7/10] END randomforest__max_depth=17, randomforest__max_features=0.5, randomforest__min_samples_leaf=2, randomforest__n_estimators=145, randomforest__random_state=1;, score=0.705 total time=   9.7s\n",
      "[CV 8/10] END randomforest__max_depth=17, randomforest__max_features=0.5, randomforest__min_samples_leaf=2, randomforest__n_estimators=145, randomforest__random_state=1;, score=0.678 total time=   9.5s\n",
      "[CV 9/10] END randomforest__max_depth=17, randomforest__max_features=0.5, randomforest__min_samples_leaf=2, randomforest__n_estimators=145, randomforest__random_state=1;, score=0.661 total time=   9.4s\n",
      "[CV 10/10] END randomforest__max_depth=17, randomforest__max_features=0.5, randomforest__min_samples_leaf=2, randomforest__n_estimators=145, randomforest__random_state=1;, score=0.688 total time=   9.6s\n",
      "[CV 1/10] END randomforest__max_depth=17, randomforest__max_features=0.5, randomforest__min_samples_leaf=3, randomforest__n_estimators=130, randomforest__random_state=1;, score=0.697 total time=   8.2s\n",
      "[CV 2/10] END randomforest__max_depth=17, randomforest__max_features=0.5, randomforest__min_samples_leaf=3, randomforest__n_estimators=130, randomforest__random_state=1;, score=0.688 total time=   8.0s\n",
      "[CV 3/10] END randomforest__max_depth=17, randomforest__max_features=0.5, randomforest__min_samples_leaf=3, randomforest__n_estimators=130, randomforest__random_state=1;, score=0.678 total time=   8.3s\n",
      "[CV 4/10] END randomforest__max_depth=17, randomforest__max_features=0.5, randomforest__min_samples_leaf=3, randomforest__n_estimators=130, randomforest__random_state=1;, score=0.706 total time=   8.2s\n",
      "[CV 5/10] END randomforest__max_depth=17, randomforest__max_features=0.5, randomforest__min_samples_leaf=3, randomforest__n_estimators=130, randomforest__random_state=1;, score=0.698 total time=   8.2s\n",
      "[CV 6/10] END randomforest__max_depth=17, randomforest__max_features=0.5, randomforest__min_samples_leaf=3, randomforest__n_estimators=130, randomforest__random_state=1;, score=0.658 total time=   8.1s\n",
      "[CV 7/10] END randomforest__max_depth=17, randomforest__max_features=0.5, randomforest__min_samples_leaf=3, randomforest__n_estimators=130, randomforest__random_state=1;, score=0.716 total time=   8.2s\n",
      "[CV 8/10] END randomforest__max_depth=17, randomforest__max_features=0.5, randomforest__min_samples_leaf=3, randomforest__n_estimators=130, randomforest__random_state=1;, score=0.677 total time=   8.2s\n",
      "[CV 9/10] END randomforest__max_depth=17, randomforest__max_features=0.5, randomforest__min_samples_leaf=3, randomforest__n_estimators=130, randomforest__random_state=1;, score=0.663 total time=   8.2s\n",
      "[CV 10/10] END randomforest__max_depth=17, randomforest__max_features=0.5, randomforest__min_samples_leaf=3, randomforest__n_estimators=130, randomforest__random_state=1;, score=0.678 total time=   8.0s\n",
      "[CV 1/10] END randomforest__max_depth=17, randomforest__max_features=0.5, randomforest__min_samples_leaf=3, randomforest__n_estimators=135, randomforest__random_state=1;, score=0.697 total time=   8.5s\n",
      "[CV 2/10] END randomforest__max_depth=17, randomforest__max_features=0.5, randomforest__min_samples_leaf=3, randomforest__n_estimators=135, randomforest__random_state=1;, score=0.696 total time=   8.3s\n",
      "[CV 3/10] END randomforest__max_depth=17, randomforest__max_features=0.5, randomforest__min_samples_leaf=3, randomforest__n_estimators=135, randomforest__random_state=1;, score=0.681 total time=   8.7s\n",
      "[CV 4/10] END randomforest__max_depth=17, randomforest__max_features=0.5, randomforest__min_samples_leaf=3, randomforest__n_estimators=135, randomforest__random_state=1;, score=0.712 total time=   8.5s\n",
      "[CV 5/10] END randomforest__max_depth=17, randomforest__max_features=0.5, randomforest__min_samples_leaf=3, randomforest__n_estimators=135, randomforest__random_state=1;, score=0.694 total time=   8.9s\n",
      "[CV 6/10] END randomforest__max_depth=17, randomforest__max_features=0.5, randomforest__min_samples_leaf=3, randomforest__n_estimators=135, randomforest__random_state=1;, score=0.668 total time=   8.6s\n",
      "[CV 7/10] END randomforest__max_depth=17, randomforest__max_features=0.5, randomforest__min_samples_leaf=3, randomforest__n_estimators=135, randomforest__random_state=1;, score=0.706 total time=   8.4s\n",
      "[CV 8/10] END randomforest__max_depth=17, randomforest__max_features=0.5, randomforest__min_samples_leaf=3, randomforest__n_estimators=135, randomforest__random_state=1;, score=0.682 total time=   8.5s\n",
      "[CV 9/10] END randomforest__max_depth=17, randomforest__max_features=0.5, randomforest__min_samples_leaf=3, randomforest__n_estimators=135, randomforest__random_state=1;, score=0.668 total time=   8.4s\n",
      "[CV 10/10] END randomforest__max_depth=17, randomforest__max_features=0.5, randomforest__min_samples_leaf=3, randomforest__n_estimators=135, randomforest__random_state=1;, score=0.678 total time=   8.7s\n",
      "[CV 1/10] END randomforest__max_depth=17, randomforest__max_features=0.5, randomforest__min_samples_leaf=3, randomforest__n_estimators=140, randomforest__random_state=1;, score=0.697 total time=   8.9s\n",
      "[CV 2/10] END randomforest__max_depth=17, randomforest__max_features=0.5, randomforest__min_samples_leaf=3, randomforest__n_estimators=140, randomforest__random_state=1;, score=0.684 total time=   8.6s\n",
      "[CV 3/10] END randomforest__max_depth=17, randomforest__max_features=0.5, randomforest__min_samples_leaf=3, randomforest__n_estimators=140, randomforest__random_state=1;, score=0.679 total time=   9.0s\n",
      "[CV 4/10] END randomforest__max_depth=17, randomforest__max_features=0.5, randomforest__min_samples_leaf=3, randomforest__n_estimators=140, randomforest__random_state=1;, score=0.712 total time=   8.6s\n",
      "[CV 5/10] END randomforest__max_depth=17, randomforest__max_features=0.5, randomforest__min_samples_leaf=3, randomforest__n_estimators=140, randomforest__random_state=1;, score=0.703 total time=   9.1s\n",
      "[CV 6/10] END randomforest__max_depth=17, randomforest__max_features=0.5, randomforest__min_samples_leaf=3, randomforest__n_estimators=140, randomforest__random_state=1;, score=0.668 total time=   8.8s\n",
      "[CV 7/10] END randomforest__max_depth=17, randomforest__max_features=0.5, randomforest__min_samples_leaf=3, randomforest__n_estimators=140, randomforest__random_state=1;, score=0.706 total time=   8.5s\n",
      "[CV 8/10] END randomforest__max_depth=17, randomforest__max_features=0.5, randomforest__min_samples_leaf=3, randomforest__n_estimators=140, randomforest__random_state=1;, score=0.685 total time=   8.8s\n",
      "[CV 9/10] END randomforest__max_depth=17, randomforest__max_features=0.5, randomforest__min_samples_leaf=3, randomforest__n_estimators=140, randomforest__random_state=1;, score=0.664 total time=   8.7s\n",
      "[CV 10/10] END randomforest__max_depth=17, randomforest__max_features=0.5, randomforest__min_samples_leaf=3, randomforest__n_estimators=140, randomforest__random_state=1;, score=0.678 total time=   8.8s\n",
      "[CV 1/10] END randomforest__max_depth=17, randomforest__max_features=0.5, randomforest__min_samples_leaf=3, randomforest__n_estimators=145, randomforest__random_state=1;, score=0.697 total time=   9.3s\n",
      "[CV 2/10] END randomforest__max_depth=17, randomforest__max_features=0.5, randomforest__min_samples_leaf=3, randomforest__n_estimators=145, randomforest__random_state=1;, score=0.689 total time=   9.0s\n",
      "[CV 3/10] END randomforest__max_depth=17, randomforest__max_features=0.5, randomforest__min_samples_leaf=3, randomforest__n_estimators=145, randomforest__random_state=1;, score=0.677 total time=   9.4s\n",
      "[CV 4/10] END randomforest__max_depth=17, randomforest__max_features=0.5, randomforest__min_samples_leaf=3, randomforest__n_estimators=145, randomforest__random_state=1;, score=0.711 total time=   9.1s\n",
      "[CV 5/10] END randomforest__max_depth=17, randomforest__max_features=0.5, randomforest__min_samples_leaf=3, randomforest__n_estimators=145, randomforest__random_state=1;, score=0.702 total time=   9.4s\n",
      "[CV 6/10] END randomforest__max_depth=17, randomforest__max_features=0.5, randomforest__min_samples_leaf=3, randomforest__n_estimators=145, randomforest__random_state=1;, score=0.668 total time=   9.4s\n",
      "[CV 7/10] END randomforest__max_depth=17, randomforest__max_features=0.5, randomforest__min_samples_leaf=3, randomforest__n_estimators=145, randomforest__random_state=1;, score=0.707 total time=   9.3s\n",
      "[CV 8/10] END randomforest__max_depth=17, randomforest__max_features=0.5, randomforest__min_samples_leaf=3, randomforest__n_estimators=145, randomforest__random_state=1;, score=0.670 total time=   9.2s\n",
      "[CV 9/10] END randomforest__max_depth=17, randomforest__max_features=0.5, randomforest__min_samples_leaf=3, randomforest__n_estimators=145, randomforest__random_state=1;, score=0.664 total time=   9.2s\n",
      "[CV 10/10] END randomforest__max_depth=17, randomforest__max_features=0.5, randomforest__min_samples_leaf=3, randomforest__n_estimators=145, randomforest__random_state=1;, score=0.681 total time=   9.3s\n",
      "[CV 1/10] END randomforest__max_depth=18, randomforest__max_features=0.4, randomforest__min_samples_leaf=2, randomforest__n_estimators=130, randomforest__random_state=1;, score=0.683 total time=   7.1s\n",
      "[CV 2/10] END randomforest__max_depth=18, randomforest__max_features=0.4, randomforest__min_samples_leaf=2, randomforest__n_estimators=130, randomforest__random_state=1;, score=0.705 total time=   7.1s\n",
      "[CV 3/10] END randomforest__max_depth=18, randomforest__max_features=0.4, randomforest__min_samples_leaf=2, randomforest__n_estimators=130, randomforest__random_state=1;, score=0.681 total time=   7.1s\n",
      "[CV 4/10] END randomforest__max_depth=18, randomforest__max_features=0.4, randomforest__min_samples_leaf=2, randomforest__n_estimators=130, randomforest__random_state=1;, score=0.702 total time=   7.0s\n",
      "[CV 5/10] END randomforest__max_depth=18, randomforest__max_features=0.4, randomforest__min_samples_leaf=2, randomforest__n_estimators=130, randomforest__random_state=1;, score=0.700 total time=   7.2s\n",
      "[CV 6/10] END randomforest__max_depth=18, randomforest__max_features=0.4, randomforest__min_samples_leaf=2, randomforest__n_estimators=130, randomforest__random_state=1;, score=0.661 total time=   7.1s\n",
      "[CV 7/10] END randomforest__max_depth=18, randomforest__max_features=0.4, randomforest__min_samples_leaf=2, randomforest__n_estimators=130, randomforest__random_state=1;, score=0.691 total time=   7.1s\n",
      "[CV 8/10] END randomforest__max_depth=18, randomforest__max_features=0.4, randomforest__min_samples_leaf=2, randomforest__n_estimators=130, randomforest__random_state=1;, score=0.670 total time=   7.2s\n",
      "[CV 9/10] END randomforest__max_depth=18, randomforest__max_features=0.4, randomforest__min_samples_leaf=2, randomforest__n_estimators=130, randomforest__random_state=1;, score=0.670 total time=   7.0s\n",
      "[CV 10/10] END randomforest__max_depth=18, randomforest__max_features=0.4, randomforest__min_samples_leaf=2, randomforest__n_estimators=130, randomforest__random_state=1;, score=0.672 total time=   7.2s\n",
      "[CV 1/10] END randomforest__max_depth=18, randomforest__max_features=0.4, randomforest__min_samples_leaf=2, randomforest__n_estimators=135, randomforest__random_state=1;, score=0.683 total time=   7.4s\n",
      "[CV 2/10] END randomforest__max_depth=18, randomforest__max_features=0.4, randomforest__min_samples_leaf=2, randomforest__n_estimators=135, randomforest__random_state=1;, score=0.716 total time=   7.4s\n",
      "[CV 3/10] END randomforest__max_depth=18, randomforest__max_features=0.4, randomforest__min_samples_leaf=2, randomforest__n_estimators=135, randomforest__random_state=1;, score=0.680 total time=   7.5s\n",
      "[CV 4/10] END randomforest__max_depth=18, randomforest__max_features=0.4, randomforest__min_samples_leaf=2, randomforest__n_estimators=135, randomforest__random_state=1;, score=0.714 total time=   7.3s\n",
      "[CV 5/10] END randomforest__max_depth=18, randomforest__max_features=0.4, randomforest__min_samples_leaf=2, randomforest__n_estimators=135, randomforest__random_state=1;, score=0.701 total time=   7.6s\n",
      "[CV 6/10] END randomforest__max_depth=18, randomforest__max_features=0.4, randomforest__min_samples_leaf=2, randomforest__n_estimators=135, randomforest__random_state=1;, score=0.661 total time=   7.4s\n",
      "[CV 7/10] END randomforest__max_depth=18, randomforest__max_features=0.4, randomforest__min_samples_leaf=2, randomforest__n_estimators=135, randomforest__random_state=1;, score=0.694 total time=   7.3s\n",
      "[CV 8/10] END randomforest__max_depth=18, randomforest__max_features=0.4, randomforest__min_samples_leaf=2, randomforest__n_estimators=135, randomforest__random_state=1;, score=0.675 total time=   7.4s\n",
      "[CV 9/10] END randomforest__max_depth=18, randomforest__max_features=0.4, randomforest__min_samples_leaf=2, randomforest__n_estimators=135, randomforest__random_state=1;, score=0.670 total time=   7.3s\n",
      "[CV 10/10] END randomforest__max_depth=18, randomforest__max_features=0.4, randomforest__min_samples_leaf=2, randomforest__n_estimators=135, randomforest__random_state=1;, score=0.675 total time=   7.4s\n",
      "[CV 1/10] END randomforest__max_depth=18, randomforest__max_features=0.4, randomforest__min_samples_leaf=2, randomforest__n_estimators=140, randomforest__random_state=1;, score=0.683 total time=   7.7s\n",
      "[CV 2/10] END randomforest__max_depth=18, randomforest__max_features=0.4, randomforest__min_samples_leaf=2, randomforest__n_estimators=140, randomforest__random_state=1;, score=0.712 total time=   7.4s\n",
      "[CV 3/10] END randomforest__max_depth=18, randomforest__max_features=0.4, randomforest__min_samples_leaf=2, randomforest__n_estimators=140, randomforest__random_state=1;, score=0.686 total time=   7.7s\n",
      "[CV 4/10] END randomforest__max_depth=18, randomforest__max_features=0.4, randomforest__min_samples_leaf=2, randomforest__n_estimators=140, randomforest__random_state=1;, score=0.709 total time=   7.5s\n",
      "[CV 5/10] END randomforest__max_depth=18, randomforest__max_features=0.4, randomforest__min_samples_leaf=2, randomforest__n_estimators=140, randomforest__random_state=1;, score=0.694 total time=   7.7s\n",
      "[CV 6/10] END randomforest__max_depth=18, randomforest__max_features=0.4, randomforest__min_samples_leaf=2, randomforest__n_estimators=140, randomforest__random_state=1;, score=0.661 total time=   7.6s\n",
      "[CV 7/10] END randomforest__max_depth=18, randomforest__max_features=0.4, randomforest__min_samples_leaf=2, randomforest__n_estimators=140, randomforest__random_state=1;, score=0.691 total time=   7.6s\n",
      "[CV 8/10] END randomforest__max_depth=18, randomforest__max_features=0.4, randomforest__min_samples_leaf=2, randomforest__n_estimators=140, randomforest__random_state=1;, score=0.667 total time=   7.7s\n",
      "[CV 9/10] END randomforest__max_depth=18, randomforest__max_features=0.4, randomforest__min_samples_leaf=2, randomforest__n_estimators=140, randomforest__random_state=1;, score=0.678 total time=   7.4s\n",
      "[CV 10/10] END randomforest__max_depth=18, randomforest__max_features=0.4, randomforest__min_samples_leaf=2, randomforest__n_estimators=140, randomforest__random_state=1;, score=0.677 total time=   7.5s\n",
      "[CV 1/10] END randomforest__max_depth=18, randomforest__max_features=0.4, randomforest__min_samples_leaf=2, randomforest__n_estimators=145, randomforest__random_state=1;, score=0.682 total time=   8.0s\n",
      "[CV 2/10] END randomforest__max_depth=18, randomforest__max_features=0.4, randomforest__min_samples_leaf=2, randomforest__n_estimators=145, randomforest__random_state=1;, score=0.720 total time=   7.6s\n",
      "[CV 3/10] END randomforest__max_depth=18, randomforest__max_features=0.4, randomforest__min_samples_leaf=2, randomforest__n_estimators=145, randomforest__random_state=1;, score=0.683 total time=   8.0s\n",
      "[CV 4/10] END randomforest__max_depth=18, randomforest__max_features=0.4, randomforest__min_samples_leaf=2, randomforest__n_estimators=145, randomforest__random_state=1;, score=0.709 total time=   7.8s\n",
      "[CV 5/10] END randomforest__max_depth=18, randomforest__max_features=0.4, randomforest__min_samples_leaf=2, randomforest__n_estimators=145, randomforest__random_state=1;, score=0.700 total time=   8.0s\n",
      "[CV 6/10] END randomforest__max_depth=18, randomforest__max_features=0.4, randomforest__min_samples_leaf=2, randomforest__n_estimators=145, randomforest__random_state=1;, score=0.658 total time=   7.9s\n",
      "[CV 7/10] END randomforest__max_depth=18, randomforest__max_features=0.4, randomforest__min_samples_leaf=2, randomforest__n_estimators=145, randomforest__random_state=1;, score=0.704 total time=   7.9s\n",
      "[CV 8/10] END randomforest__max_depth=18, randomforest__max_features=0.4, randomforest__min_samples_leaf=2, randomforest__n_estimators=145, randomforest__random_state=1;, score=0.670 total time=   7.8s\n",
      "[CV 9/10] END randomforest__max_depth=18, randomforest__max_features=0.4, randomforest__min_samples_leaf=2, randomforest__n_estimators=145, randomforest__random_state=1;, score=0.678 total time=   7.9s\n",
      "[CV 10/10] END randomforest__max_depth=18, randomforest__max_features=0.4, randomforest__min_samples_leaf=2, randomforest__n_estimators=145, randomforest__random_state=1;, score=0.680 total time=   7.8s\n",
      "[CV 1/10] END randomforest__max_depth=18, randomforest__max_features=0.4, randomforest__min_samples_leaf=3, randomforest__n_estimators=130, randomforest__random_state=1;, score=0.696 total time=   6.9s\n",
      "[CV 2/10] END randomforest__max_depth=18, randomforest__max_features=0.4, randomforest__min_samples_leaf=3, randomforest__n_estimators=130, randomforest__random_state=1;, score=0.689 total time=   6.7s\n",
      "[CV 3/10] END randomforest__max_depth=18, randomforest__max_features=0.4, randomforest__min_samples_leaf=3, randomforest__n_estimators=130, randomforest__random_state=1;, score=0.695 total time=   6.8s\n",
      "[CV 4/10] END randomforest__max_depth=18, randomforest__max_features=0.4, randomforest__min_samples_leaf=3, randomforest__n_estimators=130, randomforest__random_state=1;, score=0.704 total time=   6.7s\n",
      "[CV 5/10] END randomforest__max_depth=18, randomforest__max_features=0.4, randomforest__min_samples_leaf=3, randomforest__n_estimators=130, randomforest__random_state=1;, score=0.706 total time=   6.8s\n",
      "[CV 6/10] END randomforest__max_depth=18, randomforest__max_features=0.4, randomforest__min_samples_leaf=3, randomforest__n_estimators=130, randomforest__random_state=1;, score=0.658 total time=   6.7s\n",
      "[CV 7/10] END randomforest__max_depth=18, randomforest__max_features=0.4, randomforest__min_samples_leaf=3, randomforest__n_estimators=130, randomforest__random_state=1;, score=0.694 total time=   6.9s\n",
      "[CV 8/10] END randomforest__max_depth=18, randomforest__max_features=0.4, randomforest__min_samples_leaf=3, randomforest__n_estimators=130, randomforest__random_state=1;, score=0.665 total time=   6.8s\n",
      "[CV 9/10] END randomforest__max_depth=18, randomforest__max_features=0.4, randomforest__min_samples_leaf=3, randomforest__n_estimators=130, randomforest__random_state=1;, score=0.669 total time=   6.8s\n",
      "[CV 10/10] END randomforest__max_depth=18, randomforest__max_features=0.4, randomforest__min_samples_leaf=3, randomforest__n_estimators=130, randomforest__random_state=1;, score=0.669 total time=   6.8s\n",
      "[CV 1/10] END randomforest__max_depth=18, randomforest__max_features=0.4, randomforest__min_samples_leaf=3, randomforest__n_estimators=135, randomforest__random_state=1;, score=0.696 total time=   7.0s\n",
      "[CV 2/10] END randomforest__max_depth=18, randomforest__max_features=0.4, randomforest__min_samples_leaf=3, randomforest__n_estimators=135, randomforest__random_state=1;, score=0.693 total time=   6.8s\n",
      "[CV 3/10] END randomforest__max_depth=18, randomforest__max_features=0.4, randomforest__min_samples_leaf=3, randomforest__n_estimators=135, randomforest__random_state=1;, score=0.692 total time=   7.1s\n",
      "[CV 4/10] END randomforest__max_depth=18, randomforest__max_features=0.4, randomforest__min_samples_leaf=3, randomforest__n_estimators=135, randomforest__random_state=1;, score=0.704 total time=   6.9s\n",
      "[CV 5/10] END randomforest__max_depth=18, randomforest__max_features=0.4, randomforest__min_samples_leaf=3, randomforest__n_estimators=135, randomforest__random_state=1;, score=0.701 total time=   7.0s\n",
      "[CV 6/10] END randomforest__max_depth=18, randomforest__max_features=0.4, randomforest__min_samples_leaf=3, randomforest__n_estimators=135, randomforest__random_state=1;, score=0.658 total time=   7.5s\n",
      "[CV 7/10] END randomforest__max_depth=18, randomforest__max_features=0.4, randomforest__min_samples_leaf=3, randomforest__n_estimators=135, randomforest__random_state=1;, score=0.690 total time=   7.9s\n",
      "[CV 8/10] END randomforest__max_depth=18, randomforest__max_features=0.4, randomforest__min_samples_leaf=3, randomforest__n_estimators=135, randomforest__random_state=1;, score=0.667 total time=   7.4s\n",
      "[CV 9/10] END randomforest__max_depth=18, randomforest__max_features=0.4, randomforest__min_samples_leaf=3, randomforest__n_estimators=135, randomforest__random_state=1;, score=0.666 total time=   7.0s\n",
      "[CV 10/10] END randomforest__max_depth=18, randomforest__max_features=0.4, randomforest__min_samples_leaf=3, randomforest__n_estimators=135, randomforest__random_state=1;, score=0.674 total time=   7.0s\n",
      "[CV 1/10] END randomforest__max_depth=18, randomforest__max_features=0.4, randomforest__min_samples_leaf=3, randomforest__n_estimators=140, randomforest__random_state=1;, score=0.689 total time=   7.2s\n",
      "[CV 2/10] END randomforest__max_depth=18, randomforest__max_features=0.4, randomforest__min_samples_leaf=3, randomforest__n_estimators=140, randomforest__random_state=1;, score=0.690 total time=   7.1s\n",
      "[CV 3/10] END randomforest__max_depth=18, randomforest__max_features=0.4, randomforest__min_samples_leaf=3, randomforest__n_estimators=140, randomforest__random_state=1;, score=0.689 total time=   7.6s\n",
      "[CV 4/10] END randomforest__max_depth=18, randomforest__max_features=0.4, randomforest__min_samples_leaf=3, randomforest__n_estimators=140, randomforest__random_state=1;, score=0.709 total time=   7.2s\n",
      "[CV 5/10] END randomforest__max_depth=18, randomforest__max_features=0.4, randomforest__min_samples_leaf=3, randomforest__n_estimators=140, randomforest__random_state=1;, score=0.721 total time=   7.3s\n",
      "[CV 6/10] END randomforest__max_depth=18, randomforest__max_features=0.4, randomforest__min_samples_leaf=3, randomforest__n_estimators=140, randomforest__random_state=1;, score=0.661 total time=   7.4s\n",
      "[CV 7/10] END randomforest__max_depth=18, randomforest__max_features=0.4, randomforest__min_samples_leaf=3, randomforest__n_estimators=140, randomforest__random_state=1;, score=0.690 total time=   7.5s\n",
      "[CV 8/10] END randomforest__max_depth=18, randomforest__max_features=0.4, randomforest__min_samples_leaf=3, randomforest__n_estimators=140, randomforest__random_state=1;, score=0.663 total time=   7.2s\n",
      "[CV 9/10] END randomforest__max_depth=18, randomforest__max_features=0.4, randomforest__min_samples_leaf=3, randomforest__n_estimators=140, randomforest__random_state=1;, score=0.672 total time=   7.1s\n",
      "[CV 10/10] END randomforest__max_depth=18, randomforest__max_features=0.4, randomforest__min_samples_leaf=3, randomforest__n_estimators=140, randomforest__random_state=1;, score=0.669 total time=   7.2s\n",
      "[CV 1/10] END randomforest__max_depth=18, randomforest__max_features=0.4, randomforest__min_samples_leaf=3, randomforest__n_estimators=145, randomforest__random_state=1;, score=0.699 total time=   7.4s\n",
      "[CV 2/10] END randomforest__max_depth=18, randomforest__max_features=0.4, randomforest__min_samples_leaf=3, randomforest__n_estimators=145, randomforest__random_state=1;, score=0.682 total time=   7.4s\n",
      "[CV 3/10] END randomforest__max_depth=18, randomforest__max_features=0.4, randomforest__min_samples_leaf=3, randomforest__n_estimators=145, randomforest__random_state=1;, score=0.689 total time=   7.7s\n",
      "[CV 4/10] END randomforest__max_depth=18, randomforest__max_features=0.4, randomforest__min_samples_leaf=3, randomforest__n_estimators=145, randomforest__random_state=1;, score=0.709 total time=   7.6s\n",
      "[CV 5/10] END randomforest__max_depth=18, randomforest__max_features=0.4, randomforest__min_samples_leaf=3, randomforest__n_estimators=145, randomforest__random_state=1;, score=0.714 total time=   7.6s\n",
      "[CV 6/10] END randomforest__max_depth=18, randomforest__max_features=0.4, randomforest__min_samples_leaf=3, randomforest__n_estimators=145, randomforest__random_state=1;, score=0.661 total time=   7.5s\n",
      "[CV 7/10] END randomforest__max_depth=18, randomforest__max_features=0.4, randomforest__min_samples_leaf=3, randomforest__n_estimators=145, randomforest__random_state=1;, score=0.694 total time=   7.7s\n",
      "[CV 8/10] END randomforest__max_depth=18, randomforest__max_features=0.4, randomforest__min_samples_leaf=3, randomforest__n_estimators=145, randomforest__random_state=1;, score=0.663 total time=   7.5s\n",
      "[CV 9/10] END randomforest__max_depth=18, randomforest__max_features=0.4, randomforest__min_samples_leaf=3, randomforest__n_estimators=145, randomforest__random_state=1;, score=0.667 total time=   7.5s\n",
      "[CV 10/10] END randomforest__max_depth=18, randomforest__max_features=0.4, randomforest__min_samples_leaf=3, randomforest__n_estimators=145, randomforest__random_state=1;, score=0.672 total time=   7.3s\n",
      "[CV 1/10] END randomforest__max_depth=18, randomforest__max_features=0.5, randomforest__min_samples_leaf=2, randomforest__n_estimators=130, randomforest__random_state=1;, score=0.694 total time=   8.7s\n",
      "[CV 2/10] END randomforest__max_depth=18, randomforest__max_features=0.5, randomforest__min_samples_leaf=2, randomforest__n_estimators=130, randomforest__random_state=1;, score=0.701 total time=   8.5s\n",
      "[CV 3/10] END randomforest__max_depth=18, randomforest__max_features=0.5, randomforest__min_samples_leaf=2, randomforest__n_estimators=130, randomforest__random_state=1;, score=0.680 total time=   9.0s\n",
      "[CV 4/10] END randomforest__max_depth=18, randomforest__max_features=0.5, randomforest__min_samples_leaf=2, randomforest__n_estimators=130, randomforest__random_state=1;, score=0.702 total time=   8.7s\n",
      "[CV 5/10] END randomforest__max_depth=18, randomforest__max_features=0.5, randomforest__min_samples_leaf=2, randomforest__n_estimators=130, randomforest__random_state=1;, score=0.686 total time=   8.9s\n",
      "[CV 6/10] END randomforest__max_depth=18, randomforest__max_features=0.5, randomforest__min_samples_leaf=2, randomforest__n_estimators=130, randomforest__random_state=1;, score=0.663 total time=   8.7s\n",
      "[CV 7/10] END randomforest__max_depth=18, randomforest__max_features=0.5, randomforest__min_samples_leaf=2, randomforest__n_estimators=130, randomforest__random_state=1;, score=0.703 total time=   8.6s\n",
      "[CV 8/10] END randomforest__max_depth=18, randomforest__max_features=0.5, randomforest__min_samples_leaf=2, randomforest__n_estimators=130, randomforest__random_state=1;, score=0.675 total time=   8.8s\n",
      "[CV 9/10] END randomforest__max_depth=18, randomforest__max_features=0.5, randomforest__min_samples_leaf=2, randomforest__n_estimators=130, randomforest__random_state=1;, score=0.654 total time=   8.8s\n",
      "[CV 10/10] END randomforest__max_depth=18, randomforest__max_features=0.5, randomforest__min_samples_leaf=2, randomforest__n_estimators=130, randomforest__random_state=1;, score=0.684 total time=   8.7s\n",
      "[CV 1/10] END randomforest__max_depth=18, randomforest__max_features=0.5, randomforest__min_samples_leaf=2, randomforest__n_estimators=135, randomforest__random_state=1;, score=0.692 total time=   9.2s\n",
      "[CV 2/10] END randomforest__max_depth=18, randomforest__max_features=0.5, randomforest__min_samples_leaf=2, randomforest__n_estimators=135, randomforest__random_state=1;, score=0.701 total time=   9.1s\n",
      "[CV 3/10] END randomforest__max_depth=18, randomforest__max_features=0.5, randomforest__min_samples_leaf=2, randomforest__n_estimators=135, randomforest__random_state=1;, score=0.685 total time=   9.4s\n",
      "[CV 4/10] END randomforest__max_depth=18, randomforest__max_features=0.5, randomforest__min_samples_leaf=2, randomforest__n_estimators=135, randomforest__random_state=1;, score=0.702 total time=   9.2s\n",
      "[CV 5/10] END randomforest__max_depth=18, randomforest__max_features=0.5, randomforest__min_samples_leaf=2, randomforest__n_estimators=135, randomforest__random_state=1;, score=0.686 total time=   9.4s\n",
      "[CV 6/10] END randomforest__max_depth=18, randomforest__max_features=0.5, randomforest__min_samples_leaf=2, randomforest__n_estimators=135, randomforest__random_state=1;, score=0.669 total time=   9.2s\n",
      "[CV 7/10] END randomforest__max_depth=18, randomforest__max_features=0.5, randomforest__min_samples_leaf=2, randomforest__n_estimators=135, randomforest__random_state=1;, score=0.703 total time=   9.0s\n",
      "[CV 8/10] END randomforest__max_depth=18, randomforest__max_features=0.5, randomforest__min_samples_leaf=2, randomforest__n_estimators=135, randomforest__random_state=1;, score=0.668 total time=   8.9s\n",
      "[CV 9/10] END randomforest__max_depth=18, randomforest__max_features=0.5, randomforest__min_samples_leaf=2, randomforest__n_estimators=135, randomforest__random_state=1;, score=0.655 total time=   9.1s\n",
      "[CV 10/10] END randomforest__max_depth=18, randomforest__max_features=0.5, randomforest__min_samples_leaf=2, randomforest__n_estimators=135, randomforest__random_state=1;, score=0.684 total time=   9.2s\n",
      "[CV 1/10] END randomforest__max_depth=18, randomforest__max_features=0.5, randomforest__min_samples_leaf=2, randomforest__n_estimators=140, randomforest__random_state=1;, score=0.684 total time=   9.4s\n",
      "[CV 2/10] END randomforest__max_depth=18, randomforest__max_features=0.5, randomforest__min_samples_leaf=2, randomforest__n_estimators=140, randomforest__random_state=1;, score=0.701 total time=   9.1s\n",
      "[CV 3/10] END randomforest__max_depth=18, randomforest__max_features=0.5, randomforest__min_samples_leaf=2, randomforest__n_estimators=140, randomforest__random_state=1;, score=0.681 total time=   9.7s\n",
      "[CV 4/10] END randomforest__max_depth=18, randomforest__max_features=0.5, randomforest__min_samples_leaf=2, randomforest__n_estimators=140, randomforest__random_state=1;, score=0.702 total time=   9.4s\n",
      "[CV 5/10] END randomforest__max_depth=18, randomforest__max_features=0.5, randomforest__min_samples_leaf=2, randomforest__n_estimators=140, randomforest__random_state=1;, score=0.686 total time=   9.6s\n",
      "[CV 6/10] END randomforest__max_depth=18, randomforest__max_features=0.5, randomforest__min_samples_leaf=2, randomforest__n_estimators=140, randomforest__random_state=1;, score=0.663 total time=   9.4s\n",
      "[CV 7/10] END randomforest__max_depth=18, randomforest__max_features=0.5, randomforest__min_samples_leaf=2, randomforest__n_estimators=140, randomforest__random_state=1;, score=0.703 total time=   9.3s\n",
      "[CV 8/10] END randomforest__max_depth=18, randomforest__max_features=0.5, randomforest__min_samples_leaf=2, randomforest__n_estimators=140, randomforest__random_state=1;, score=0.675 total time=   9.4s\n",
      "[CV 9/10] END randomforest__max_depth=18, randomforest__max_features=0.5, randomforest__min_samples_leaf=2, randomforest__n_estimators=140, randomforest__random_state=1;, score=0.652 total time=   9.2s\n",
      "[CV 10/10] END randomforest__max_depth=18, randomforest__max_features=0.5, randomforest__min_samples_leaf=2, randomforest__n_estimators=140, randomforest__random_state=1;, score=0.694 total time=   9.7s\n",
      "[CV 1/10] END randomforest__max_depth=18, randomforest__max_features=0.5, randomforest__min_samples_leaf=2, randomforest__n_estimators=145, randomforest__random_state=1;, score=0.679 total time=  10.1s\n",
      "[CV 2/10] END randomforest__max_depth=18, randomforest__max_features=0.5, randomforest__min_samples_leaf=2, randomforest__n_estimators=145, randomforest__random_state=1;, score=0.701 total time=   9.5s\n",
      "[CV 3/10] END randomforest__max_depth=18, randomforest__max_features=0.5, randomforest__min_samples_leaf=2, randomforest__n_estimators=145, randomforest__random_state=1;, score=0.688 total time=   9.7s\n",
      "[CV 4/10] END randomforest__max_depth=18, randomforest__max_features=0.5, randomforest__min_samples_leaf=2, randomforest__n_estimators=145, randomforest__random_state=1;, score=0.702 total time=   9.9s\n",
      "[CV 5/10] END randomforest__max_depth=18, randomforest__max_features=0.5, randomforest__min_samples_leaf=2, randomforest__n_estimators=145, randomforest__random_state=1;, score=0.686 total time=   9.9s\n",
      "[CV 6/10] END randomforest__max_depth=18, randomforest__max_features=0.5, randomforest__min_samples_leaf=2, randomforest__n_estimators=145, randomforest__random_state=1;, score=0.669 total time=   9.7s\n",
      "[CV 7/10] END randomforest__max_depth=18, randomforest__max_features=0.5, randomforest__min_samples_leaf=2, randomforest__n_estimators=145, randomforest__random_state=1;, score=0.709 total time=   9.7s\n",
      "[CV 8/10] END randomforest__max_depth=18, randomforest__max_features=0.5, randomforest__min_samples_leaf=2, randomforest__n_estimators=145, randomforest__random_state=1;, score=0.679 total time=   9.6s\n",
      "[CV 9/10] END randomforest__max_depth=18, randomforest__max_features=0.5, randomforest__min_samples_leaf=2, randomforest__n_estimators=145, randomforest__random_state=1;, score=0.652 total time=   9.6s\n",
      "[CV 10/10] END randomforest__max_depth=18, randomforest__max_features=0.5, randomforest__min_samples_leaf=2, randomforest__n_estimators=145, randomforest__random_state=1;, score=0.690 total time=   9.9s\n",
      "[CV 1/10] END randomforest__max_depth=18, randomforest__max_features=0.5, randomforest__min_samples_leaf=3, randomforest__n_estimators=130, randomforest__random_state=1;, score=0.689 total time=   8.4s\n",
      "[CV 2/10] END randomforest__max_depth=18, randomforest__max_features=0.5, randomforest__min_samples_leaf=3, randomforest__n_estimators=130, randomforest__random_state=1;, score=0.679 total time=   8.1s\n",
      "[CV 3/10] END randomforest__max_depth=18, randomforest__max_features=0.5, randomforest__min_samples_leaf=3, randomforest__n_estimators=130, randomforest__random_state=1;, score=0.691 total time=   8.4s\n",
      "[CV 4/10] END randomforest__max_depth=18, randomforest__max_features=0.5, randomforest__min_samples_leaf=3, randomforest__n_estimators=130, randomforest__random_state=1;, score=0.705 total time=   8.1s\n",
      "[CV 5/10] END randomforest__max_depth=18, randomforest__max_features=0.5, randomforest__min_samples_leaf=3, randomforest__n_estimators=130, randomforest__random_state=1;, score=0.700 total time=   8.5s\n",
      "[CV 6/10] END randomforest__max_depth=18, randomforest__max_features=0.5, randomforest__min_samples_leaf=3, randomforest__n_estimators=130, randomforest__random_state=1;, score=0.663 total time=   8.2s\n",
      "[CV 7/10] END randomforest__max_depth=18, randomforest__max_features=0.5, randomforest__min_samples_leaf=3, randomforest__n_estimators=130, randomforest__random_state=1;, score=0.707 total time=   8.4s\n",
      "[CV 8/10] END randomforest__max_depth=18, randomforest__max_features=0.5, randomforest__min_samples_leaf=3, randomforest__n_estimators=130, randomforest__random_state=1;, score=0.670 total time=   8.4s\n",
      "[CV 9/10] END randomforest__max_depth=18, randomforest__max_features=0.5, randomforest__min_samples_leaf=3, randomforest__n_estimators=130, randomforest__random_state=1;, score=0.683 total time=   8.3s\n",
      "[CV 10/10] END randomforest__max_depth=18, randomforest__max_features=0.5, randomforest__min_samples_leaf=3, randomforest__n_estimators=130, randomforest__random_state=1;, score=0.668 total time=   8.3s\n",
      "[CV 1/10] END randomforest__max_depth=18, randomforest__max_features=0.5, randomforest__min_samples_leaf=3, randomforest__n_estimators=135, randomforest__random_state=1;, score=0.694 total time=   8.5s\n",
      "[CV 2/10] END randomforest__max_depth=18, randomforest__max_features=0.5, randomforest__min_samples_leaf=3, randomforest__n_estimators=135, randomforest__random_state=1;, score=0.682 total time=   8.6s\n",
      "[CV 3/10] END randomforest__max_depth=18, randomforest__max_features=0.5, randomforest__min_samples_leaf=3, randomforest__n_estimators=135, randomforest__random_state=1;, score=0.691 total time=   8.6s\n",
      "[CV 4/10] END randomforest__max_depth=18, randomforest__max_features=0.5, randomforest__min_samples_leaf=3, randomforest__n_estimators=135, randomforest__random_state=1;, score=0.705 total time=   8.4s\n",
      "[CV 5/10] END randomforest__max_depth=18, randomforest__max_features=0.5, randomforest__min_samples_leaf=3, randomforest__n_estimators=135, randomforest__random_state=1;, score=0.705 total time=   8.7s\n",
      "[CV 6/10] END randomforest__max_depth=18, randomforest__max_features=0.5, randomforest__min_samples_leaf=3, randomforest__n_estimators=135, randomforest__random_state=1;, score=0.657 total time=   8.5s\n",
      "[CV 7/10] END randomforest__max_depth=18, randomforest__max_features=0.5, randomforest__min_samples_leaf=3, randomforest__n_estimators=135, randomforest__random_state=1;, score=0.705 total time=   8.8s\n",
      "[CV 8/10] END randomforest__max_depth=18, randomforest__max_features=0.5, randomforest__min_samples_leaf=3, randomforest__n_estimators=135, randomforest__random_state=1;, score=0.669 total time=   8.3s\n",
      "[CV 9/10] END randomforest__max_depth=18, randomforest__max_features=0.5, randomforest__min_samples_leaf=3, randomforest__n_estimators=135, randomforest__random_state=1;, score=0.678 total time=   8.5s\n",
      "[CV 10/10] END randomforest__max_depth=18, randomforest__max_features=0.5, randomforest__min_samples_leaf=3, randomforest__n_estimators=135, randomforest__random_state=1;, score=0.663 total time=   8.6s\n",
      "[CV 1/10] END randomforest__max_depth=18, randomforest__max_features=0.5, randomforest__min_samples_leaf=3, randomforest__n_estimators=140, randomforest__random_state=1;, score=0.699 total time=   9.0s\n",
      "[CV 2/10] END randomforest__max_depth=18, randomforest__max_features=0.5, randomforest__min_samples_leaf=3, randomforest__n_estimators=140, randomforest__random_state=1;, score=0.687 total time=   9.0s\n",
      "[CV 3/10] END randomforest__max_depth=18, randomforest__max_features=0.5, randomforest__min_samples_leaf=3, randomforest__n_estimators=140, randomforest__random_state=1;, score=0.691 total time=   8.9s\n",
      "[CV 4/10] END randomforest__max_depth=18, randomforest__max_features=0.5, randomforest__min_samples_leaf=3, randomforest__n_estimators=140, randomforest__random_state=1;, score=0.710 total time=   8.7s\n",
      "[CV 5/10] END randomforest__max_depth=18, randomforest__max_features=0.5, randomforest__min_samples_leaf=3, randomforest__n_estimators=140, randomforest__random_state=1;, score=0.708 total time=   9.0s\n",
      "[CV 6/10] END randomforest__max_depth=18, randomforest__max_features=0.5, randomforest__min_samples_leaf=3, randomforest__n_estimators=140, randomforest__random_state=1;, score=0.657 total time=   9.0s\n",
      "[CV 7/10] END randomforest__max_depth=18, randomforest__max_features=0.5, randomforest__min_samples_leaf=3, randomforest__n_estimators=140, randomforest__random_state=1;, score=0.710 total time=   9.1s\n",
      "[CV 8/10] END randomforest__max_depth=18, randomforest__max_features=0.5, randomforest__min_samples_leaf=3, randomforest__n_estimators=140, randomforest__random_state=1;, score=0.666 total time=   9.3s\n",
      "[CV 9/10] END randomforest__max_depth=18, randomforest__max_features=0.5, randomforest__min_samples_leaf=3, randomforest__n_estimators=140, randomforest__random_state=1;, score=0.679 total time=   9.6s\n",
      "[CV 10/10] END randomforest__max_depth=18, randomforest__max_features=0.5, randomforest__min_samples_leaf=3, randomforest__n_estimators=140, randomforest__random_state=1;, score=0.666 total time=   9.2s\n",
      "[CV 1/10] END randomforest__max_depth=18, randomforest__max_features=0.5, randomforest__min_samples_leaf=3, randomforest__n_estimators=145, randomforest__random_state=1;, score=0.709 total time=   9.9s\n",
      "[CV 2/10] END randomforest__max_depth=18, randomforest__max_features=0.5, randomforest__min_samples_leaf=3, randomforest__n_estimators=145, randomforest__random_state=1;, score=0.694 total time=   9.5s\n",
      "[CV 3/10] END randomforest__max_depth=18, randomforest__max_features=0.5, randomforest__min_samples_leaf=3, randomforest__n_estimators=145, randomforest__random_state=1;, score=0.702 total time=   9.5s\n",
      "[CV 4/10] END randomforest__max_depth=18, randomforest__max_features=0.5, randomforest__min_samples_leaf=3, randomforest__n_estimators=145, randomforest__random_state=1;, score=0.710 total time=   9.4s\n",
      "[CV 5/10] END randomforest__max_depth=18, randomforest__max_features=0.5, randomforest__min_samples_leaf=3, randomforest__n_estimators=145, randomforest__random_state=1;, score=0.709 total time=   9.6s\n",
      "[CV 6/10] END randomforest__max_depth=18, randomforest__max_features=0.5, randomforest__min_samples_leaf=3, randomforest__n_estimators=145, randomforest__random_state=1;, score=0.657 total time=   9.6s\n",
      "[CV 7/10] END randomforest__max_depth=18, randomforest__max_features=0.5, randomforest__min_samples_leaf=3, randomforest__n_estimators=145, randomforest__random_state=1;, score=0.713 total time=   9.3s\n",
      "[CV 8/10] END randomforest__max_depth=18, randomforest__max_features=0.5, randomforest__min_samples_leaf=3, randomforest__n_estimators=145, randomforest__random_state=1;, score=0.666 total time=   9.5s\n",
      "[CV 9/10] END randomforest__max_depth=18, randomforest__max_features=0.5, randomforest__min_samples_leaf=3, randomforest__n_estimators=145, randomforest__random_state=1;, score=0.681 total time=   9.1s\n",
      "[CV 10/10] END randomforest__max_depth=18, randomforest__max_features=0.5, randomforest__min_samples_leaf=3, randomforest__n_estimators=145, randomforest__random_state=1;, score=0.678 total time=   9.3s\n",
      "[CV 1/10] END randomforest__max_depth=19, randomforest__max_features=0.4, randomforest__min_samples_leaf=2, randomforest__n_estimators=130, randomforest__random_state=1;, score=0.697 total time=   7.3s\n",
      "[CV 2/10] END randomforest__max_depth=19, randomforest__max_features=0.4, randomforest__min_samples_leaf=2, randomforest__n_estimators=130, randomforest__random_state=1;, score=0.693 total time=   7.2s\n",
      "[CV 3/10] END randomforest__max_depth=19, randomforest__max_features=0.4, randomforest__min_samples_leaf=2, randomforest__n_estimators=130, randomforest__random_state=1;, score=0.694 total time=   7.6s\n",
      "[CV 4/10] END randomforest__max_depth=19, randomforest__max_features=0.4, randomforest__min_samples_leaf=2, randomforest__n_estimators=130, randomforest__random_state=1;, score=0.717 total time=   7.1s\n",
      "[CV 5/10] END randomforest__max_depth=19, randomforest__max_features=0.4, randomforest__min_samples_leaf=2, randomforest__n_estimators=130, randomforest__random_state=1;, score=0.710 total time=   7.5s\n",
      "[CV 6/10] END randomforest__max_depth=19, randomforest__max_features=0.4, randomforest__min_samples_leaf=2, randomforest__n_estimators=130, randomforest__random_state=1;, score=0.653 total time=   7.2s\n",
      "[CV 7/10] END randomforest__max_depth=19, randomforest__max_features=0.4, randomforest__min_samples_leaf=2, randomforest__n_estimators=130, randomforest__random_state=1;, score=0.699 total time=   7.4s\n",
      "[CV 8/10] END randomforest__max_depth=19, randomforest__max_features=0.4, randomforest__min_samples_leaf=2, randomforest__n_estimators=130, randomforest__random_state=1;, score=0.657 total time=   7.2s\n",
      "[CV 9/10] END randomforest__max_depth=19, randomforest__max_features=0.4, randomforest__min_samples_leaf=2, randomforest__n_estimators=130, randomforest__random_state=1;, score=0.667 total time=   7.5s\n",
      "[CV 10/10] END randomforest__max_depth=19, randomforest__max_features=0.4, randomforest__min_samples_leaf=2, randomforest__n_estimators=130, randomforest__random_state=1;, score=0.669 total time=   7.2s\n",
      "[CV 1/10] END randomforest__max_depth=19, randomforest__max_features=0.4, randomforest__min_samples_leaf=2, randomforest__n_estimators=135, randomforest__random_state=1;, score=0.691 total time=   7.5s\n",
      "[CV 2/10] END randomforest__max_depth=19, randomforest__max_features=0.4, randomforest__min_samples_leaf=2, randomforest__n_estimators=135, randomforest__random_state=1;, score=0.698 total time=   7.3s\n",
      "[CV 3/10] END randomforest__max_depth=19, randomforest__max_features=0.4, randomforest__min_samples_leaf=2, randomforest__n_estimators=135, randomforest__random_state=1;, score=0.691 total time=   7.5s\n",
      "[CV 4/10] END randomforest__max_depth=19, randomforest__max_features=0.4, randomforest__min_samples_leaf=2, randomforest__n_estimators=135, randomforest__random_state=1;, score=0.702 total time=   7.3s\n",
      "[CV 5/10] END randomforest__max_depth=19, randomforest__max_features=0.4, randomforest__min_samples_leaf=2, randomforest__n_estimators=135, randomforest__random_state=1;, score=0.717 total time=   7.7s\n",
      "[CV 6/10] END randomforest__max_depth=19, randomforest__max_features=0.4, randomforest__min_samples_leaf=2, randomforest__n_estimators=135, randomforest__random_state=1;, score=0.659 total time=   7.8s\n",
      "[CV 7/10] END randomforest__max_depth=19, randomforest__max_features=0.4, randomforest__min_samples_leaf=2, randomforest__n_estimators=135, randomforest__random_state=1;, score=0.698 total time=   7.4s\n",
      "[CV 8/10] END randomforest__max_depth=19, randomforest__max_features=0.4, randomforest__min_samples_leaf=2, randomforest__n_estimators=135, randomforest__random_state=1;, score=0.654 total time=   7.6s\n",
      "[CV 9/10] END randomforest__max_depth=19, randomforest__max_features=0.4, randomforest__min_samples_leaf=2, randomforest__n_estimators=135, randomforest__random_state=1;, score=0.668 total time=   7.4s\n",
      "[CV 10/10] END randomforest__max_depth=19, randomforest__max_features=0.4, randomforest__min_samples_leaf=2, randomforest__n_estimators=135, randomforest__random_state=1;, score=0.669 total time=   7.4s\n",
      "[CV 1/10] END randomforest__max_depth=19, randomforest__max_features=0.4, randomforest__min_samples_leaf=2, randomforest__n_estimators=140, randomforest__random_state=1;, score=0.698 total time=   8.2s\n",
      "[CV 2/10] END randomforest__max_depth=19, randomforest__max_features=0.4, randomforest__min_samples_leaf=2, randomforest__n_estimators=140, randomforest__random_state=1;, score=0.698 total time=   7.6s\n",
      "[CV 3/10] END randomforest__max_depth=19, randomforest__max_features=0.4, randomforest__min_samples_leaf=2, randomforest__n_estimators=140, randomforest__random_state=1;, score=0.695 total time=   7.9s\n",
      "[CV 4/10] END randomforest__max_depth=19, randomforest__max_features=0.4, randomforest__min_samples_leaf=2, randomforest__n_estimators=140, randomforest__random_state=1;, score=0.712 total time=   7.8s\n",
      "[CV 5/10] END randomforest__max_depth=19, randomforest__max_features=0.4, randomforest__min_samples_leaf=2, randomforest__n_estimators=140, randomforest__random_state=1;, score=0.720 total time=   7.9s\n",
      "[CV 6/10] END randomforest__max_depth=19, randomforest__max_features=0.4, randomforest__min_samples_leaf=2, randomforest__n_estimators=140, randomforest__random_state=1;, score=0.665 total time=   7.7s\n",
      "[CV 7/10] END randomforest__max_depth=19, randomforest__max_features=0.4, randomforest__min_samples_leaf=2, randomforest__n_estimators=140, randomforest__random_state=1;, score=0.692 total time=   7.8s\n",
      "[CV 8/10] END randomforest__max_depth=19, randomforest__max_features=0.4, randomforest__min_samples_leaf=2, randomforest__n_estimators=140, randomforest__random_state=1;, score=0.662 total time=   7.6s\n",
      "[CV 9/10] END randomforest__max_depth=19, randomforest__max_features=0.4, randomforest__min_samples_leaf=2, randomforest__n_estimators=140, randomforest__random_state=1;, score=0.671 total time=   7.7s\n",
      "[CV 10/10] END randomforest__max_depth=19, randomforest__max_features=0.4, randomforest__min_samples_leaf=2, randomforest__n_estimators=140, randomforest__random_state=1;, score=0.675 total time=   8.0s\n",
      "[CV 1/10] END randomforest__max_depth=19, randomforest__max_features=0.4, randomforest__min_samples_leaf=2, randomforest__n_estimators=145, randomforest__random_state=1;, score=0.686 total time=   8.1s\n",
      "[CV 2/10] END randomforest__max_depth=19, randomforest__max_features=0.4, randomforest__min_samples_leaf=2, randomforest__n_estimators=145, randomforest__random_state=1;, score=0.698 total time=   8.1s\n",
      "[CV 3/10] END randomforest__max_depth=19, randomforest__max_features=0.4, randomforest__min_samples_leaf=2, randomforest__n_estimators=145, randomforest__random_state=1;, score=0.691 total time=   8.5s\n",
      "[CV 4/10] END randomforest__max_depth=19, randomforest__max_features=0.4, randomforest__min_samples_leaf=2, randomforest__n_estimators=145, randomforest__random_state=1;, score=0.712 total time=   8.0s\n",
      "[CV 5/10] END randomforest__max_depth=19, randomforest__max_features=0.4, randomforest__min_samples_leaf=2, randomforest__n_estimators=145, randomforest__random_state=1;, score=0.716 total time=   8.1s\n",
      "[CV 6/10] END randomforest__max_depth=19, randomforest__max_features=0.4, randomforest__min_samples_leaf=2, randomforest__n_estimators=145, randomforest__random_state=1;, score=0.671 total time=   8.1s\n",
      "[CV 7/10] END randomforest__max_depth=19, randomforest__max_features=0.4, randomforest__min_samples_leaf=2, randomforest__n_estimators=145, randomforest__random_state=1;, score=0.702 total time=   8.2s\n",
      "[CV 8/10] END randomforest__max_depth=19, randomforest__max_features=0.4, randomforest__min_samples_leaf=2, randomforest__n_estimators=145, randomforest__random_state=1;, score=0.668 total time=   8.1s\n",
      "[CV 9/10] END randomforest__max_depth=19, randomforest__max_features=0.4, randomforest__min_samples_leaf=2, randomforest__n_estimators=145, randomforest__random_state=1;, score=0.663 total time=   8.0s\n",
      "[CV 10/10] END randomforest__max_depth=19, randomforest__max_features=0.4, randomforest__min_samples_leaf=2, randomforest__n_estimators=145, randomforest__random_state=1;, score=0.675 total time=   7.9s\n",
      "[CV 1/10] END randomforest__max_depth=19, randomforest__max_features=0.4, randomforest__min_samples_leaf=3, randomforest__n_estimators=130, randomforest__random_state=1;, score=0.686 total time=   6.9s\n",
      "[CV 2/10] END randomforest__max_depth=19, randomforest__max_features=0.4, randomforest__min_samples_leaf=3, randomforest__n_estimators=130, randomforest__random_state=1;, score=0.685 total time=   6.8s\n",
      "[CV 3/10] END randomforest__max_depth=19, randomforest__max_features=0.4, randomforest__min_samples_leaf=3, randomforest__n_estimators=130, randomforest__random_state=1;, score=0.702 total time=   7.1s\n",
      "[CV 4/10] END randomforest__max_depth=19, randomforest__max_features=0.4, randomforest__min_samples_leaf=3, randomforest__n_estimators=130, randomforest__random_state=1;, score=0.693 total time=   6.9s\n",
      "[CV 5/10] END randomforest__max_depth=19, randomforest__max_features=0.4, randomforest__min_samples_leaf=3, randomforest__n_estimators=130, randomforest__random_state=1;, score=0.702 total time=   6.8s\n",
      "[CV 6/10] END randomforest__max_depth=19, randomforest__max_features=0.4, randomforest__min_samples_leaf=3, randomforest__n_estimators=130, randomforest__random_state=1;, score=0.648 total time=   6.9s\n",
      "[CV 7/10] END randomforest__max_depth=19, randomforest__max_features=0.4, randomforest__min_samples_leaf=3, randomforest__n_estimators=130, randomforest__random_state=1;, score=0.706 total time=   6.7s\n",
      "[CV 8/10] END randomforest__max_depth=19, randomforest__max_features=0.4, randomforest__min_samples_leaf=3, randomforest__n_estimators=130, randomforest__random_state=1;, score=0.670 total time=   6.9s\n",
      "[CV 9/10] END randomforest__max_depth=19, randomforest__max_features=0.4, randomforest__min_samples_leaf=3, randomforest__n_estimators=130, randomforest__random_state=1;, score=0.674 total time=   6.9s\n",
      "[CV 10/10] END randomforest__max_depth=19, randomforest__max_features=0.4, randomforest__min_samples_leaf=3, randomforest__n_estimators=130, randomforest__random_state=1;, score=0.673 total time=   6.7s\n",
      "[CV 1/10] END randomforest__max_depth=19, randomforest__max_features=0.4, randomforest__min_samples_leaf=3, randomforest__n_estimators=135, randomforest__random_state=1;, score=0.691 total time=   7.0s\n",
      "[CV 2/10] END randomforest__max_depth=19, randomforest__max_features=0.4, randomforest__min_samples_leaf=3, randomforest__n_estimators=135, randomforest__random_state=1;, score=0.697 total time=   7.0s\n",
      "[CV 3/10] END randomforest__max_depth=19, randomforest__max_features=0.4, randomforest__min_samples_leaf=3, randomforest__n_estimators=135, randomforest__random_state=1;, score=0.702 total time=   7.1s\n",
      "[CV 4/10] END randomforest__max_depth=19, randomforest__max_features=0.4, randomforest__min_samples_leaf=3, randomforest__n_estimators=135, randomforest__random_state=1;, score=0.693 total time=   7.0s\n",
      "[CV 5/10] END randomforest__max_depth=19, randomforest__max_features=0.4, randomforest__min_samples_leaf=3, randomforest__n_estimators=135, randomforest__random_state=1;, score=0.692 total time=   7.3s\n",
      "[CV 6/10] END randomforest__max_depth=19, randomforest__max_features=0.4, randomforest__min_samples_leaf=3, randomforest__n_estimators=135, randomforest__random_state=1;, score=0.656 total time=   7.3s\n",
      "[CV 7/10] END randomforest__max_depth=19, randomforest__max_features=0.4, randomforest__min_samples_leaf=3, randomforest__n_estimators=135, randomforest__random_state=1;, score=0.701 total time=   7.1s\n",
      "[CV 8/10] END randomforest__max_depth=19, randomforest__max_features=0.4, randomforest__min_samples_leaf=3, randomforest__n_estimators=135, randomforest__random_state=1;, score=0.667 total time=   7.1s\n",
      "[CV 9/10] END randomforest__max_depth=19, randomforest__max_features=0.4, randomforest__min_samples_leaf=3, randomforest__n_estimators=135, randomforest__random_state=1;, score=0.670 total time=   7.0s\n",
      "[CV 10/10] END randomforest__max_depth=19, randomforest__max_features=0.4, randomforest__min_samples_leaf=3, randomforest__n_estimators=135, randomforest__random_state=1;, score=0.689 total time=   7.0s\n",
      "[CV 1/10] END randomforest__max_depth=19, randomforest__max_features=0.4, randomforest__min_samples_leaf=3, randomforest__n_estimators=140, randomforest__random_state=1;, score=0.693 total time=   7.4s\n",
      "[CV 2/10] END randomforest__max_depth=19, randomforest__max_features=0.4, randomforest__min_samples_leaf=3, randomforest__n_estimators=140, randomforest__random_state=1;, score=0.697 total time=   7.4s\n",
      "[CV 3/10] END randomforest__max_depth=19, randomforest__max_features=0.4, randomforest__min_samples_leaf=3, randomforest__n_estimators=140, randomforest__random_state=1;, score=0.690 total time=   7.5s\n",
      "[CV 4/10] END randomforest__max_depth=19, randomforest__max_features=0.4, randomforest__min_samples_leaf=3, randomforest__n_estimators=140, randomforest__random_state=1;, score=0.693 total time=   7.5s\n",
      "[CV 5/10] END randomforest__max_depth=19, randomforest__max_features=0.4, randomforest__min_samples_leaf=3, randomforest__n_estimators=140, randomforest__random_state=1;, score=0.703 total time=   7.3s\n",
      "[CV 6/10] END randomforest__max_depth=19, randomforest__max_features=0.4, randomforest__min_samples_leaf=3, randomforest__n_estimators=140, randomforest__random_state=1;, score=0.658 total time=   7.2s\n",
      "[CV 7/10] END randomforest__max_depth=19, randomforest__max_features=0.4, randomforest__min_samples_leaf=3, randomforest__n_estimators=140, randomforest__random_state=1;, score=0.706 total time=   7.4s\n",
      "[CV 8/10] END randomforest__max_depth=19, randomforest__max_features=0.4, randomforest__min_samples_leaf=3, randomforest__n_estimators=140, randomforest__random_state=1;, score=0.675 total time=   7.6s\n",
      "[CV 9/10] END randomforest__max_depth=19, randomforest__max_features=0.4, randomforest__min_samples_leaf=3, randomforest__n_estimators=140, randomforest__random_state=1;, score=0.669 total time=   7.4s\n",
      "[CV 10/10] END randomforest__max_depth=19, randomforest__max_features=0.4, randomforest__min_samples_leaf=3, randomforest__n_estimators=140, randomforest__random_state=1;, score=0.686 total time=   7.5s\n",
      "[CV 1/10] END randomforest__max_depth=19, randomforest__max_features=0.4, randomforest__min_samples_leaf=3, randomforest__n_estimators=145, randomforest__random_state=1;, score=0.693 total time=   7.6s\n",
      "[CV 2/10] END randomforest__max_depth=19, randomforest__max_features=0.4, randomforest__min_samples_leaf=3, randomforest__n_estimators=145, randomforest__random_state=1;, score=0.704 total time=   7.6s\n",
      "[CV 3/10] END randomforest__max_depth=19, randomforest__max_features=0.4, randomforest__min_samples_leaf=3, randomforest__n_estimators=145, randomforest__random_state=1;, score=0.690 total time=   7.8s\n",
      "[CV 4/10] END randomforest__max_depth=19, randomforest__max_features=0.4, randomforest__min_samples_leaf=3, randomforest__n_estimators=145, randomforest__random_state=1;, score=0.688 total time=   7.8s\n",
      "[CV 5/10] END randomforest__max_depth=19, randomforest__max_features=0.4, randomforest__min_samples_leaf=3, randomforest__n_estimators=145, randomforest__random_state=1;, score=0.695 total time=   7.9s\n",
      "[CV 6/10] END randomforest__max_depth=19, randomforest__max_features=0.4, randomforest__min_samples_leaf=3, randomforest__n_estimators=145, randomforest__random_state=1;, score=0.657 total time=   7.7s\n",
      "[CV 7/10] END randomforest__max_depth=19, randomforest__max_features=0.4, randomforest__min_samples_leaf=3, randomforest__n_estimators=145, randomforest__random_state=1;, score=0.703 total time=   7.7s\n",
      "[CV 8/10] END randomforest__max_depth=19, randomforest__max_features=0.4, randomforest__min_samples_leaf=3, randomforest__n_estimators=145, randomforest__random_state=1;, score=0.675 total time=   7.8s\n",
      "[CV 9/10] END randomforest__max_depth=19, randomforest__max_features=0.4, randomforest__min_samples_leaf=3, randomforest__n_estimators=145, randomforest__random_state=1;, score=0.670 total time=   7.7s\n",
      "[CV 10/10] END randomforest__max_depth=19, randomforest__max_features=0.4, randomforest__min_samples_leaf=3, randomforest__n_estimators=145, randomforest__random_state=1;, score=0.683 total time=   7.7s\n",
      "[CV 1/10] END randomforest__max_depth=19, randomforest__max_features=0.5, randomforest__min_samples_leaf=2, randomforest__n_estimators=130, randomforest__random_state=1;, score=0.682 total time=   9.1s\n",
      "[CV 2/10] END randomforest__max_depth=19, randomforest__max_features=0.5, randomforest__min_samples_leaf=2, randomforest__n_estimators=130, randomforest__random_state=1;, score=0.698 total time=   8.8s\n",
      "[CV 3/10] END randomforest__max_depth=19, randomforest__max_features=0.5, randomforest__min_samples_leaf=2, randomforest__n_estimators=130, randomforest__random_state=1;, score=0.687 total time=   9.1s\n",
      "[CV 4/10] END randomforest__max_depth=19, randomforest__max_features=0.5, randomforest__min_samples_leaf=2, randomforest__n_estimators=130, randomforest__random_state=1;, score=0.693 total time=   9.0s\n",
      "[CV 5/10] END randomforest__max_depth=19, randomforest__max_features=0.5, randomforest__min_samples_leaf=2, randomforest__n_estimators=130, randomforest__random_state=1;, score=0.710 total time=   9.2s\n",
      "[CV 6/10] END randomforest__max_depth=19, randomforest__max_features=0.5, randomforest__min_samples_leaf=2, randomforest__n_estimators=130, randomforest__random_state=1;, score=0.661 total time=   8.8s\n",
      "[CV 7/10] END randomforest__max_depth=19, randomforest__max_features=0.5, randomforest__min_samples_leaf=2, randomforest__n_estimators=130, randomforest__random_state=1;, score=0.690 total time=   8.9s\n",
      "[CV 8/10] END randomforest__max_depth=19, randomforest__max_features=0.5, randomforest__min_samples_leaf=2, randomforest__n_estimators=130, randomforest__random_state=1;, score=0.676 total time=   9.0s\n",
      "[CV 9/10] END randomforest__max_depth=19, randomforest__max_features=0.5, randomforest__min_samples_leaf=2, randomforest__n_estimators=130, randomforest__random_state=1;, score=0.680 total time=   8.9s\n",
      "[CV 10/10] END randomforest__max_depth=19, randomforest__max_features=0.5, randomforest__min_samples_leaf=2, randomforest__n_estimators=130, randomforest__random_state=1;, score=0.671 total time=   9.0s\n",
      "[CV 1/10] END randomforest__max_depth=19, randomforest__max_features=0.5, randomforest__min_samples_leaf=2, randomforest__n_estimators=135, randomforest__random_state=1;, score=0.691 total time=   9.2s\n",
      "[CV 2/10] END randomforest__max_depth=19, randomforest__max_features=0.5, randomforest__min_samples_leaf=2, randomforest__n_estimators=135, randomforest__random_state=1;, score=0.698 total time=   9.1s\n",
      "[CV 3/10] END randomforest__max_depth=19, randomforest__max_features=0.5, randomforest__min_samples_leaf=2, randomforest__n_estimators=135, randomforest__random_state=1;, score=0.686 total time=   9.6s\n",
      "[CV 4/10] END randomforest__max_depth=19, randomforest__max_features=0.5, randomforest__min_samples_leaf=2, randomforest__n_estimators=135, randomforest__random_state=1;, score=0.693 total time=   9.4s\n",
      "[CV 5/10] END randomforest__max_depth=19, randomforest__max_features=0.5, randomforest__min_samples_leaf=2, randomforest__n_estimators=135, randomforest__random_state=1;, score=0.700 total time=   9.5s\n",
      "[CV 6/10] END randomforest__max_depth=19, randomforest__max_features=0.5, randomforest__min_samples_leaf=2, randomforest__n_estimators=135, randomforest__random_state=1;, score=0.667 total time=   9.3s\n",
      "[CV 7/10] END randomforest__max_depth=19, randomforest__max_features=0.5, randomforest__min_samples_leaf=2, randomforest__n_estimators=135, randomforest__random_state=1;, score=0.694 total time=   9.4s\n",
      "[CV 8/10] END randomforest__max_depth=19, randomforest__max_features=0.5, randomforest__min_samples_leaf=2, randomforest__n_estimators=135, randomforest__random_state=1;, score=0.676 total time=   9.6s\n",
      "[CV 9/10] END randomforest__max_depth=19, randomforest__max_features=0.5, randomforest__min_samples_leaf=2, randomforest__n_estimators=135, randomforest__random_state=1;, score=0.676 total time=   9.2s\n",
      "[CV 10/10] END randomforest__max_depth=19, randomforest__max_features=0.5, randomforest__min_samples_leaf=2, randomforest__n_estimators=135, randomforest__random_state=1;, score=0.672 total time=   9.4s\n",
      "[CV 1/10] END randomforest__max_depth=19, randomforest__max_features=0.5, randomforest__min_samples_leaf=2, randomforest__n_estimators=140, randomforest__random_state=1;, score=0.681 total time=  10.0s\n",
      "[CV 2/10] END randomforest__max_depth=19, randomforest__max_features=0.5, randomforest__min_samples_leaf=2, randomforest__n_estimators=140, randomforest__random_state=1;, score=0.704 total time=  10.6s\n",
      "[CV 3/10] END randomforest__max_depth=19, randomforest__max_features=0.5, randomforest__min_samples_leaf=2, randomforest__n_estimators=140, randomforest__random_state=1;, score=0.684 total time=  11.2s\n",
      "[CV 4/10] END randomforest__max_depth=19, randomforest__max_features=0.5, randomforest__min_samples_leaf=2, randomforest__n_estimators=140, randomforest__random_state=1;, score=0.696 total time=   9.7s\n",
      "[CV 5/10] END randomforest__max_depth=19, randomforest__max_features=0.5, randomforest__min_samples_leaf=2, randomforest__n_estimators=140, randomforest__random_state=1;, score=0.705 total time=   9.7s\n",
      "[CV 6/10] END randomforest__max_depth=19, randomforest__max_features=0.5, randomforest__min_samples_leaf=2, randomforest__n_estimators=140, randomforest__random_state=1;, score=0.667 total time=   9.9s\n",
      "[CV 7/10] END randomforest__max_depth=19, randomforest__max_features=0.5, randomforest__min_samples_leaf=2, randomforest__n_estimators=140, randomforest__random_state=1;, score=0.690 total time=   9.5s\n",
      "[CV 8/10] END randomforest__max_depth=19, randomforest__max_features=0.5, randomforest__min_samples_leaf=2, randomforest__n_estimators=140, randomforest__random_state=1;, score=0.676 total time=   9.5s\n",
      "[CV 9/10] END randomforest__max_depth=19, randomforest__max_features=0.5, randomforest__min_samples_leaf=2, randomforest__n_estimators=140, randomforest__random_state=1;, score=0.676 total time=   9.4s\n",
      "[CV 10/10] END randomforest__max_depth=19, randomforest__max_features=0.5, randomforest__min_samples_leaf=2, randomforest__n_estimators=140, randomforest__random_state=1;, score=0.671 total time=   9.9s\n",
      "[CV 1/10] END randomforest__max_depth=19, randomforest__max_features=0.5, randomforest__min_samples_leaf=2, randomforest__n_estimators=145, randomforest__random_state=1;, score=0.681 total time=  10.2s\n",
      "[CV 2/10] END randomforest__max_depth=19, randomforest__max_features=0.5, randomforest__min_samples_leaf=2, randomforest__n_estimators=145, randomforest__random_state=1;, score=0.701 total time=   9.8s\n",
      "[CV 3/10] END randomforest__max_depth=19, randomforest__max_features=0.5, randomforest__min_samples_leaf=2, randomforest__n_estimators=145, randomforest__random_state=1;, score=0.684 total time=  10.0s\n",
      "[CV 4/10] END randomforest__max_depth=19, randomforest__max_features=0.5, randomforest__min_samples_leaf=2, randomforest__n_estimators=145, randomforest__random_state=1;, score=0.691 total time=   9.7s\n",
      "[CV 5/10] END randomforest__max_depth=19, randomforest__max_features=0.5, randomforest__min_samples_leaf=2, randomforest__n_estimators=145, randomforest__random_state=1;, score=0.705 total time=  10.6s\n",
      "[CV 6/10] END randomforest__max_depth=19, randomforest__max_features=0.5, randomforest__min_samples_leaf=2, randomforest__n_estimators=145, randomforest__random_state=1;, score=0.667 total time=  12.5s\n",
      "[CV 7/10] END randomforest__max_depth=19, randomforest__max_features=0.5, randomforest__min_samples_leaf=2, randomforest__n_estimators=145, randomforest__random_state=1;, score=0.693 total time=  11.0s\n",
      "[CV 8/10] END randomforest__max_depth=19, randomforest__max_features=0.5, randomforest__min_samples_leaf=2, randomforest__n_estimators=145, randomforest__random_state=1;, score=0.678 total time=  12.4s\n",
      "[CV 9/10] END randomforest__max_depth=19, randomforest__max_features=0.5, randomforest__min_samples_leaf=2, randomforest__n_estimators=145, randomforest__random_state=1;, score=0.669 total time=  10.1s\n",
      "[CV 10/10] END randomforest__max_depth=19, randomforest__max_features=0.5, randomforest__min_samples_leaf=2, randomforest__n_estimators=145, randomforest__random_state=1;, score=0.671 total time=  16.8s\n",
      "[CV 1/10] END randomforest__max_depth=19, randomforest__max_features=0.5, randomforest__min_samples_leaf=3, randomforest__n_estimators=130, randomforest__random_state=1;, score=0.679 total time=  27.2s\n",
      "[CV 2/10] END randomforest__max_depth=19, randomforest__max_features=0.5, randomforest__min_samples_leaf=3, randomforest__n_estimators=130, randomforest__random_state=1;, score=0.687 total time=  10.7s\n",
      "[CV 3/10] END randomforest__max_depth=19, randomforest__max_features=0.5, randomforest__min_samples_leaf=3, randomforest__n_estimators=130, randomforest__random_state=1;, score=0.679 total time=   9.4s\n",
      "[CV 4/10] END randomforest__max_depth=19, randomforest__max_features=0.5, randomforest__min_samples_leaf=3, randomforest__n_estimators=130, randomforest__random_state=1;, score=0.699 total time=   9.2s\n",
      "[CV 5/10] END randomforest__max_depth=19, randomforest__max_features=0.5, randomforest__min_samples_leaf=3, randomforest__n_estimators=130, randomforest__random_state=1;, score=0.703 total time=   9.0s\n",
      "[CV 6/10] END randomforest__max_depth=19, randomforest__max_features=0.5, randomforest__min_samples_leaf=3, randomforest__n_estimators=130, randomforest__random_state=1;, score=0.664 total time=   8.3s\n",
      "[CV 7/10] END randomforest__max_depth=19, randomforest__max_features=0.5, randomforest__min_samples_leaf=3, randomforest__n_estimators=130, randomforest__random_state=1;, score=0.691 total time=   8.1s\n",
      "[CV 8/10] END randomforest__max_depth=19, randomforest__max_features=0.5, randomforest__min_samples_leaf=3, randomforest__n_estimators=130, randomforest__random_state=1;, score=0.675 total time=   8.8s\n",
      "[CV 9/10] END randomforest__max_depth=19, randomforest__max_features=0.5, randomforest__min_samples_leaf=3, randomforest__n_estimators=130, randomforest__random_state=1;, score=0.666 total time=  10.6s\n",
      "[CV 10/10] END randomforest__max_depth=19, randomforest__max_features=0.5, randomforest__min_samples_leaf=3, randomforest__n_estimators=130, randomforest__random_state=1;, score=0.661 total time=  10.2s\n",
      "[CV 1/10] END randomforest__max_depth=19, randomforest__max_features=0.5, randomforest__min_samples_leaf=3, randomforest__n_estimators=135, randomforest__random_state=1;, score=0.684 total time=  11.0s\n",
      "[CV 2/10] END randomforest__max_depth=19, randomforest__max_features=0.5, randomforest__min_samples_leaf=3, randomforest__n_estimators=135, randomforest__random_state=1;, score=0.700 total time=   9.6s\n",
      "[CV 3/10] END randomforest__max_depth=19, randomforest__max_features=0.5, randomforest__min_samples_leaf=3, randomforest__n_estimators=135, randomforest__random_state=1;, score=0.684 total time=   9.4s\n",
      "[CV 4/10] END randomforest__max_depth=19, randomforest__max_features=0.5, randomforest__min_samples_leaf=3, randomforest__n_estimators=135, randomforest__random_state=1;, score=0.699 total time=  10.9s\n",
      "[CV 5/10] END randomforest__max_depth=19, randomforest__max_features=0.5, randomforest__min_samples_leaf=3, randomforest__n_estimators=135, randomforest__random_state=1;, score=0.703 total time=  11.3s\n",
      "[CV 6/10] END randomforest__max_depth=19, randomforest__max_features=0.5, randomforest__min_samples_leaf=3, randomforest__n_estimators=135, randomforest__random_state=1;, score=0.676 total time=  10.3s\n",
      "[CV 7/10] END randomforest__max_depth=19, randomforest__max_features=0.5, randomforest__min_samples_leaf=3, randomforest__n_estimators=135, randomforest__random_state=1;, score=0.694 total time=  10.8s\n",
      "[CV 8/10] END randomforest__max_depth=19, randomforest__max_features=0.5, randomforest__min_samples_leaf=3, randomforest__n_estimators=135, randomforest__random_state=1;, score=0.675 total time=  10.7s\n",
      "[CV 9/10] END randomforest__max_depth=19, randomforest__max_features=0.5, randomforest__min_samples_leaf=3, randomforest__n_estimators=135, randomforest__random_state=1;, score=0.672 total time=  10.3s\n",
      "[CV 10/10] END randomforest__max_depth=19, randomforest__max_features=0.5, randomforest__min_samples_leaf=3, randomforest__n_estimators=135, randomforest__random_state=1;, score=0.663 total time=  10.1s\n",
      "[CV 1/10] END randomforest__max_depth=19, randomforest__max_features=0.5, randomforest__min_samples_leaf=3, randomforest__n_estimators=140, randomforest__random_state=1;, score=0.675 total time=  11.3s\n",
      "[CV 2/10] END randomforest__max_depth=19, randomforest__max_features=0.5, randomforest__min_samples_leaf=3, randomforest__n_estimators=140, randomforest__random_state=1;, score=0.696 total time=  10.3s\n",
      "[CV 3/10] END randomforest__max_depth=19, randomforest__max_features=0.5, randomforest__min_samples_leaf=3, randomforest__n_estimators=140, randomforest__random_state=1;, score=0.679 total time=  10.1s\n",
      "[CV 4/10] END randomforest__max_depth=19, randomforest__max_features=0.5, randomforest__min_samples_leaf=3, randomforest__n_estimators=140, randomforest__random_state=1;, score=0.703 total time=  10.2s\n",
      "[CV 5/10] END randomforest__max_depth=19, randomforest__max_features=0.5, randomforest__min_samples_leaf=3, randomforest__n_estimators=140, randomforest__random_state=1;, score=0.697 total time=  11.8s\n",
      "[CV 6/10] END randomforest__max_depth=19, randomforest__max_features=0.5, randomforest__min_samples_leaf=3, randomforest__n_estimators=140, randomforest__random_state=1;, score=0.670 total time=  11.0s\n",
      "[CV 7/10] END randomforest__max_depth=19, randomforest__max_features=0.5, randomforest__min_samples_leaf=3, randomforest__n_estimators=140, randomforest__random_state=1;, score=0.697 total time=  10.9s\n",
      "[CV 8/10] END randomforest__max_depth=19, randomforest__max_features=0.5, randomforest__min_samples_leaf=3, randomforest__n_estimators=140, randomforest__random_state=1;, score=0.670 total time=  10.8s\n",
      "[CV 9/10] END randomforest__max_depth=19, randomforest__max_features=0.5, randomforest__min_samples_leaf=3, randomforest__n_estimators=140, randomforest__random_state=1;, score=0.672 total time=  11.1s\n",
      "[CV 10/10] END randomforest__max_depth=19, randomforest__max_features=0.5, randomforest__min_samples_leaf=3, randomforest__n_estimators=140, randomforest__random_state=1;, score=0.663 total time=  10.5s\n",
      "[CV 1/10] END randomforest__max_depth=19, randomforest__max_features=0.5, randomforest__min_samples_leaf=3, randomforest__n_estimators=145, randomforest__random_state=1;, score=0.687 total time=  11.2s\n",
      "[CV 2/10] END randomforest__max_depth=19, randomforest__max_features=0.5, randomforest__min_samples_leaf=3, randomforest__n_estimators=145, randomforest__random_state=1;, score=0.696 total time=  11.2s\n",
      "[CV 3/10] END randomforest__max_depth=19, randomforest__max_features=0.5, randomforest__min_samples_leaf=3, randomforest__n_estimators=145, randomforest__random_state=1;, score=0.698 total time=  11.8s\n",
      "[CV 4/10] END randomforest__max_depth=19, randomforest__max_features=0.5, randomforest__min_samples_leaf=3, randomforest__n_estimators=145, randomforest__random_state=1;, score=0.703 total time=  11.8s\n",
      "[CV 5/10] END randomforest__max_depth=19, randomforest__max_features=0.5, randomforest__min_samples_leaf=3, randomforest__n_estimators=145, randomforest__random_state=1;, score=0.693 total time=  11.8s\n",
      "[CV 6/10] END randomforest__max_depth=19, randomforest__max_features=0.5, randomforest__min_samples_leaf=3, randomforest__n_estimators=145, randomforest__random_state=1;, score=0.667 total time=  13.2s\n",
      "[CV 7/10] END randomforest__max_depth=19, randomforest__max_features=0.5, randomforest__min_samples_leaf=3, randomforest__n_estimators=145, randomforest__random_state=1;, score=0.697 total time=  11.3s\n",
      "[CV 8/10] END randomforest__max_depth=19, randomforest__max_features=0.5, randomforest__min_samples_leaf=3, randomforest__n_estimators=145, randomforest__random_state=1;, score=0.675 total time=  10.5s\n",
      "[CV 9/10] END randomforest__max_depth=19, randomforest__max_features=0.5, randomforest__min_samples_leaf=3, randomforest__n_estimators=145, randomforest__random_state=1;, score=0.673 total time=  10.2s\n",
      "[CV 10/10] END randomforest__max_depth=19, randomforest__max_features=0.5, randomforest__min_samples_leaf=3, randomforest__n_estimators=145, randomforest__random_state=1;, score=0.668 total time=  10.7s\n"
     ]
    },
    {
     "data": {
      "text/html": [
       "<style>#sk-container-id-2 {color: black;background-color: white;}#sk-container-id-2 pre{padding: 0;}#sk-container-id-2 div.sk-toggleable {background-color: white;}#sk-container-id-2 label.sk-toggleable__label {cursor: pointer;display: block;width: 100%;margin-bottom: 0;padding: 0.3em;box-sizing: border-box;text-align: center;}#sk-container-id-2 label.sk-toggleable__label-arrow:before {content: \"▸\";float: left;margin-right: 0.25em;color: #696969;}#sk-container-id-2 label.sk-toggleable__label-arrow:hover:before {color: black;}#sk-container-id-2 div.sk-estimator:hover label.sk-toggleable__label-arrow:before {color: black;}#sk-container-id-2 div.sk-toggleable__content {max-height: 0;max-width: 0;overflow: hidden;text-align: left;background-color: #f0f8ff;}#sk-container-id-2 div.sk-toggleable__content pre {margin: 0.2em;color: black;border-radius: 0.25em;background-color: #f0f8ff;}#sk-container-id-2 input.sk-toggleable__control:checked~div.sk-toggleable__content {max-height: 200px;max-width: 100%;overflow: auto;}#sk-container-id-2 input.sk-toggleable__control:checked~label.sk-toggleable__label-arrow:before {content: \"▾\";}#sk-container-id-2 div.sk-estimator input.sk-toggleable__control:checked~label.sk-toggleable__label {background-color: #d4ebff;}#sk-container-id-2 div.sk-label input.sk-toggleable__control:checked~label.sk-toggleable__label {background-color: #d4ebff;}#sk-container-id-2 input.sk-hidden--visually {border: 0;clip: rect(1px 1px 1px 1px);clip: rect(1px, 1px, 1px, 1px);height: 1px;margin: -1px;overflow: hidden;padding: 0;position: absolute;width: 1px;}#sk-container-id-2 div.sk-estimator {font-family: monospace;background-color: #f0f8ff;border: 1px dotted black;border-radius: 0.25em;box-sizing: border-box;margin-bottom: 0.5em;}#sk-container-id-2 div.sk-estimator:hover {background-color: #d4ebff;}#sk-container-id-2 div.sk-parallel-item::after {content: \"\";width: 100%;border-bottom: 1px solid gray;flex-grow: 1;}#sk-container-id-2 div.sk-label:hover label.sk-toggleable__label {background-color: #d4ebff;}#sk-container-id-2 div.sk-serial::before {content: \"\";position: absolute;border-left: 1px solid gray;box-sizing: border-box;top: 0;bottom: 0;left: 50%;z-index: 0;}#sk-container-id-2 div.sk-serial {display: flex;flex-direction: column;align-items: center;background-color: white;padding-right: 0.2em;padding-left: 0.2em;position: relative;}#sk-container-id-2 div.sk-item {position: relative;z-index: 1;}#sk-container-id-2 div.sk-parallel {display: flex;align-items: stretch;justify-content: center;background-color: white;position: relative;}#sk-container-id-2 div.sk-item::before, #sk-container-id-2 div.sk-parallel-item::before {content: \"\";position: absolute;border-left: 1px solid gray;box-sizing: border-box;top: 0;bottom: 0;left: 50%;z-index: -1;}#sk-container-id-2 div.sk-parallel-item {display: flex;flex-direction: column;z-index: 1;position: relative;background-color: white;}#sk-container-id-2 div.sk-parallel-item:first-child::after {align-self: flex-end;width: 50%;}#sk-container-id-2 div.sk-parallel-item:last-child::after {align-self: flex-start;width: 50%;}#sk-container-id-2 div.sk-parallel-item:only-child::after {width: 0;}#sk-container-id-2 div.sk-dashed-wrapped {border: 1px dashed gray;margin: 0 0.4em 0.5em 0.4em;box-sizing: border-box;padding-bottom: 0.4em;background-color: white;}#sk-container-id-2 div.sk-label label {font-family: monospace;font-weight: bold;display: inline-block;line-height: 1.2em;}#sk-container-id-2 div.sk-label-container {text-align: center;}#sk-container-id-2 div.sk-container {/* jupyter's `normalize.less` sets `[hidden] { display: none; }` but bootstrap.min.css set `[hidden] { display: none !important; }` so we also need the `!important` here to be able to override the default hidden behavior on the sphinx rendered scikit-learn.org. See: https://github.com/scikit-learn/scikit-learn/issues/21755 */display: inline-block !important;position: relative;}#sk-container-id-2 div.sk-text-repr-fallback {display: none;}</style><div id=\"sk-container-id-2\" class=\"sk-top-container\"><div class=\"sk-text-repr-fallback\"><pre>GridSearchCV(cv=10,\n",
       "             estimator=Pipeline(steps=[(&#x27;preprocessor&#x27;,\n",
       "                                        ColumnTransformer(remainder=&#x27;passthrough&#x27;,\n",
       "                                                          transformers=[])),\n",
       "                                       (&#x27;oversampler&#x27;, &#x27;passthrough&#x27;),\n",
       "                                       (&#x27;undersampler&#x27;, &#x27;passthrough&#x27;),\n",
       "                                       (&#x27;randomforest&#x27;,\n",
       "                                        RandomForestClassifier())]),\n",
       "             n_jobs=1,\n",
       "             param_grid={&#x27;randomforest__max_depth&#x27;: [16, 17, 18, 19],\n",
       "                         &#x27;randomforest__max_features&#x27;: [0.4, 0.5],\n",
       "                         &#x27;randomforest__min_samples_leaf&#x27;: [2, 3],\n",
       "                         &#x27;randomforest__n_estimators&#x27;: [130, 135, 140, 145],\n",
       "                         &#x27;randomforest__random_state&#x27;: [1]},\n",
       "             scoring=&#x27;f1_weighted&#x27;, verbose=3)</pre><b>In a Jupyter environment, please rerun this cell to show the HTML representation or trust the notebook. <br />On GitHub, the HTML representation is unable to render, please try loading this page with nbviewer.org.</b></div><div class=\"sk-container\" hidden><div class=\"sk-item sk-dashed-wrapped\"><div class=\"sk-label-container\"><div class=\"sk-label sk-toggleable\"><input class=\"sk-toggleable__control sk-hidden--visually\" id=\"sk-estimator-id-9\" type=\"checkbox\" ><label for=\"sk-estimator-id-9\" class=\"sk-toggleable__label sk-toggleable__label-arrow\">GridSearchCV</label><div class=\"sk-toggleable__content\"><pre>GridSearchCV(cv=10,\n",
       "             estimator=Pipeline(steps=[(&#x27;preprocessor&#x27;,\n",
       "                                        ColumnTransformer(remainder=&#x27;passthrough&#x27;,\n",
       "                                                          transformers=[])),\n",
       "                                       (&#x27;oversampler&#x27;, &#x27;passthrough&#x27;),\n",
       "                                       (&#x27;undersampler&#x27;, &#x27;passthrough&#x27;),\n",
       "                                       (&#x27;randomforest&#x27;,\n",
       "                                        RandomForestClassifier())]),\n",
       "             n_jobs=1,\n",
       "             param_grid={&#x27;randomforest__max_depth&#x27;: [16, 17, 18, 19],\n",
       "                         &#x27;randomforest__max_features&#x27;: [0.4, 0.5],\n",
       "                         &#x27;randomforest__min_samples_leaf&#x27;: [2, 3],\n",
       "                         &#x27;randomforest__n_estimators&#x27;: [130, 135, 140, 145],\n",
       "                         &#x27;randomforest__random_state&#x27;: [1]},\n",
       "             scoring=&#x27;f1_weighted&#x27;, verbose=3)</pre></div></div></div><div class=\"sk-parallel\"><div class=\"sk-parallel-item\"><div class=\"sk-item\"><div class=\"sk-label-container\"><div class=\"sk-label sk-toggleable\"><input class=\"sk-toggleable__control sk-hidden--visually\" id=\"sk-estimator-id-10\" type=\"checkbox\" ><label for=\"sk-estimator-id-10\" class=\"sk-toggleable__label sk-toggleable__label-arrow\">estimator: Pipeline</label><div class=\"sk-toggleable__content\"><pre>Pipeline(steps=[(&#x27;preprocessor&#x27;,\n",
       "                 ColumnTransformer(remainder=&#x27;passthrough&#x27;, transformers=[])),\n",
       "                (&#x27;oversampler&#x27;, &#x27;passthrough&#x27;), (&#x27;undersampler&#x27;, &#x27;passthrough&#x27;),\n",
       "                (&#x27;randomforest&#x27;, RandomForestClassifier())])</pre></div></div></div><div class=\"sk-serial\"><div class=\"sk-item\"><div class=\"sk-serial\"><div class=\"sk-item sk-dashed-wrapped\"><div class=\"sk-label-container\"><div class=\"sk-label sk-toggleable\"><input class=\"sk-toggleable__control sk-hidden--visually\" id=\"sk-estimator-id-11\" type=\"checkbox\" ><label for=\"sk-estimator-id-11\" class=\"sk-toggleable__label sk-toggleable__label-arrow\">preprocessor: ColumnTransformer</label><div class=\"sk-toggleable__content\"><pre>ColumnTransformer(remainder=&#x27;passthrough&#x27;, transformers=[])</pre></div></div></div><div class=\"sk-parallel\"><div class=\"sk-parallel-item\"><div class=\"sk-item\"><div class=\"sk-label-container\"><div class=\"sk-label sk-toggleable\"><input class=\"sk-toggleable__control sk-hidden--visually\" id=\"sk-estimator-id-12\" type=\"checkbox\" ><label for=\"sk-estimator-id-12\" class=\"sk-toggleable__label sk-toggleable__label-arrow\">remainder</label><div class=\"sk-toggleable__content\"><pre></pre></div></div></div><div class=\"sk-serial\"><div class=\"sk-item\"><div class=\"sk-estimator sk-toggleable\"><input class=\"sk-toggleable__control sk-hidden--visually\" id=\"sk-estimator-id-13\" type=\"checkbox\" ><label for=\"sk-estimator-id-13\" class=\"sk-toggleable__label sk-toggleable__label-arrow\">passthrough</label><div class=\"sk-toggleable__content\"><pre>passthrough</pre></div></div></div></div></div></div></div></div><div class=\"sk-item\"><div class=\"sk-estimator sk-toggleable\"><input class=\"sk-toggleable__control sk-hidden--visually\" id=\"sk-estimator-id-14\" type=\"checkbox\" ><label for=\"sk-estimator-id-14\" class=\"sk-toggleable__label sk-toggleable__label-arrow\">passthrough</label><div class=\"sk-toggleable__content\"><pre>passthrough</pre></div></div></div><div class=\"sk-item\"><div class=\"sk-estimator sk-toggleable\"><input class=\"sk-toggleable__control sk-hidden--visually\" id=\"sk-estimator-id-15\" type=\"checkbox\" ><label for=\"sk-estimator-id-15\" class=\"sk-toggleable__label sk-toggleable__label-arrow\">passthrough</label><div class=\"sk-toggleable__content\"><pre>passthrough</pre></div></div></div><div class=\"sk-item\"><div class=\"sk-estimator sk-toggleable\"><input class=\"sk-toggleable__control sk-hidden--visually\" id=\"sk-estimator-id-16\" type=\"checkbox\" ><label for=\"sk-estimator-id-16\" class=\"sk-toggleable__label sk-toggleable__label-arrow\">RandomForestClassifier</label><div class=\"sk-toggleable__content\"><pre>RandomForestClassifier()</pre></div></div></div></div></div></div></div></div></div></div></div></div>"
      ],
      "text/plain": [
       "GridSearchCV(cv=10,\n",
       "             estimator=Pipeline(steps=[('preprocessor',\n",
       "                                        ColumnTransformer(remainder='passthrough',\n",
       "                                                          transformers=[])),\n",
       "                                       ('oversampler', 'passthrough'),\n",
       "                                       ('undersampler', 'passthrough'),\n",
       "                                       ('randomforest',\n",
       "                                        RandomForestClassifier())]),\n",
       "             n_jobs=1,\n",
       "             param_grid={'randomforest__max_depth': [16, 17, 18, 19],\n",
       "                         'randomforest__max_features': [0.4, 0.5],\n",
       "                         'randomforest__min_samples_leaf': [2, 3],\n",
       "                         'randomforest__n_estimators': [130, 135, 140, 145],\n",
       "                         'randomforest__random_state': [1]},\n",
       "             scoring='f1_weighted', verbose=3)"
      ]
     },
     "execution_count": 27,
     "metadata": {},
     "output_type": "execute_result"
    }
   ],
   "source": [
    "grid.fit(X_train, y_train)"
   ]
  },
  {
   "cell_type": "markdown",
   "id": "bb103087",
   "metadata": {},
   "source": [
    "### Predição"
   ]
  },
  {
   "cell_type": "code",
   "execution_count": 28,
   "id": "c7154b3e",
   "metadata": {},
   "outputs": [],
   "source": [
    "y_pred_grid = grid.best_estimator_.predict(X_test)"
   ]
  },
  {
   "cell_type": "markdown",
   "id": "d4f8855c",
   "metadata": {},
   "source": [
    "### F1 score"
   ]
  },
  {
   "cell_type": "code",
   "execution_count": 29,
   "id": "9e8f96d7",
   "metadata": {},
   "outputs": [
    {
     "data": {
      "text/plain": [
       "array([0.52088452, 0.84223759, 0.20987654])"
      ]
     },
     "execution_count": 29,
     "metadata": {},
     "output_type": "execute_result"
    }
   ],
   "source": [
    "f_score_grid = f1_score(y_test, y_pred_grid, average=None)\n",
    "f_score_grid"
   ]
  },
  {
   "cell_type": "markdown",
   "id": "2c44d066",
   "metadata": {},
   "source": [
    "### Classification report"
   ]
  },
  {
   "cell_type": "code",
   "execution_count": 30,
   "id": "b5605577",
   "metadata": {},
   "outputs": [
    {
     "name": "stdout",
     "output_type": "stream",
     "text": [
      "              precision    recall  f1-score   support\n",
      "\n",
      "        news       0.46      0.60      0.52       177\n",
      "     opinion       0.94      0.76      0.84       877\n",
      "        fake       0.12      0.65      0.21        26\n",
      "\n",
      "    accuracy                           0.73      1080\n",
      "   macro avg       0.51      0.67      0.52      1080\n",
      "weighted avg       0.84      0.73      0.77      1080\n",
      "\n"
     ]
    }
   ],
   "source": [
    "class_report_grid = classification_report(y_pred_grid, y_test, target_names=['news', 'opinion', 'fake'])\n",
    "print(class_report_grid)"
   ]
  },
  {
   "cell_type": "markdown",
   "id": "b4574a93",
   "metadata": {},
   "source": [
    "### Melhor parâmetro"
   ]
  },
  {
   "cell_type": "code",
   "execution_count": 31,
   "id": "867801fe",
   "metadata": {},
   "outputs": [
    {
     "data": {
      "text/plain": [
       "{'randomforest__max_depth': 18,\n",
       " 'randomforest__max_features': 0.5,\n",
       " 'randomforest__min_samples_leaf': 3,\n",
       " 'randomforest__n_estimators': 145,\n",
       " 'randomforest__random_state': 1}"
      ]
     },
     "execution_count": 31,
     "metadata": {},
     "output_type": "execute_result"
    }
   ],
   "source": [
    "grid.best_params_"
   ]
  },
  {
   "cell_type": "markdown",
   "id": "2e29846d-d8ce-4d34-8dbf-771e9b74fbf7",
   "metadata": {},
   "source": [
    "### Gerar dataframe de resultados"
   ]
  },
  {
   "cell_type": "code",
   "execution_count": 32,
   "id": "5178f9ba-d43e-4060-9bc7-132bf4484c7d",
   "metadata": {},
   "outputs": [],
   "source": [
    "#resultados_base = pd.DataFrame(columns=['classifier', 'oversampling', 'undersampling', \n",
    "#                                        'parameters_random', 'f1_score_random', 'classification_report_random', 'best_params_random'\n",
    "#                                        'parameters_grid', 'f1_score_grid', 'classification_report_grid', 'best_params_grid'])\n",
    "#resultados_base.to_csv('models/06_parameters_selection.csv', index=False)"
   ]
  },
  {
   "cell_type": "code",
   "execution_count": 33,
   "id": "f10287ae-d531-41c4-b7c4-ed9e62c574ab",
   "metadata": {},
   "outputs": [],
   "source": [
    "resultados_base = pd.read_csv('models/06_parameters_selection.csv', low_memory=True)"
   ]
  },
  {
   "cell_type": "code",
   "execution_count": 36,
   "id": "dd3e938b-147d-42bd-9c38-da763e85dad4",
   "metadata": {},
   "outputs": [],
   "source": [
    "lista_resultados = [classificador, oversampling, undersampling, \n",
    "                    parameters_random, f_score_random, class_report_random, random.best_params_, \n",
    "                    parameters_grid, f_score_grid, class_report_grid, grid.best_params_]"
   ]
  },
  {
   "cell_type": "code",
   "execution_count": 37,
   "id": "d50bac99-700f-4047-80a7-44816e4bf69b",
   "metadata": {},
   "outputs": [],
   "source": [
    "resultados_base.loc[len(resultados_base)] = lista_resultados\n",
    "resultados_base.to_csv('models/06_parameters_selection.csv', index=False)"
   ]
  }
 ],
 "metadata": {
  "kernelspec": {
   "display_name": "Python 3.10.4 ('tcc310')",
   "language": "python",
   "name": "python3"
  },
  "language_info": {
   "codemirror_mode": {
    "name": "ipython",
    "version": 3
   },
   "file_extension": ".py",
   "mimetype": "text/x-python",
   "name": "python",
   "nbconvert_exporter": "python",
   "pygments_lexer": "ipython3",
   "version": "3.10.4"
  },
  "vscode": {
   "interpreter": {
    "hash": "f4f5805ba710d0677e54e741567247f67083628d51f873d74e374cda809e29b0"
   }
  }
 },
 "nbformat": 4,
 "nbformat_minor": 5
}
