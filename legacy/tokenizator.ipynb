{
 "cells": [
  {
   "cell_type": "code",
   "execution_count": 7,
   "id": "3a7bcd61-2235-4a48-8ee0-94f148c8c0b3",
   "metadata": {},
   "outputs": [
    {
     "data": {
      "text/plain": [
       "'todo mortal ser humano . se aristóteles ser humano , logo ele ser mortal'"
      ]
     },
     "execution_count": 7,
     "metadata": {},
     "output_type": "execute_result"
    }
   ],
   "source": [
    "import nltk\n",
    "from nltk.tokenize import sent_tokenize, word_tokenize\n",
    "from nltk.corpus import stopwords\n",
    "\n",
    "##Cogroo-Interface\n",
    "#from cogroo_interface import Cogroo\n",
    "#cogroo = Cogroo.Instance()\n",
    "from cogroo4py.cogroo import Cogroo\n",
    "cogroo = Cogroo()\n",
    "##Lemmatization utilizando Cogroo4py:\n",
    "\n",
    "line = \"Todo mortal é humano. Se Aristóteles é humano, logo ele é mortal\"\n",
    "#line = \"O rato roeu a roupa do rei de Roma\"\n",
    "words = word_tokenize(line, language='portuguese')\n",
    "sent = []\n",
    "for word in words:\n",
    "    sent.append(cogroo.lemmatize(word).lower())\n",
    "sent_str = \" \".join(sent)\n",
    "\n",
    "sent_str\n"
   ]
  },
  {
   "cell_type": "code",
   "execution_count": null,
   "id": "9921b221-fe6c-42cc-8dfe-a699f170a095",
   "metadata": {},
   "outputs": [],
   "source": []
  }
 ],
 "metadata": {
  "kernelspec": {
   "display_name": "Python 3 (ipykernel)",
   "language": "python",
   "name": "python3"
  },
  "language_info": {
   "codemirror_mode": {
    "name": "ipython",
    "version": 3
   },
   "file_extension": ".py",
   "mimetype": "text/x-python",
   "name": "python",
   "nbconvert_exporter": "python",
   "pygments_lexer": "ipython3",
   "version": "3.10.4"
  }
 },
 "nbformat": 4,
 "nbformat_minor": 5
}
