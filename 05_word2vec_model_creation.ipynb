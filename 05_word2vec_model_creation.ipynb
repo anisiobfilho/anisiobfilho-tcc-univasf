{
 "cells": [
  {
   "cell_type": "code",
   "execution_count": 1,
   "id": "31c4abd1-18d0-42d8-b440-d3235174faea",
   "metadata": {},
   "outputs": [],
   "source": [
    "# PIVIC - \"Um modelo computacional para identificação de notícias falsas sobre a Covid-19 no Brasil\"\n",
    "# Code: Machine Learning - Supervised Learning\n",
    "# Author: Anísio Pereira Batista Filho"
   ]
  },
  {
   "cell_type": "code",
   "execution_count": 2,
   "id": "f2ba65bf-2866-4355-89e8-20e456e731e1",
   "metadata": {},
   "outputs": [],
   "source": [
    "##Essentials\n",
    "import os\n",
    "import csv\n",
    "import numpy as np\n",
    "import pandas as pd\n",
    "import gensim\n",
    "import time\n",
    "\n",
    "from sklearn.decomposition import PCA"
   ]
  },
  {
   "cell_type": "code",
   "execution_count": 3,
   "id": "3bf09d95-d3b6-4bd7-9cc8-e35a2f4612e3",
   "metadata": {},
   "outputs": [],
   "source": [
    "pd.set_option(\"display.max_columns\", None)"
   ]
  },
  {
   "cell_type": "markdown",
   "id": "d42be450-011a-4303-980d-d80d9f1ec9af",
   "metadata": {},
   "source": [
    "## Abertura de arquivo e criação do dataframe"
   ]
  },
  {
   "cell_type": "code",
   "execution_count": 4,
   "id": "9ee050c9-1ec2-4941-beeb-9e23f42fcf9a",
   "metadata": {},
   "outputs": [],
   "source": [
    "df = pd.read_csv('data/corpus_labeled/iguais/bases_tcc/03_geracao_carcteristicas_base.csv', sep=\",\", low_memory=False)"
   ]
  },
  {
   "cell_type": "code",
   "execution_count": 5,
   "id": "a862ce5e-c88e-4f82-aac9-14cac54d927e",
   "metadata": {},
   "outputs": [],
   "source": [
    "df['tweet_text_lemmatization'] = df['tweet_text_lemmatization'].map(eval)"
   ]
  },
  {
   "cell_type": "code",
   "execution_count": 6,
   "id": "e710517f-3f39-410d-86cf-8fd51d939818",
   "metadata": {},
   "outputs": [],
   "source": [
    "df['tweet_text_stemming'] = df['tweet_text_stemming'].map(eval)"
   ]
  },
  {
   "cell_type": "code",
   "execution_count": 7,
   "id": "ca05f3c6-8a90-4d6d-9274-c9665f528038",
   "metadata": {},
   "outputs": [],
   "source": [
    "coluna_selecionada = df['tweet_text_lemmatization']"
   ]
  },
  {
   "cell_type": "markdown",
   "id": "aa0ec105-07b4-405e-82d4-043c2fae8866",
   "metadata": {},
   "source": [
    "### Criação do modelo Word2Vec"
   ]
  },
  {
   "cell_type": "code",
   "execution_count": 8,
   "id": "bef26bec-6d39-4bad-9870-8d1f83ae4a4f",
   "metadata": {},
   "outputs": [
    {
     "name": "stdout",
     "output_type": "stream",
     "text": [
      "Esse processo levou  0.29 segundos\n"
     ]
    }
   ],
   "source": [
    "start = time.time()\n",
    "model = gensim.models.Word2Vec(coluna_selecionada,\n",
    "                 vector_size=100\n",
    "                 # Size is the length of our vector.\n",
    "                )\n",
    "\n",
    "end = round(time.time()-start,2)\n",
    "print(\"Esse processo levou \",end,\"segundos\")"
   ]
  },
  {
   "cell_type": "markdown",
   "id": "bf8b2092-bd8f-452c-8d0a-a88ca5534715",
   "metadata": {},
   "source": [
    "### Classe criadora de sequências"
   ]
  },
  {
   "cell_type": "code",
   "execution_count": 9,
   "id": "cfba1d86-f910-4833-bca1-1328c4a45d60",
   "metadata": {},
   "outputs": [],
   "source": [
    "class Sequencer():\n",
    "    \n",
    "    def __init__(self,\n",
    "                 all_words,\n",
    "                 max_words,\n",
    "                 seq_len,\n",
    "                 embedding_matrix\n",
    "                ):\n",
    "        \n",
    "        self.seq_len = seq_len\n",
    "        self.embed_matrix = embedding_matrix\n",
    "        \"\"\"\n",
    "        temp_vocab = Vocab which has all the unique words\n",
    "        self.vocab = Our last vocab which has only most used N words.\n",
    "    \n",
    "        \"\"\"\n",
    "        temp_vocab = list(set(all_words))\n",
    "        self.vocab = []\n",
    "        self.word_cnts = {}\n",
    "        \"\"\"\n",
    "        Now we'll create a hash map (dict) which includes words and their occurencies\n",
    "        \"\"\"\n",
    "        for word in temp_vocab:\n",
    "            # 0 does not have a meaning, you can add the word to the list\n",
    "            # or something different.\n",
    "            count = len([0 for w in all_words if w == word])\n",
    "            self.word_cnts[word] = count\n",
    "            counts = list(self.word_cnts.values())\n",
    "            indexes = list(range(len(counts)))\n",
    "        \n",
    "        # Now we'll sort counts and while sorting them also will sort indexes.\n",
    "        # We'll use those indexes to find most used N word.\n",
    "        cnt = 0\n",
    "        while cnt + 1 != len(counts):\n",
    "            cnt = 0\n",
    "            for i in range(len(counts)-1):\n",
    "                if counts[i] < counts[i+1]:\n",
    "                    counts[i+1],counts[i] = counts[i],counts[i+1]\n",
    "                    indexes[i],indexes[i+1] = indexes[i+1],indexes[i]\n",
    "                else:\n",
    "                    cnt += 1\n",
    "        \n",
    "        for ind in indexes[:max_words]:\n",
    "            self.vocab.append(temp_vocab[ind])\n",
    "                    \n",
    "    def textToVector(self,text):\n",
    "        # First we need to split the text into its tokens and learn the length\n",
    "        # If length is shorter than the max len we'll add some spaces (100D vectors which has only zero values)\n",
    "        # If it's longer than the max len we'll trim from the end.\n",
    "        tokens = text.split()\n",
    "        len_v = len(tokens)-1 if len(tokens) < self.seq_len else self.seq_len-1\n",
    "        vec = []\n",
    "        for tok in tokens[:len_v]:\n",
    "            try:\n",
    "                vec.append(self.embed_matrix[tok])\n",
    "            except Exception as E:\n",
    "                pass\n",
    "        \n",
    "        last_pieces = self.seq_len - len(vec)\n",
    "        for i in range(last_pieces):\n",
    "            vec.append(np.zeros(100,))\n",
    "        \n",
    "        return np.asarray(vec).flatten()\n",
    "                \n",
    "                \n",
    "            \n",
    "        "
   ]
  },
  {
   "cell_type": "code",
   "execution_count": 10,
   "id": "3cb393fe-4cfa-4f1f-a32d-18a41cb8289c",
   "metadata": {},
   "outputs": [
    {
     "name": "stdout",
     "output_type": "stream",
     "text": [
      "Esse processo levou  39.19 segundos\n"
     ]
    }
   ],
   "source": [
    "start = time.time()\n",
    "sequencer = Sequencer(all_words = [token for seq in coluna_selecionada for token in seq],\n",
    "              max_words = 5000,\n",
    "              seq_len = 500,\n",
    "              embedding_matrix = model.wv\n",
    "             )\n",
    "\n",
    "end = round(time.time()-start,2)\n",
    "print(\"Esse processo levou \",end,\"segundos\")"
   ]
  },
  {
   "cell_type": "code",
   "execution_count": 11,
   "id": "69666c56-2833-48d6-bfb3-e99007f4aff8",
   "metadata": {},
   "outputs": [
    {
     "name": "stdout",
     "output_type": "stream",
     "text": [
      "(3600, 50000)\n"
     ]
    }
   ],
   "source": [
    "# But before creating a PCA model using scikit-learn let's create\n",
    "# vectors for our each vector\n",
    "x_vecs = np.asarray([sequencer.textToVector(\" \".join(seq)) for seq in coluna_selecionada])\n",
    "print(x_vecs.shape)"
   ]
  },
  {
   "cell_type": "code",
   "execution_count": 12,
   "id": "26f218ea-adaa-4f2f-ab34-6e90f0132cf4",
   "metadata": {},
   "outputs": [
    {
     "name": "stdout",
     "output_type": "stream",
     "text": [
      "Sum of variance ratios:  0.998551387436596\n"
     ]
    }
   ],
   "source": [
    "pca_model = PCA(n_components=50)\n",
    "pca_model.fit(x_vecs)\n",
    "print(\"Sum of variance ratios: \",sum(pca_model.explained_variance_ratio_))"
   ]
  },
  {
   "cell_type": "code",
   "execution_count": 13,
   "id": "15f90edd-ea0c-48b6-9c0f-728937bc8cd9",
   "metadata": {},
   "outputs": [
    {
     "data": {
      "text/plain": [
       "(3600, 50)"
      ]
     },
     "execution_count": 13,
     "metadata": {},
     "output_type": "execute_result"
    }
   ],
   "source": [
    "x_comps = pca_model.transform(x_vecs)\n",
    "x_comps.shape"
   ]
  },
  {
   "cell_type": "markdown",
   "id": "fec92b65",
   "metadata": {},
   "source": [
    "### Salvando modelo Word2Vec"
   ]
  },
  {
   "cell_type": "code",
   "execution_count": 16,
   "id": "4f9715aa",
   "metadata": {},
   "outputs": [],
   "source": [
    "X = pd.DataFrame(x_comps)"
   ]
  },
  {
   "cell_type": "code",
   "execution_count": 17,
   "id": "30fcd088",
   "metadata": {},
   "outputs": [],
   "source": [
    "X.to_csv(\"data/corpus_labeled/iguais/bases_tcc/05_word2vec_model_creation_base.csv\", sep=\",\", index=False)"
   ]
  }
 ],
 "metadata": {
  "kernelspec": {
   "display_name": "Python 3.10.4 ('tcc310')",
   "language": "python",
   "name": "python3"
  },
  "language_info": {
   "codemirror_mode": {
    "name": "ipython",
    "version": 3
   },
   "file_extension": ".py",
   "mimetype": "text/x-python",
   "name": "python",
   "nbconvert_exporter": "python",
   "pygments_lexer": "ipython3",
   "version": "3.10.4"
  },
  "vscode": {
   "interpreter": {
    "hash": "f4f5805ba710d0677e54e741567247f67083628d51f873d74e374cda809e29b0"
   }
  }
 },
 "nbformat": 4,
 "nbformat_minor": 5
}
