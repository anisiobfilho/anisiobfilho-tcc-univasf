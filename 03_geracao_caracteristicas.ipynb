{
 "cells": [
  {
   "cell_type": "code",
   "execution_count": null,
   "id": "61b5deef-153d-4a81-a1b5-bed40354a645",
   "metadata": {
    "tags": []
   },
   "outputs": [],
   "source": [
    "# TCC: \n",
    "# Code: \n",
    "# Author: Anísio Pereira Batista Filho"
   ]
  },
  {
   "cell_type": "markdown",
   "id": "b35fa6ba-5608-4a36-9958-33cde50cf768",
   "metadata": {},
   "source": [
    "## Importações"
   ]
  },
  {
   "cell_type": "code",
   "execution_count": 25,
   "id": "111a7c84-03b1-4297-a9c8-4a94d45e2f6a",
   "metadata": {
    "tags": []
   },
   "outputs": [],
   "source": [
    "import csv\n",
    "import matplotlib\n",
    "import matplotlib.pyplot as plt\n",
    "import numpy as np\n",
    "import os\n",
    "import pandas as pd\n",
    "import re\n",
    "import spacy\n",
    "import string\n",
    "import time\n",
    "import tweepy as tw\n",
    "import unicodedata\n",
    "\n",
    "from datetime import datetime\n",
    "from geopy.extra.rate_limiter import RateLimiter\n",
    "from geopy.geocoders import Nominatim\n",
    "from itertools import islice\n",
    "import plotly.express as px\n",
    "from spellchecker import SpellChecker\n",
    "from tqdm.auto import tqdm\n",
    "from unidecode import unidecode\n",
    "from wordcloud import WordCloud, ImageColorGenerator"
   ]
  },
  {
   "cell_type": "markdown",
   "id": "0c704ce9-6d91-43e5-b18d-2c194a8db7e0",
   "metadata": {},
   "source": [
    "## Abertura de arquivo e criação do dataframe"
   ]
  },
  {
   "cell_type": "code",
   "execution_count": 26,
   "id": "36c506e3-045d-45ac-bfe1-ab639272ebc1",
   "metadata": {},
   "outputs": [],
   "source": [
    "df = pd.read_csv('data/corpus_labeled/iguais/bases_tcc/02_text_preprocessing_base.csv', sep=\",\", low_memory=False)"
   ]
  },
  {
   "cell_type": "code",
   "execution_count": 27,
   "id": "45887a41-9a8e-4af2-8bb8-64c44c34f020",
   "metadata": {},
   "outputs": [],
   "source": [
    "df_estados = pd.read_csv(\"data/utils/abreviações_estados.csv\", sep=\",\", low_memory=True)"
   ]
  },
  {
   "cell_type": "code",
   "execution_count": 28,
   "id": "1c5cc0ef-939f-49c0-8259-794601f100c4",
   "metadata": {},
   "outputs": [],
   "source": [
    "dict_estados = df_estados.set_index('sigla')['estado'].to_dict()"
   ]
  },
  {
   "cell_type": "code",
   "execution_count": 29,
   "id": "b4930832-42a4-4be8-8c1b-1dd6679970f9",
   "metadata": {},
   "outputs": [],
   "source": [
    "df_estados_regioes = pd.read_csv(\"data/utils/estados_abreviações_regiões.csv\", sep=\",\", low_memory=True)"
   ]
  },
  {
   "cell_type": "code",
   "execution_count": 30,
   "id": "3c4205fd-a9e4-457f-adad-015d324a5e41",
   "metadata": {},
   "outputs": [],
   "source": [
    "dict_estados_regioes =  df_estados_regioes.set_index('estado')['região'].to_dict()"
   ]
  },
  {
   "cell_type": "markdown",
   "id": "6462a65b-5a60-464a-bc59-9143746d4631",
   "metadata": {
    "tags": []
   },
   "source": [
    "## Funções"
   ]
  },
  {
   "cell_type": "markdown",
   "id": "1bcca730-3ff3-47ec-adea-16ba341475fe",
   "metadata": {},
   "source": [
    "### Inicializações"
   ]
  },
  {
   "cell_type": "code",
   "execution_count": 31,
   "id": "95c5c91f-d746-4899-95cd-e1ddc0b69835",
   "metadata": {},
   "outputs": [],
   "source": [
    "tqdm.pandas()"
   ]
  },
  {
   "cell_type": "code",
   "execution_count": 32,
   "id": "da6d3e7f-a5b0-49d3-addb-fc4f3847ef0d",
   "metadata": {},
   "outputs": [],
   "source": [
    "### Twitter Developer Keys:\n",
    "consumer_key = 'vI9GaSPmhclwCk2e1QzX5noLJ'\n",
    "consumer_secret = 'Mabmim8tFxVQdgsIPwa6RMXJcvDTq03W2DJLrxH3m1RDwcB2dx'\n",
    "access_token = '755473300135043072-12XuA8yjOhPJYmIYN82KkZlzC4c8NaJ'\n",
    "access_token_secret = 'nlpXNfUQFjKoLLJWV0IskOvBjfgr85vwmukxgRK5sdwGH'\n",
    "\n",
    "### Autgenticação entre Twitter Developer e este script:\n",
    "auth = tw.OAuthHandler(consumer_key, consumer_secret)\n",
    "auth.set_access_token(access_token, access_token_secret)\n",
    "api = tw.API(auth, wait_on_rate_limit=True)#, wait_on_rate_limit_notify=True)"
   ]
  },
  {
   "cell_type": "code",
   "execution_count": 33,
   "id": "c1e68ef6-02a4-485f-82b2-4fd568bbf179",
   "metadata": {},
   "outputs": [],
   "source": [
    "spell = SpellChecker(language='pt')"
   ]
  },
  {
   "cell_type": "code",
   "execution_count": 34,
   "id": "33ff4d56-4994-4e0f-83dd-03fe3ed24577",
   "metadata": {},
   "outputs": [],
   "source": [
    "geolocator = Nominatim(user_agent=\"google\")\n",
    "geocode = RateLimiter(geolocator.geocode, min_delay_seconds=1)"
   ]
  },
  {
   "cell_type": "code",
   "execution_count": 42,
   "id": "14cd9e57-159d-4573-adec-e18f77086117",
   "metadata": {},
   "outputs": [],
   "source": [
    "nlp = spacy.load('pt_core_news_lg')"
   ]
  },
  {
   "cell_type": "markdown",
   "id": "20d52509-e93d-4df9-9d39-111cecbabfa2",
   "metadata": {
    "tags": []
   },
   "source": [
    "### Selecionador de turno"
   ]
  },
  {
   "cell_type": "code",
   "execution_count": 87,
   "id": "5c37a315-4d55-42d8-83b3-4124a3cdc7e4",
   "metadata": {},
   "outputs": [],
   "source": [
    "def seleciona_turno(linha):\n",
    "    linha = pd.to_datetime(linha)\n",
    "    linha = linha.strftime(\"%H:%M:%S\")\n",
    "    if linha > '00:00:00' and linha < '11:59:59':\n",
    "        return 'manhã'\n",
    "    elif linha > '12:00:00' and linha < '17:59:59':\n",
    "        return 'tarde'\n",
    "    else: \n",
    "        return 'noite'"
   ]
  },
  {
   "cell_type": "markdown",
   "id": "650a7741-6e6d-4bb2-89ad-ffcda2a7431a",
   "metadata": {},
   "source": [
    "### Crawler de usuários"
   ]
  },
  {
   "cell_type": "code",
   "execution_count": 12,
   "id": "6f5ad6b2-3b25-459f-bee8-8d0196eb3677",
   "metadata": {},
   "outputs": [],
   "source": [
    "def user_crawler(linha):\n",
    "    try:\n",
    "        tweetFetched = api.get_status(linha)\n",
    "        #Para saber o que poder ser recuperado pelo objeto status ou objeto user, pesquisar.       \n",
    "        user_screen_name = tweetFetched.user.screen_name\n",
    "        user_id = tweetFetched.user.id_str\n",
    "        time.sleep(2)        \n",
    "    except:\n",
    "        user_screen_name = 'invalid_user'\n",
    "        user_id = 'invalid_user'\n",
    "        \n",
    "    return user_screen_name, user_id"
   ]
  },
  {
   "cell_type": "markdown",
   "id": "bebc0e1b-a73e-4d72-827b-c34b31147c17",
   "metadata": {},
   "source": [
    "### Tratamento da coluna de localização"
   ]
  },
  {
   "cell_type": "code",
   "execution_count": 13,
   "id": "39735ef1-aab8-4817-a095-dd26687a9d88",
   "metadata": {},
   "outputs": [],
   "source": [
    "def trata_localizacao(linha):\n",
    "    ### Convertendo para string\n",
    "    linha = str(linha)\n",
    "    ### Removendo os '-'\n",
    "    linha = re.sub(r'[^\\w\\s]', ' ', linha)\n",
    "    ### Removendo a pontuação da string\n",
    "    linha = linha.translate(str.maketrans('', '', string.punctuation))\n",
    "    ### Colocando as palavras em caixa baixa\n",
    "    linha = linha.lower()\n",
    "    ### Aplicando a correção gramatical do Spellchecker\n",
    "    linha = spell.correction(linha)\n",
    "    ### Removendo a acentuação da string\n",
    "    linha = unidecode(linha)\n",
    "    ### Removendo espaços múltiplos\n",
    "    linha = re.sub(r'\\s+', ' ', linha)\n",
    "\n",
    "    for parte in linha.split():\n",
    "        if parte in dict_estados.keys():\n",
    "            linha = linha.replace(parte, dict_estados[parte])\n",
    "    return linha"
   ]
  },
  {
   "cell_type": "markdown",
   "id": "06ac0a0f-f78c-4429-99ca-9414495bb324",
   "metadata": {},
   "source": [
    "### Gerador de listas de estados e regiçoes utilizando Geopy"
   ]
  },
  {
   "cell_type": "code",
   "execution_count": 14,
   "id": "8d3cabea-ffb6-4a7d-9c07-fca9ff3c85f8",
   "metadata": {},
   "outputs": [],
   "source": [
    "def gera_estado_regiao_geopy(linha):\n",
    "    try:\n",
    "        local = geolocator.geocode(linha, addressdetails=True)\n",
    "        local = local.raw\n",
    "        local = local['address']\n",
    "\n",
    "        if local['country_code'] == 'br':\n",
    "            try:\n",
    "                if local['state'] in dict_estados_regioes:\n",
    "                    estado = local['state']\n",
    "                    regiao = dict_estados_regioes[local['state']]\n",
    "            except:\n",
    "                estado = 'statenotdefined'\n",
    "                regiao = 'regionnotdefined'\n",
    "        else:\n",
    "            estado = 'notbrazilstate'\n",
    "            regiao = 'notbrazilregion'\n",
    "    except:\n",
    "        #local = {'state': 'invalid', 'region': 'invalid', 'country': 'invalid'}\n",
    "        estado = 'invalidstate'\n",
    "        regiao = 'invalidregion'\n",
    "\n",
    "    return estado, regiao"
   ]
  },
  {
   "cell_type": "markdown",
   "id": "460a2f4c-1ce1-4831-af15-9199e9fe1cdc",
   "metadata": {},
   "source": [
    "### Contador de caracteres"
   ]
  },
  {
   "cell_type": "code",
   "execution_count": 88,
   "id": "89612671-2450-420b-ab95-2e619e6c90ed",
   "metadata": {},
   "outputs": [],
   "source": [
    "def conta_caracteres(linha):    \n",
    "    return len(linha)"
   ]
  },
  {
   "cell_type": "markdown",
   "id": "aef0b548-cb2a-4410-88fc-655eb59807f2",
   "metadata": {},
   "source": [
    "### Contador de palavras"
   ]
  },
  {
   "cell_type": "code",
   "execution_count": 89,
   "id": "7f8dcc27-c049-4c5d-a49a-9dce9becc8c2",
   "metadata": {},
   "outputs": [],
   "source": [
    "def conta_palavras(linha):\n",
    "    return len(linha.split())"
   ]
  },
  {
   "cell_type": "markdown",
   "id": "e06034b9-b2e9-45b1-bf30-ab0ce6e301b2",
   "metadata": {},
   "source": [
    "### Analisador morfológico"
   ]
  },
  {
   "cell_type": "code",
   "execution_count": 90,
   "id": "3525d131-e5a3-499b-a9db-fa067daea2a9",
   "metadata": {},
   "outputs": [],
   "source": [
    "def analisa_morfologia(linha):\n",
    "    doc = nlp(linha)\n",
    "    \n",
    "    substantivos = adjetivos = verbos = adverbios = 0\n",
    "    for token in doc:\n",
    "        if token.pos_ == 'NOUN':\n",
    "            substantivos += 1\n",
    "        elif token.pos_ == 'ADJ':\n",
    "            adjetivos += 1\n",
    "        elif token.pos_ == 'VERB':\n",
    "            verbos += 1\n",
    "        elif token.pos_ == 'ADV':\n",
    "            adverbios += 1\n",
    "    \n",
    "    return substantivos, adjetivos, verbos, adverbios"
   ]
  },
  {
   "cell_type": "markdown",
   "id": "c6dd0cab-293b-42a7-9128-a68c3649edee",
   "metadata": {},
   "source": [
    "## Main"
   ]
  },
  {
   "cell_type": "markdown",
   "id": "09e38efb-fffd-49d1-bad8-dcbeb681556f",
   "metadata": {},
   "source": [
    "### Criação de colunas e ajuste de dados"
   ]
  },
  {
   "cell_type": "markdown",
   "id": "5d88d15b-d9cf-47cb-a293-18e2cddf92af",
   "metadata": {},
   "source": [
    "#### Criação da coluna de turnos"
   ]
  },
  {
   "cell_type": "code",
   "execution_count": null,
   "id": "aeb3bdf4-76a8-43a9-ab1b-53708a75592a",
   "metadata": {},
   "outputs": [],
   "source": [
    "df['time_shift'] = df.created_at.progress_map(seleciona_turno)"
   ]
  },
  {
   "cell_type": "markdown",
   "id": "fcd46aad-9f5d-416f-aeef-6adca84081c8",
   "metadata": {},
   "source": [
    "#### Criação das colunas de nome de usuário e id de usuário"
   ]
  },
  {
   "cell_type": "code",
   "execution_count": null,
   "id": "343467e0-dda6-4c6e-ba8b-cbdf37591419",
   "metadata": {},
   "outputs": [],
   "source": [
    "df['user_screen_name'], df['user_id'] = zip(*df.tweet_id.progress_apply(lambda x: user_crawler(x)))"
   ]
  },
  {
   "cell_type": "markdown",
   "id": "304c6871-5798-4962-9a76-127fc1c6dfd8",
   "metadata": {},
   "source": [
    "#### Preenchimento dos campos em branco da localização dos usuários"
   ]
  },
  {
   "cell_type": "code",
   "execution_count": null,
   "id": "f5368ccb-6438-460d-9316-eef13f88a2a4",
   "metadata": {},
   "outputs": [],
   "source": [
    "df['user_location'] = df['user_location'].fillna(\"invalidlocation\")"
   ]
  },
  {
   "cell_type": "markdown",
   "id": "6e48dd0b-ff02-47c2-8289-6c6cf5ad92d7",
   "metadata": {},
   "source": [
    "#### Criação da coluna de localização tratada"
   ]
  },
  {
   "cell_type": "code",
   "execution_count": null,
   "id": "f26cce9f-4725-4780-91bc-f63260fc7a6f",
   "metadata": {},
   "outputs": [],
   "source": [
    "df['location_treated'] = df.user_location.progress_map(trata_localizacao)"
   ]
  },
  {
   "cell_type": "markdown",
   "id": "64c74c7f-f992-491c-8eee-a7aeab78065f",
   "metadata": {},
   "source": [
    "#### Criação das colunas de Estado e Região com base na localização tratada"
   ]
  },
  {
   "cell_type": "code",
   "execution_count": null,
   "id": "8e321b10-36d6-43bf-b0a8-bdb33075a6fa",
   "metadata": {},
   "outputs": [],
   "source": [
    "df['state_location'], df['region_location'] = zip(*df.location_treated.progress_apply(lambda x: gera_estado_regiao_geopy(x)))"
   ]
  },
  {
   "cell_type": "markdown",
   "id": "2576d235-d6a6-4943-a43d-464470d71f78",
   "metadata": {},
   "source": [
    "#### Calculo da quantidade de caracteres do stemming"
   ]
  },
  {
   "cell_type": "code",
   "execution_count": null,
   "id": "2d4732ce-9fd9-4b38-af0a-4d9c5b235e1f",
   "metadata": {},
   "outputs": [],
   "source": [
    "df['tweet_text_stemming_char_len'] = df.tweet_text_stemming.progress_map(conta_caracteres)"
   ]
  },
  {
   "cell_type": "markdown",
   "id": "a0ca8560-baaa-4bd3-8592-6dec9989f3af",
   "metadata": {},
   "source": [
    "#### Calculo da quantidade de palavras do stemming"
   ]
  },
  {
   "cell_type": "code",
   "execution_count": null,
   "id": "cc7ea85e-49a8-4447-a47c-ad6d5c97bd35",
   "metadata": {},
   "outputs": [],
   "source": [
    "df['tweet_text_stemming_word_len'] = df.tweet_text_stemming.progress_map(conta_palavras)"
   ]
  },
  {
   "cell_type": "markdown",
   "id": "efb82b13-73f7-40cc-9be5-59dbead474c8",
   "metadata": {},
   "source": [
    "#### Calculo da quantidade de caracteres do lemmatization"
   ]
  },
  {
   "cell_type": "code",
   "execution_count": null,
   "id": "ba84da0f-e56e-4552-b167-aeaafe615e3c",
   "metadata": {},
   "outputs": [],
   "source": [
    "df['tweet_text_lemmatization_char_len'] = df.tweet_text_lemmatization.progress_map(conta_caracteres)"
   ]
  },
  {
   "cell_type": "markdown",
   "id": "f3741bc9-5804-4d20-9762-0ccec2f339f4",
   "metadata": {},
   "source": [
    "#### Calculo da quantidade de palavras do lemmatization"
   ]
  },
  {
   "cell_type": "code",
   "execution_count": null,
   "id": "def7ada0-c232-49fb-aff7-9105095b2f07",
   "metadata": {},
   "outputs": [],
   "source": [
    "df['tweet_text_lemmatization_word_len'] = df.tweet_text_lemmatization.progress_map(conta_palavras)"
   ]
  },
  {
   "cell_type": "markdown",
   "id": "a8e6fa93-c520-4ecf-a5cb-4ed1ce3095a0",
   "metadata": {},
   "source": [
    "#### Geração de características NAVA para o stemming"
   ]
  },
  {
   "cell_type": "code",
   "execution_count": 82,
   "id": "e58ea862-03d4-4a21-ac05-064b54d6560e",
   "metadata": {},
   "outputs": [
    {
     "data": {
      "application/vnd.jupyter.widget-view+json": {
       "model_id": "67f2b47e0d644de782c2a81b9f689181",
       "version_major": 2,
       "version_minor": 0
      },
      "text/plain": [
       "  0%|          | 0/3600 [00:00<?, ?it/s]"
      ]
     },
     "metadata": {},
     "output_type": "display_data"
    }
   ],
   "source": [
    "df['tweet_text_stemming_noun'], df['tweet_text_stemming_adj'], df['tweet_text_stemming_verb'], df['tweet_text_stemming_adv']  = zip(*df.tweet_text_stemming.progress_apply(lambda x: analisa_morfologia(x)))"
   ]
  },
  {
   "cell_type": "markdown",
   "id": "81f2ef09-f546-4dee-9f9c-ecfea10fd6ca",
   "metadata": {},
   "source": [
    "#### Geração de características NAVA para o lemmatization"
   ]
  },
  {
   "cell_type": "code",
   "execution_count": 83,
   "id": "55522146-5993-4146-bb72-7104d54ff50b",
   "metadata": {},
   "outputs": [
    {
     "data": {
      "application/vnd.jupyter.widget-view+json": {
       "model_id": "18d94f64128e4309b09405051e4c238c",
       "version_major": 2,
       "version_minor": 0
      },
      "text/plain": [
       "  0%|          | 0/3600 [00:00<?, ?it/s]"
      ]
     },
     "metadata": {},
     "output_type": "display_data"
    }
   ],
   "source": [
    "df['tweet_text_lemmatization_noun'], df['tweet_text_lemmatization_adj'], df['tweet_text_lemmatization_verb'], df['tweet_text_lemmatization_adv']  = zip(*df.tweet_text_lemmatization.progress_apply(lambda x: analisa_morfologia(x)))"
   ]
  },
  {
   "cell_type": "markdown",
   "id": "406b4fdf-c3c7-480e-823a-383682dbefa6",
   "metadata": {},
   "source": [
    "## Salvando a base"
   ]
  },
  {
   "cell_type": "code",
   "execution_count": 85,
   "id": "77b8ed6c-2eb8-4bc5-be43-30c6e984f16f",
   "metadata": {},
   "outputs": [],
   "source": [
    "df.to_csv('data/corpus_labeled/iguais/bases_tcc/03_geracao_carcteristicas_base.csv', sep=',', index=False)"
   ]
  },
  {
   "cell_type": "code",
   "execution_count": 86,
   "id": "12e761f4-fb51-426d-8eb4-9bb923c9337c",
   "metadata": {},
   "outputs": [
    {
     "data": {
      "text/html": [
       "<div>\n",
       "<style scoped>\n",
       "    .dataframe tbody tr th:only-of-type {\n",
       "        vertical-align: middle;\n",
       "    }\n",
       "\n",
       "    .dataframe tbody tr th {\n",
       "        vertical-align: top;\n",
       "    }\n",
       "\n",
       "    .dataframe thead th {\n",
       "        text-align: right;\n",
       "    }\n",
       "</style>\n",
       "<table border=\"1\" class=\"dataframe\">\n",
       "  <thead>\n",
       "    <tr style=\"text-align: right;\">\n",
       "      <th></th>\n",
       "      <th>tweet_id</th>\n",
       "      <th>created_at</th>\n",
       "      <th>user_location</th>\n",
       "      <th>tweet_text</th>\n",
       "      <th>label_A</th>\n",
       "      <th>label_B</th>\n",
       "      <th>pct_certainty_A</th>\n",
       "      <th>pct_certainty_B</th>\n",
       "      <th>tweet_text_preproc</th>\n",
       "      <th>tweet_text_stemming</th>\n",
       "      <th>...</th>\n",
       "      <th>tweet_text_lemmatization_char_len</th>\n",
       "      <th>tweet_text_lemmatization_word_len</th>\n",
       "      <th>tweet_text_stemming_noun</th>\n",
       "      <th>tweet_text_stemming_adj</th>\n",
       "      <th>tweet_text_stemming_verb</th>\n",
       "      <th>tweet_text_stemming_adv</th>\n",
       "      <th>tweet_text_lemmatization_noun</th>\n",
       "      <th>tweet_text_lemmatization_adj</th>\n",
       "      <th>tweet_text_lemmatization_verb</th>\n",
       "      <th>tweet_text_lemmatization_adv</th>\n",
       "    </tr>\n",
       "  </thead>\n",
       "  <tbody>\n",
       "    <tr>\n",
       "      <th>0</th>\n",
       "      <td>1346534190335074310</td>\n",
       "      <td>Tue Jan 05 19:09:03 +0000 2021</td>\n",
       "      <td>São Paulo, Brasil</td>\n",
       "      <td>@HugoMachadoFil3 @quadrelli_marco A parceria c...</td>\n",
       "      <td>-1</td>\n",
       "      <td>-1.0</td>\n",
       "      <td>75</td>\n",
       "      <td>100.0</td>\n",
       "      <td>['parceria', 'chineses', 'vacina', 'preve', 't...</td>\n",
       "      <td>['parc', 'chines', 'vacin', 'prev', 'troc', 'c...</td>\n",
       "      <td>...</td>\n",
       "      <td>192</td>\n",
       "      <td>18</td>\n",
       "      <td>6</td>\n",
       "      <td>4</td>\n",
       "      <td>3</td>\n",
       "      <td>0</td>\n",
       "      <td>10</td>\n",
       "      <td>2</td>\n",
       "      <td>4</td>\n",
       "      <td>0</td>\n",
       "    </tr>\n",
       "    <tr>\n",
       "      <th>1</th>\n",
       "      <td>1349140630753210373</td>\n",
       "      <td>Tue Jan 12 23:46:06 +0000 2021</td>\n",
       "      <td>Brasil</td>\n",
       "      <td>@danielgirardi83 @Fenovais28 @mab_sp125 @samyd...</td>\n",
       "      <td>0</td>\n",
       "      <td>0.0</td>\n",
       "      <td>75</td>\n",
       "      <td>75.0</td>\n",
       "      <td>['por que', 'deixa', 'minion', 'nervoso', 'jur...</td>\n",
       "      <td>['por qu', 'deix', 'minion', 'nerv', 'jur', 'i...</td>\n",
       "      <td>...</td>\n",
       "      <td>165</td>\n",
       "      <td>16</td>\n",
       "      <td>6</td>\n",
       "      <td>3</td>\n",
       "      <td>1</td>\n",
       "      <td>0</td>\n",
       "      <td>7</td>\n",
       "      <td>3</td>\n",
       "      <td>3</td>\n",
       "      <td>0</td>\n",
       "    </tr>\n",
       "    <tr>\n",
       "      <th>2</th>\n",
       "      <td>1348749014964056065</td>\n",
       "      <td>Mon Jan 11 21:49:58 +0000 2021</td>\n",
       "      <td>Barcelona</td>\n",
       "      <td>@edisonrd1977 Es peligrosa la vacuna de Pfizer?</td>\n",
       "      <td>0</td>\n",
       "      <td>0.0</td>\n",
       "      <td>100</td>\n",
       "      <td>100.0</td>\n",
       "      <td>['espirito santo', 'peligrosa', 'la', 'vacuna'...</td>\n",
       "      <td>['espirito sant', 'peligr', 'la', 'vacun', 'va...</td>\n",
       "      <td>...</td>\n",
       "      <td>57</td>\n",
       "      <td>6</td>\n",
       "      <td>1</td>\n",
       "      <td>1</td>\n",
       "      <td>0</td>\n",
       "      <td>0</td>\n",
       "      <td>2</td>\n",
       "      <td>0</td>\n",
       "      <td>0</td>\n",
       "      <td>0</td>\n",
       "    </tr>\n",
       "    <tr>\n",
       "      <th>3</th>\n",
       "      <td>1349129476425314306</td>\n",
       "      <td>Tue Jan 12 23:01:47 +0000 2021</td>\n",
       "      <td>São Paulo</td>\n",
       "      <td>@MBittencourtMD @samydana @GabrielNemer_ @mab_...</td>\n",
       "      <td>-1</td>\n",
       "      <td>-1.0</td>\n",
       "      <td>25</td>\n",
       "      <td>100.0</td>\n",
       "      <td>['entao', 'perdi', 'aqui', 'grupo', 'placebo',...</td>\n",
       "      <td>['enta', 'perd', 'aqu', 'grup', 'placeb', 'peg...</td>\n",
       "      <td>...</td>\n",
       "      <td>156</td>\n",
       "      <td>17</td>\n",
       "      <td>9</td>\n",
       "      <td>1</td>\n",
       "      <td>2</td>\n",
       "      <td>1</td>\n",
       "      <td>9</td>\n",
       "      <td>0</td>\n",
       "      <td>5</td>\n",
       "      <td>2</td>\n",
       "    </tr>\n",
       "    <tr>\n",
       "      <th>4</th>\n",
       "      <td>1348781498602807305</td>\n",
       "      <td>Mon Jan 11 23:59:03 +0000 2021</td>\n",
       "      <td>invalidlocation</td>\n",
       "      <td>Vidas importam!  Sim, vidas importam. Mas tamb...</td>\n",
       "      <td>0</td>\n",
       "      <td>0.0</td>\n",
       "      <td>25</td>\n",
       "      <td>75.0</td>\n",
       "      <td>['vidas', 'importam', 'sim', 'vidas', 'importa...</td>\n",
       "      <td>['vid', 'import', 'sim', 'vid', 'import', 'rec...</td>\n",
       "      <td>...</td>\n",
       "      <td>158</td>\n",
       "      <td>16</td>\n",
       "      <td>8</td>\n",
       "      <td>2</td>\n",
       "      <td>1</td>\n",
       "      <td>1</td>\n",
       "      <td>9</td>\n",
       "      <td>0</td>\n",
       "      <td>5</td>\n",
       "      <td>1</td>\n",
       "    </tr>\n",
       "    <tr>\n",
       "      <th>...</th>\n",
       "      <td>...</td>\n",
       "      <td>...</td>\n",
       "      <td>...</td>\n",
       "      <td>...</td>\n",
       "      <td>...</td>\n",
       "      <td>...</td>\n",
       "      <td>...</td>\n",
       "      <td>...</td>\n",
       "      <td>...</td>\n",
       "      <td>...</td>\n",
       "      <td>...</td>\n",
       "      <td>...</td>\n",
       "      <td>...</td>\n",
       "      <td>...</td>\n",
       "      <td>...</td>\n",
       "      <td>...</td>\n",
       "      <td>...</td>\n",
       "      <td>...</td>\n",
       "      <td>...</td>\n",
       "      <td>...</td>\n",
       "      <td>...</td>\n",
       "    </tr>\n",
       "    <tr>\n",
       "      <th>3595</th>\n",
       "      <td>1347323085310078976</td>\n",
       "      <td>Thu Jan 07 23:23:50 +0000 2021</td>\n",
       "      <td>timbaktu</td>\n",
       "      <td>@greenparadyse @gsilvaflavio @CNNBrasil Você s...</td>\n",
       "      <td>0</td>\n",
       "      <td>0.0</td>\n",
       "      <td>25</td>\n",
       "      <td>100.0</td>\n",
       "      <td>['leu', 'manchete', 'vacina', 'informar', 'sob...</td>\n",
       "      <td>['leu', 'manchet', 'vacin', 'inform', 'sobr', ...</td>\n",
       "      <td>...</td>\n",
       "      <td>73</td>\n",
       "      <td>7</td>\n",
       "      <td>3</td>\n",
       "      <td>1</td>\n",
       "      <td>1</td>\n",
       "      <td>0</td>\n",
       "      <td>3</td>\n",
       "      <td>0</td>\n",
       "      <td>3</td>\n",
       "      <td>0</td>\n",
       "    </tr>\n",
       "    <tr>\n",
       "      <th>3596</th>\n",
       "      <td>1347676480717905922</td>\n",
       "      <td>Fri Jan 08 22:48:06 +0000 2021</td>\n",
       "      <td>invalidlocation</td>\n",
       "      <td>@GugaNoblat Q dó, ver um esquerdinha grudado n...</td>\n",
       "      <td>0</td>\n",
       "      <td>0.0</td>\n",
       "      <td>100</td>\n",
       "      <td>100.0</td>\n",
       "      <td>['ver', 'esquerdinha', 'grudado', 'bolas', 'do...</td>\n",
       "      <td>['ver', 'esquerd', 'grud', 'bol', 'dor', 'vaci...</td>\n",
       "      <td>...</td>\n",
       "      <td>69</td>\n",
       "      <td>7</td>\n",
       "      <td>4</td>\n",
       "      <td>2</td>\n",
       "      <td>1</td>\n",
       "      <td>0</td>\n",
       "      <td>3</td>\n",
       "      <td>1</td>\n",
       "      <td>3</td>\n",
       "      <td>0</td>\n",
       "    </tr>\n",
       "    <tr>\n",
       "      <th>3597</th>\n",
       "      <td>1348598899896946690</td>\n",
       "      <td>Mon Jan 11 11:53:28 +0000 2021</td>\n",
       "      <td>São Paulo</td>\n",
       "      <td>@da_cia @victormasc Não tenho nada a ver com n...</td>\n",
       "      <td>1</td>\n",
       "      <td>1.0</td>\n",
       "      <td>75</td>\n",
       "      <td>100.0</td>\n",
       "      <td>['nada', 'ver', 'nada', 'disso', 'sequer', 'vo...</td>\n",
       "      <td>['nad', 'ver', 'nad', 'diss', 'sequ', 'vot', '...</td>\n",
       "      <td>...</td>\n",
       "      <td>197</td>\n",
       "      <td>22</td>\n",
       "      <td>7</td>\n",
       "      <td>2</td>\n",
       "      <td>1</td>\n",
       "      <td>0</td>\n",
       "      <td>9</td>\n",
       "      <td>0</td>\n",
       "      <td>7</td>\n",
       "      <td>0</td>\n",
       "    </tr>\n",
       "    <tr>\n",
       "      <th>3598</th>\n",
       "      <td>1347313773938434052</td>\n",
       "      <td>Thu Jan 07 22:46:50 +0000 2021</td>\n",
       "      <td>invalidlocation</td>\n",
       "      <td>@djivanrodrigues @VEJA Sim, mas antes ele sina...</td>\n",
       "      <td>0</td>\n",
       "      <td>0.0</td>\n",
       "      <td>25</td>\n",
       "      <td>100.0</td>\n",
       "      <td>['sim', 'antes', 'sinalizou', 'apenas', 'milho...</td>\n",
       "      <td>['sim', 'ant', 'sinaliz', 'apen', 'milho', 'va...</td>\n",
       "      <td>...</td>\n",
       "      <td>180</td>\n",
       "      <td>18</td>\n",
       "      <td>14</td>\n",
       "      <td>2</td>\n",
       "      <td>0</td>\n",
       "      <td>1</td>\n",
       "      <td>7</td>\n",
       "      <td>1</td>\n",
       "      <td>5</td>\n",
       "      <td>3</td>\n",
       "    </tr>\n",
       "    <tr>\n",
       "      <th>3599</th>\n",
       "      <td>1349142870037590017</td>\n",
       "      <td>Tue Jan 12 23:55:00 +0000 2021</td>\n",
       "      <td>i love u demi</td>\n",
       "      <td>@forgetmeweirdo mete com força coronavac</td>\n",
       "      <td>0</td>\n",
       "      <td>0.0</td>\n",
       "      <td>100</td>\n",
       "      <td>100.0</td>\n",
       "      <td>['mete', 'forca', 'vacina']</td>\n",
       "      <td>['met', 'forc', 'vacin']</td>\n",
       "      <td>...</td>\n",
       "      <td>28</td>\n",
       "      <td>3</td>\n",
       "      <td>0</td>\n",
       "      <td>1</td>\n",
       "      <td>0</td>\n",
       "      <td>0</td>\n",
       "      <td>2</td>\n",
       "      <td>0</td>\n",
       "      <td>1</td>\n",
       "      <td>0</td>\n",
       "    </tr>\n",
       "  </tbody>\n",
       "</table>\n",
       "<p>3600 rows × 29 columns</p>\n",
       "</div>"
      ],
      "text/plain": [
       "                 tweet_id                      created_at      user_location  \\\n",
       "0     1346534190335074310  Tue Jan 05 19:09:03 +0000 2021  São Paulo, Brasil   \n",
       "1     1349140630753210373  Tue Jan 12 23:46:06 +0000 2021             Brasil   \n",
       "2     1348749014964056065  Mon Jan 11 21:49:58 +0000 2021          Barcelona   \n",
       "3     1349129476425314306  Tue Jan 12 23:01:47 +0000 2021          São Paulo   \n",
       "4     1348781498602807305  Mon Jan 11 23:59:03 +0000 2021    invalidlocation   \n",
       "...                   ...                             ...                ...   \n",
       "3595  1347323085310078976  Thu Jan 07 23:23:50 +0000 2021           timbaktu   \n",
       "3596  1347676480717905922  Fri Jan 08 22:48:06 +0000 2021    invalidlocation   \n",
       "3597  1348598899896946690  Mon Jan 11 11:53:28 +0000 2021          São Paulo   \n",
       "3598  1347313773938434052  Thu Jan 07 22:46:50 +0000 2021    invalidlocation   \n",
       "3599  1349142870037590017  Tue Jan 12 23:55:00 +0000 2021      i love u demi   \n",
       "\n",
       "                                             tweet_text  label_A  label_B  \\\n",
       "0     @HugoMachadoFil3 @quadrelli_marco A parceria c...       -1     -1.0   \n",
       "1     @danielgirardi83 @Fenovais28 @mab_sp125 @samyd...        0      0.0   \n",
       "2       @edisonrd1977 Es peligrosa la vacuna de Pfizer?        0      0.0   \n",
       "3     @MBittencourtMD @samydana @GabrielNemer_ @mab_...       -1     -1.0   \n",
       "4     Vidas importam!  Sim, vidas importam. Mas tamb...        0      0.0   \n",
       "...                                                 ...      ...      ...   \n",
       "3595  @greenparadyse @gsilvaflavio @CNNBrasil Você s...        0      0.0   \n",
       "3596  @GugaNoblat Q dó, ver um esquerdinha grudado n...        0      0.0   \n",
       "3597  @da_cia @victormasc Não tenho nada a ver com n...        1      1.0   \n",
       "3598  @djivanrodrigues @VEJA Sim, mas antes ele sina...        0      0.0   \n",
       "3599           @forgetmeweirdo mete com força coronavac        0      0.0   \n",
       "\n",
       "      pct_certainty_A  pct_certainty_B  \\\n",
       "0                  75            100.0   \n",
       "1                  75             75.0   \n",
       "2                 100            100.0   \n",
       "3                  25            100.0   \n",
       "4                  25             75.0   \n",
       "...               ...              ...   \n",
       "3595               25            100.0   \n",
       "3596              100            100.0   \n",
       "3597               75            100.0   \n",
       "3598               25            100.0   \n",
       "3599              100            100.0   \n",
       "\n",
       "                                     tweet_text_preproc  \\\n",
       "0     ['parceria', 'chineses', 'vacina', 'preve', 't...   \n",
       "1     ['por que', 'deixa', 'minion', 'nervoso', 'jur...   \n",
       "2     ['espirito santo', 'peligrosa', 'la', 'vacuna'...   \n",
       "3     ['entao', 'perdi', 'aqui', 'grupo', 'placebo',...   \n",
       "4     ['vidas', 'importam', 'sim', 'vidas', 'importa...   \n",
       "...                                                 ...   \n",
       "3595  ['leu', 'manchete', 'vacina', 'informar', 'sob...   \n",
       "3596  ['ver', 'esquerdinha', 'grudado', 'bolas', 'do...   \n",
       "3597  ['nada', 'ver', 'nada', 'disso', 'sequer', 'vo...   \n",
       "3598  ['sim', 'antes', 'sinalizou', 'apenas', 'milho...   \n",
       "3599                        ['mete', 'forca', 'vacina']   \n",
       "\n",
       "                                    tweet_text_stemming  ...  \\\n",
       "0     ['parc', 'chines', 'vacin', 'prev', 'troc', 'c...  ...   \n",
       "1     ['por qu', 'deix', 'minion', 'nerv', 'jur', 'i...  ...   \n",
       "2     ['espirito sant', 'peligr', 'la', 'vacun', 'va...  ...   \n",
       "3     ['enta', 'perd', 'aqu', 'grup', 'placeb', 'peg...  ...   \n",
       "4     ['vid', 'import', 'sim', 'vid', 'import', 'rec...  ...   \n",
       "...                                                 ...  ...   \n",
       "3595  ['leu', 'manchet', 'vacin', 'inform', 'sobr', ...  ...   \n",
       "3596  ['ver', 'esquerd', 'grud', 'bol', 'dor', 'vaci...  ...   \n",
       "3597  ['nad', 'ver', 'nad', 'diss', 'sequ', 'vot', '...  ...   \n",
       "3598  ['sim', 'ant', 'sinaliz', 'apen', 'milho', 'va...  ...   \n",
       "3599                           ['met', 'forc', 'vacin']  ...   \n",
       "\n",
       "     tweet_text_lemmatization_char_len tweet_text_lemmatization_word_len  \\\n",
       "0                                  192                                18   \n",
       "1                                  165                                16   \n",
       "2                                   57                                 6   \n",
       "3                                  156                                17   \n",
       "4                                  158                                16   \n",
       "...                                ...                               ...   \n",
       "3595                                73                                 7   \n",
       "3596                                69                                 7   \n",
       "3597                               197                                22   \n",
       "3598                               180                                18   \n",
       "3599                                28                                 3   \n",
       "\n",
       "     tweet_text_stemming_noun tweet_text_stemming_adj  \\\n",
       "0                           6                       4   \n",
       "1                           6                       3   \n",
       "2                           1                       1   \n",
       "3                           9                       1   \n",
       "4                           8                       2   \n",
       "...                       ...                     ...   \n",
       "3595                        3                       1   \n",
       "3596                        4                       2   \n",
       "3597                        7                       2   \n",
       "3598                       14                       2   \n",
       "3599                        0                       1   \n",
       "\n",
       "     tweet_text_stemming_verb tweet_text_stemming_adv  \\\n",
       "0                           3                       0   \n",
       "1                           1                       0   \n",
       "2                           0                       0   \n",
       "3                           2                       1   \n",
       "4                           1                       1   \n",
       "...                       ...                     ...   \n",
       "3595                        1                       0   \n",
       "3596                        1                       0   \n",
       "3597                        1                       0   \n",
       "3598                        0                       1   \n",
       "3599                        0                       0   \n",
       "\n",
       "     tweet_text_lemmatization_noun  tweet_text_lemmatization_adj  \\\n",
       "0                               10                             2   \n",
       "1                                7                             3   \n",
       "2                                2                             0   \n",
       "3                                9                             0   \n",
       "4                                9                             0   \n",
       "...                            ...                           ...   \n",
       "3595                             3                             0   \n",
       "3596                             3                             1   \n",
       "3597                             9                             0   \n",
       "3598                             7                             1   \n",
       "3599                             2                             0   \n",
       "\n",
       "      tweet_text_lemmatization_verb  tweet_text_lemmatization_adv  \n",
       "0                                 4                             0  \n",
       "1                                 3                             0  \n",
       "2                                 0                             0  \n",
       "3                                 5                             2  \n",
       "4                                 5                             1  \n",
       "...                             ...                           ...  \n",
       "3595                              3                             0  \n",
       "3596                              3                             0  \n",
       "3597                              7                             0  \n",
       "3598                              5                             3  \n",
       "3599                              1                             0  \n",
       "\n",
       "[3600 rows x 29 columns]"
      ]
     },
     "execution_count": 86,
     "metadata": {},
     "output_type": "execute_result"
    }
   ],
   "source": [
    "df"
   ]
  },
  {
   "cell_type": "code",
   "execution_count": null,
   "id": "edc1d802-5ee3-4dd1-88ea-d9b860f1ec1d",
   "metadata": {},
   "outputs": [],
   "source": []
  }
 ],
 "metadata": {
  "kernelspec": {
   "display_name": "Python 3 (ipykernel)",
   "language": "python",
   "name": "python3"
  },
  "language_info": {
   "codemirror_mode": {
    "name": "ipython",
    "version": 3
   },
   "file_extension": ".py",
   "mimetype": "text/x-python",
   "name": "python",
   "nbconvert_exporter": "python",
   "pygments_lexer": "ipython3",
   "version": "3.10.4"
  }
 },
 "nbformat": 4,
 "nbformat_minor": 5
}
