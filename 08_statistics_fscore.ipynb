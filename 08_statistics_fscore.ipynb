{
 "cells": [
  {
   "cell_type": "code",
   "execution_count": 1,
   "metadata": {},
   "outputs": [],
   "source": [
    "import pandas as pd\n",
    "import numpy as np\n",
    "import matplotlib.pyplot as plt\n",
    "from matplotlib.patches import Polygon\n",
    "from scipy.stats import shapiro, normaltest, anderson, levene, ttest_ind, wilcoxon"
   ]
  },
  {
   "cell_type": "markdown",
   "metadata": {},
   "source": [
    "## Funções\n",
    "### Testes Estatísticos"
   ]
  },
  {
   "cell_type": "code",
   "execution_count": 2,
   "metadata": {},
   "outputs": [],
   "source": [
    "def shapiro_wilk_test(data):\n",
    "    # normality test\n",
    "    stat, p = shapiro(data)\n",
    "    #print('\\tStatistics=%.3f, p=%.3f' % (stat, p))\n",
    "    # interpret\n",
    "    alpha = 0.05\n",
    "    if p > alpha:\n",
    "        return ('Sample looks Gaussian (fail to reject H0)', p)\n",
    "    else:\n",
    "        return ('Sample does not look Gaussian (reject H0)', p)"
   ]
  },
  {
   "cell_type": "code",
   "execution_count": 3,
   "metadata": {},
   "outputs": [],
   "source": [
    "def shapiro_wilk_p(data):\n",
    "    # normality test\n",
    "    stat, p = shapiro(data)\n",
    "    return p"
   ]
  },
  {
   "cell_type": "code",
   "execution_count": 4,
   "metadata": {},
   "outputs": [],
   "source": [
    "def tstudent_test(data1, data2):\n",
    "    print(\"\\tT-Student Test:\")\n",
    "    # normality test\n",
    "    stat, p = ttest_ind(data1, data2, equal_var=True)\n",
    "    print('\\tStatistics=%.3f, p=%.3f' % (stat, p))\n",
    "    # interpret\n",
    "    alpha = 0.05\n",
    "    if p > alpha:\n",
    "        print('\\tThe difference between the means is not statistically significant (do not reject H0)')\n",
    "    else:\n",
    "        print('\\tThe difference between the means is statistically significant (reject H0)')\n",
    "    return"
   ]
  },
  {
   "cell_type": "code",
   "execution_count": 5,
   "metadata": {},
   "outputs": [],
   "source": [
    "def wilcoxon_test(data1, data2):\n",
    "    print(\"\\tWilcoxon Test:\")\n",
    "    # normality test\n",
    "    stat, p = wilcoxon(data1, data2)\n",
    "    print('\\tStatistics=%.3f, p=%.3f' % (stat, p))\n",
    "    # interpret\n",
    "    alpha = 0.05\n",
    "    if p > alpha:\n",
    "        print('\\tThe difference between the means is not statistically significant (do not reject H0)')\n",
    "    else:\n",
    "        print('\\tThe difference between the means is statistically significant (reject H0)')\n",
    "    return"
   ]
  },
  {
   "cell_type": "code",
   "execution_count": 6,
   "metadata": {},
   "outputs": [],
   "source": [
    "def perform_fulltest(data1, data2, alpha1, alpha2):\n",
    "    if alpha1 > 0.05 and alpha2 > 0.05:\n",
    "        tstudent_test(data1, data2)\n",
    "    else:\n",
    "        wilcoxon_test(data1, data2)\n",
    "    return"
   ]
  },
  {
   "cell_type": "code",
   "execution_count": 7,
   "metadata": {},
   "outputs": [],
   "source": [
    "def plot_boxplot(data, label_description):\n",
    "    # Multiple box plots on one Axes\n",
    "    fig, ax = plt.subplots(figsize=(16.00,9.00))\n",
    "    # rectangular box plot\n",
    "    bplot = ax.boxplot(data,\n",
    "                        vert=True,  # vertical box alignment\n",
    "                        patch_artist=True,  # fill with color\n",
    "                        #labels=label_description)  # will be used to label x-ticks\n",
    "    )\n",
    "    #ax1.set_title('Rectangular box plot')\n",
    "    ax.set_xticklabels(label_description, fontsize=8)\n",
    "    colors = ['lightgreen', 'lightyellow', 'lightyellow', 'lightyellow', 'lightyellow', 'lightyellow', 'lightyellow', 'lightyellow', ]\n",
    "    for patch, color in zip(bplot['boxes'], colors):\n",
    "        patch.set_facecolor(color)\n",
    "\n",
    "    return plt"
   ]
  },
  {
   "cell_type": "markdown",
   "metadata": {},
   "source": [
    "## Main"
   ]
  },
  {
   "cell_type": "code",
   "execution_count": 8,
   "metadata": {},
   "outputs": [],
   "source": [
    "base = pd.read_csv('models/07_model_avaliation_base.csv', low_memory=False)"
   ]
  },
  {
   "cell_type": "markdown",
   "metadata": {},
   "source": [
    "### Médias e Desvio Padrão"
   ]
  },
  {
   "cell_type": "code",
   "execution_count": 9,
   "metadata": {},
   "outputs": [],
   "source": [
    "lista_classificador = ['randomforest', 'xgboost']\n",
    "lista_oversampling = [True, False]\n",
    "lista_undersampling = [True, False]"
   ]
  },
  {
   "cell_type": "code",
   "execution_count": 10,
   "metadata": {},
   "outputs": [],
   "source": [
    "base_statistics = pd.DataFrame(columns=['classificador', 'oversampling', 'undersampling', \n",
    "                                        'media_news', 'std_news', 'normality_news', 'normality_p_news',\n",
    "                                        'media_opinion', 'std_opinion', 'normality_opinion', 'normality_p_opinion', \n",
    "                                        'media_fake', 'std_fake', 'normality_fake', 'normality_p_fake'])\n",
    "\n",
    "for classificador in lista_classificador:\n",
    "    for oversampling in lista_oversampling:\n",
    "        for undersampling in lista_undersampling:\n",
    "            base_aux = base[(base.classifier == classificador) & (base.oversampling == oversampling) & (base.undersampling == undersampling)]\n",
    "            media_news = np.mean(base_aux.f_score_news)\n",
    "            std_news = np.std(base_aux.f_score_news)\n",
    "            normality_news, normality_p_news = shapiro_wilk_test(base_aux.f_score_news)\n",
    "            media_opinion = np.mean(base_aux.f_score_opinion)\n",
    "            std_opinion = np.std(base_aux.f_score_opinion)\n",
    "            normality_opinion, normality_p_opinion = shapiro_wilk_test(base_aux.f_score_opinion)\n",
    "            media_fake = np.mean(base_aux.f_score_fake)\n",
    "            std_fake = np.std(base_aux.f_score_fake)\n",
    "            normality_fake, normality_p_fake = shapiro_wilk_test(base_aux.f_score_fake)\n",
    "            \n",
    "            lista_resultados = [classificador, oversampling, undersampling, \n",
    "                                media_news, std_news, normality_news, normality_p_news,\n",
    "                                media_opinion, std_opinion, normality_opinion, normality_p_opinion, \n",
    "                                media_fake, std_fake, normality_fake, normality_p_fake]\n",
    "\n",
    "            base_statistics.loc[len(base_statistics)] = lista_resultados\n",
    "\n",
    "base_statistics.to_csv('models/08_statistics_fscore_base.csv', index=False)"
   ]
  },
  {
   "cell_type": "code",
   "execution_count": 11,
   "metadata": {},
   "outputs": [
    {
     "data": {
      "text/html": [
       "<div>\n",
       "<style scoped>\n",
       "    .dataframe tbody tr th:only-of-type {\n",
       "        vertical-align: middle;\n",
       "    }\n",
       "\n",
       "    .dataframe tbody tr th {\n",
       "        vertical-align: top;\n",
       "    }\n",
       "\n",
       "    .dataframe thead th {\n",
       "        text-align: right;\n",
       "    }\n",
       "</style>\n",
       "<table border=\"1\" class=\"dataframe\">\n",
       "  <thead>\n",
       "    <tr style=\"text-align: right;\">\n",
       "      <th></th>\n",
       "      <th>classificador</th>\n",
       "      <th>oversampling</th>\n",
       "      <th>undersampling</th>\n",
       "      <th>media_news</th>\n",
       "      <th>std_news</th>\n",
       "      <th>normality_news</th>\n",
       "      <th>normality_p_news</th>\n",
       "      <th>media_opinion</th>\n",
       "      <th>std_opinion</th>\n",
       "      <th>normality_opinion</th>\n",
       "      <th>normality_p_opinion</th>\n",
       "      <th>media_fake</th>\n",
       "      <th>std_fake</th>\n",
       "      <th>normality_fake</th>\n",
       "      <th>normality_p_fake</th>\n",
       "    </tr>\n",
       "  </thead>\n",
       "  <tbody>\n",
       "    <tr>\n",
       "      <th>0</th>\n",
       "      <td>randomforest</td>\n",
       "      <td>True</td>\n",
       "      <td>True</td>\n",
       "      <td>0.506046</td>\n",
       "      <td>0.035049</td>\n",
       "      <td>Sample looks Gaussian (fail to reject H0)</td>\n",
       "      <td>0.219329</td>\n",
       "      <td>0.803176</td>\n",
       "      <td>0.017971</td>\n",
       "      <td>Sample looks Gaussian (fail to reject H0)</td>\n",
       "      <td>0.542369</td>\n",
       "      <td>0.329885</td>\n",
       "      <td>0.055384</td>\n",
       "      <td>Sample looks Gaussian (fail to reject H0)</td>\n",
       "      <td>0.345779</td>\n",
       "    </tr>\n",
       "    <tr>\n",
       "      <th>1</th>\n",
       "      <td>randomforest</td>\n",
       "      <td>True</td>\n",
       "      <td>False</td>\n",
       "      <td>0.511794</td>\n",
       "      <td>0.028128</td>\n",
       "      <td>Sample looks Gaussian (fail to reject H0)</td>\n",
       "      <td>0.540507</td>\n",
       "      <td>0.799880</td>\n",
       "      <td>0.020293</td>\n",
       "      <td>Sample looks Gaussian (fail to reject H0)</td>\n",
       "      <td>0.402381</td>\n",
       "      <td>0.331927</td>\n",
       "      <td>0.058039</td>\n",
       "      <td>Sample looks Gaussian (fail to reject H0)</td>\n",
       "      <td>0.349095</td>\n",
       "    </tr>\n",
       "    <tr>\n",
       "      <th>2</th>\n",
       "      <td>randomforest</td>\n",
       "      <td>False</td>\n",
       "      <td>True</td>\n",
       "      <td>0.484000</td>\n",
       "      <td>0.023081</td>\n",
       "      <td>Sample looks Gaussian (fail to reject H0)</td>\n",
       "      <td>0.269019</td>\n",
       "      <td>0.704843</td>\n",
       "      <td>0.029085</td>\n",
       "      <td>Sample looks Gaussian (fail to reject H0)</td>\n",
       "      <td>0.645580</td>\n",
       "      <td>0.275225</td>\n",
       "      <td>0.073608</td>\n",
       "      <td>Sample does not look Gaussian (reject H0)</td>\n",
       "      <td>0.048199</td>\n",
       "    </tr>\n",
       "    <tr>\n",
       "      <th>3</th>\n",
       "      <td>randomforest</td>\n",
       "      <td>False</td>\n",
       "      <td>False</td>\n",
       "      <td>0.497630</td>\n",
       "      <td>0.042480</td>\n",
       "      <td>Sample looks Gaussian (fail to reject H0)</td>\n",
       "      <td>0.586298</td>\n",
       "      <td>0.842558</td>\n",
       "      <td>0.018031</td>\n",
       "      <td>Sample looks Gaussian (fail to reject H0)</td>\n",
       "      <td>0.419055</td>\n",
       "      <td>0.260041</td>\n",
       "      <td>0.099948</td>\n",
       "      <td>Sample looks Gaussian (fail to reject H0)</td>\n",
       "      <td>0.056195</td>\n",
       "    </tr>\n",
       "    <tr>\n",
       "      <th>4</th>\n",
       "      <td>xgboost</td>\n",
       "      <td>True</td>\n",
       "      <td>True</td>\n",
       "      <td>0.499792</td>\n",
       "      <td>0.037896</td>\n",
       "      <td>Sample looks Gaussian (fail to reject H0)</td>\n",
       "      <td>0.287883</td>\n",
       "      <td>0.818786</td>\n",
       "      <td>0.023848</td>\n",
       "      <td>Sample looks Gaussian (fail to reject H0)</td>\n",
       "      <td>0.908888</td>\n",
       "      <td>0.322230</td>\n",
       "      <td>0.069443</td>\n",
       "      <td>Sample looks Gaussian (fail to reject H0)</td>\n",
       "      <td>0.397202</td>\n",
       "    </tr>\n",
       "    <tr>\n",
       "      <th>5</th>\n",
       "      <td>xgboost</td>\n",
       "      <td>True</td>\n",
       "      <td>False</td>\n",
       "      <td>0.502451</td>\n",
       "      <td>0.035377</td>\n",
       "      <td>Sample does not look Gaussian (reject H0)</td>\n",
       "      <td>0.035786</td>\n",
       "      <td>0.811222</td>\n",
       "      <td>0.016419</td>\n",
       "      <td>Sample looks Gaussian (fail to reject H0)</td>\n",
       "      <td>0.246928</td>\n",
       "      <td>0.318007</td>\n",
       "      <td>0.040375</td>\n",
       "      <td>Sample looks Gaussian (fail to reject H0)</td>\n",
       "      <td>0.071140</td>\n",
       "    </tr>\n",
       "    <tr>\n",
       "      <th>6</th>\n",
       "      <td>xgboost</td>\n",
       "      <td>False</td>\n",
       "      <td>True</td>\n",
       "      <td>0.484766</td>\n",
       "      <td>0.041385</td>\n",
       "      <td>Sample looks Gaussian (fail to reject H0)</td>\n",
       "      <td>0.184454</td>\n",
       "      <td>0.728330</td>\n",
       "      <td>0.030634</td>\n",
       "      <td>Sample looks Gaussian (fail to reject H0)</td>\n",
       "      <td>0.504816</td>\n",
       "      <td>0.301399</td>\n",
       "      <td>0.044747</td>\n",
       "      <td>Sample looks Gaussian (fail to reject H0)</td>\n",
       "      <td>0.954220</td>\n",
       "    </tr>\n",
       "    <tr>\n",
       "      <th>7</th>\n",
       "      <td>xgboost</td>\n",
       "      <td>False</td>\n",
       "      <td>False</td>\n",
       "      <td>0.473629</td>\n",
       "      <td>0.050494</td>\n",
       "      <td>Sample looks Gaussian (fail to reject H0)</td>\n",
       "      <td>0.973451</td>\n",
       "      <td>0.834764</td>\n",
       "      <td>0.017370</td>\n",
       "      <td>Sample looks Gaussian (fail to reject H0)</td>\n",
       "      <td>0.434710</td>\n",
       "      <td>0.274633</td>\n",
       "      <td>0.101448</td>\n",
       "      <td>Sample does not look Gaussian (reject H0)</td>\n",
       "      <td>0.039189</td>\n",
       "    </tr>\n",
       "  </tbody>\n",
       "</table>\n",
       "</div>"
      ],
      "text/plain": [
       "  classificador  oversampling  undersampling  media_news  std_news  \\\n",
       "0  randomforest          True           True    0.506046  0.035049   \n",
       "1  randomforest          True          False    0.511794  0.028128   \n",
       "2  randomforest         False           True    0.484000  0.023081   \n",
       "3  randomforest         False          False    0.497630  0.042480   \n",
       "4       xgboost          True           True    0.499792  0.037896   \n",
       "5       xgboost          True          False    0.502451  0.035377   \n",
       "6       xgboost         False           True    0.484766  0.041385   \n",
       "7       xgboost         False          False    0.473629  0.050494   \n",
       "\n",
       "                              normality_news  normality_p_news  media_opinion  \\\n",
       "0  Sample looks Gaussian (fail to reject H0)          0.219329       0.803176   \n",
       "1  Sample looks Gaussian (fail to reject H0)          0.540507       0.799880   \n",
       "2  Sample looks Gaussian (fail to reject H0)          0.269019       0.704843   \n",
       "3  Sample looks Gaussian (fail to reject H0)          0.586298       0.842558   \n",
       "4  Sample looks Gaussian (fail to reject H0)          0.287883       0.818786   \n",
       "5  Sample does not look Gaussian (reject H0)          0.035786       0.811222   \n",
       "6  Sample looks Gaussian (fail to reject H0)          0.184454       0.728330   \n",
       "7  Sample looks Gaussian (fail to reject H0)          0.973451       0.834764   \n",
       "\n",
       "   std_opinion                          normality_opinion  \\\n",
       "0     0.017971  Sample looks Gaussian (fail to reject H0)   \n",
       "1     0.020293  Sample looks Gaussian (fail to reject H0)   \n",
       "2     0.029085  Sample looks Gaussian (fail to reject H0)   \n",
       "3     0.018031  Sample looks Gaussian (fail to reject H0)   \n",
       "4     0.023848  Sample looks Gaussian (fail to reject H0)   \n",
       "5     0.016419  Sample looks Gaussian (fail to reject H0)   \n",
       "6     0.030634  Sample looks Gaussian (fail to reject H0)   \n",
       "7     0.017370  Sample looks Gaussian (fail to reject H0)   \n",
       "\n",
       "   normality_p_opinion  media_fake  std_fake  \\\n",
       "0             0.542369    0.329885  0.055384   \n",
       "1             0.402381    0.331927  0.058039   \n",
       "2             0.645580    0.275225  0.073608   \n",
       "3             0.419055    0.260041  0.099948   \n",
       "4             0.908888    0.322230  0.069443   \n",
       "5             0.246928    0.318007  0.040375   \n",
       "6             0.504816    0.301399  0.044747   \n",
       "7             0.434710    0.274633  0.101448   \n",
       "\n",
       "                              normality_fake  normality_p_fake  \n",
       "0  Sample looks Gaussian (fail to reject H0)          0.345779  \n",
       "1  Sample looks Gaussian (fail to reject H0)          0.349095  \n",
       "2  Sample does not look Gaussian (reject H0)          0.048199  \n",
       "3  Sample looks Gaussian (fail to reject H0)          0.056195  \n",
       "4  Sample looks Gaussian (fail to reject H0)          0.397202  \n",
       "5  Sample looks Gaussian (fail to reject H0)          0.071140  \n",
       "6  Sample looks Gaussian (fail to reject H0)          0.954220  \n",
       "7  Sample does not look Gaussian (reject H0)          0.039189  "
      ]
     },
     "execution_count": 11,
     "metadata": {},
     "output_type": "execute_result"
    }
   ],
   "source": [
    "base_statistics"
   ]
  },
  {
   "cell_type": "markdown",
   "metadata": {},
   "source": [
    "### Seleção dos melhores modelos"
   ]
  },
  {
   "cell_type": "markdown",
   "metadata": {},
   "source": [
    "#### News"
   ]
  },
  {
   "cell_type": "code",
   "execution_count": 12,
   "metadata": {},
   "outputs": [
    {
     "data": {
      "text/html": [
       "<div>\n",
       "<style scoped>\n",
       "    .dataframe tbody tr th:only-of-type {\n",
       "        vertical-align: middle;\n",
       "    }\n",
       "\n",
       "    .dataframe tbody tr th {\n",
       "        vertical-align: top;\n",
       "    }\n",
       "\n",
       "    .dataframe thead th {\n",
       "        text-align: right;\n",
       "    }\n",
       "</style>\n",
       "<table border=\"1\" class=\"dataframe\">\n",
       "  <thead>\n",
       "    <tr style=\"text-align: right;\">\n",
       "      <th></th>\n",
       "      <th>classificador</th>\n",
       "      <th>oversampling</th>\n",
       "      <th>undersampling</th>\n",
       "      <th>media_news</th>\n",
       "      <th>std_news</th>\n",
       "      <th>normality_news</th>\n",
       "      <th>normality_p_news</th>\n",
       "      <th>media_opinion</th>\n",
       "      <th>std_opinion</th>\n",
       "      <th>normality_opinion</th>\n",
       "      <th>normality_p_opinion</th>\n",
       "      <th>media_fake</th>\n",
       "      <th>std_fake</th>\n",
       "      <th>normality_fake</th>\n",
       "      <th>normality_p_fake</th>\n",
       "    </tr>\n",
       "  </thead>\n",
       "  <tbody>\n",
       "    <tr>\n",
       "      <th>1</th>\n",
       "      <td>randomforest</td>\n",
       "      <td>True</td>\n",
       "      <td>False</td>\n",
       "      <td>0.511794</td>\n",
       "      <td>0.028128</td>\n",
       "      <td>Sample looks Gaussian (fail to reject H0)</td>\n",
       "      <td>0.540507</td>\n",
       "      <td>0.79988</td>\n",
       "      <td>0.020293</td>\n",
       "      <td>Sample looks Gaussian (fail to reject H0)</td>\n",
       "      <td>0.402381</td>\n",
       "      <td>0.331927</td>\n",
       "      <td>0.058039</td>\n",
       "      <td>Sample looks Gaussian (fail to reject H0)</td>\n",
       "      <td>0.349095</td>\n",
       "    </tr>\n",
       "  </tbody>\n",
       "</table>\n",
       "</div>"
      ],
      "text/plain": [
       "  classificador  oversampling  undersampling  media_news  std_news  \\\n",
       "1  randomforest          True          False    0.511794  0.028128   \n",
       "\n",
       "                              normality_news  normality_p_news  media_opinion  \\\n",
       "1  Sample looks Gaussian (fail to reject H0)          0.540507        0.79988   \n",
       "\n",
       "   std_opinion                          normality_opinion  \\\n",
       "1     0.020293  Sample looks Gaussian (fail to reject H0)   \n",
       "\n",
       "   normality_p_opinion  media_fake  std_fake  \\\n",
       "1             0.402381    0.331927  0.058039   \n",
       "\n",
       "                              normality_fake  normality_p_fake  \n",
       "1  Sample looks Gaussian (fail to reject H0)          0.349095  "
      ]
     },
     "execution_count": 12,
     "metadata": {},
     "output_type": "execute_result"
    }
   ],
   "source": [
    "base_statistics[base_statistics.media_news == max(base_statistics.media_news)]"
   ]
  },
  {
   "cell_type": "markdown",
   "metadata": {},
   "source": [
    "#### Opinion"
   ]
  },
  {
   "cell_type": "code",
   "execution_count": 13,
   "metadata": {},
   "outputs": [
    {
     "data": {
      "text/html": [
       "<div>\n",
       "<style scoped>\n",
       "    .dataframe tbody tr th:only-of-type {\n",
       "        vertical-align: middle;\n",
       "    }\n",
       "\n",
       "    .dataframe tbody tr th {\n",
       "        vertical-align: top;\n",
       "    }\n",
       "\n",
       "    .dataframe thead th {\n",
       "        text-align: right;\n",
       "    }\n",
       "</style>\n",
       "<table border=\"1\" class=\"dataframe\">\n",
       "  <thead>\n",
       "    <tr style=\"text-align: right;\">\n",
       "      <th></th>\n",
       "      <th>classificador</th>\n",
       "      <th>oversampling</th>\n",
       "      <th>undersampling</th>\n",
       "      <th>media_news</th>\n",
       "      <th>std_news</th>\n",
       "      <th>normality_news</th>\n",
       "      <th>normality_p_news</th>\n",
       "      <th>media_opinion</th>\n",
       "      <th>std_opinion</th>\n",
       "      <th>normality_opinion</th>\n",
       "      <th>normality_p_opinion</th>\n",
       "      <th>media_fake</th>\n",
       "      <th>std_fake</th>\n",
       "      <th>normality_fake</th>\n",
       "      <th>normality_p_fake</th>\n",
       "    </tr>\n",
       "  </thead>\n",
       "  <tbody>\n",
       "    <tr>\n",
       "      <th>3</th>\n",
       "      <td>randomforest</td>\n",
       "      <td>False</td>\n",
       "      <td>False</td>\n",
       "      <td>0.49763</td>\n",
       "      <td>0.04248</td>\n",
       "      <td>Sample looks Gaussian (fail to reject H0)</td>\n",
       "      <td>0.586298</td>\n",
       "      <td>0.842558</td>\n",
       "      <td>0.018031</td>\n",
       "      <td>Sample looks Gaussian (fail to reject H0)</td>\n",
       "      <td>0.419055</td>\n",
       "      <td>0.260041</td>\n",
       "      <td>0.099948</td>\n",
       "      <td>Sample looks Gaussian (fail to reject H0)</td>\n",
       "      <td>0.056195</td>\n",
       "    </tr>\n",
       "  </tbody>\n",
       "</table>\n",
       "</div>"
      ],
      "text/plain": [
       "  classificador  oversampling  undersampling  media_news  std_news  \\\n",
       "3  randomforest         False          False     0.49763   0.04248   \n",
       "\n",
       "                              normality_news  normality_p_news  media_opinion  \\\n",
       "3  Sample looks Gaussian (fail to reject H0)          0.586298       0.842558   \n",
       "\n",
       "   std_opinion                          normality_opinion  \\\n",
       "3     0.018031  Sample looks Gaussian (fail to reject H0)   \n",
       "\n",
       "   normality_p_opinion  media_fake  std_fake  \\\n",
       "3             0.419055    0.260041  0.099948   \n",
       "\n",
       "                              normality_fake  normality_p_fake  \n",
       "3  Sample looks Gaussian (fail to reject H0)          0.056195  "
      ]
     },
     "execution_count": 13,
     "metadata": {},
     "output_type": "execute_result"
    }
   ],
   "source": [
    "base_statistics[base_statistics.media_opinion == max(base_statistics.media_opinion)]"
   ]
  },
  {
   "cell_type": "markdown",
   "metadata": {},
   "source": [
    "#### Fake"
   ]
  },
  {
   "cell_type": "code",
   "execution_count": 14,
   "metadata": {},
   "outputs": [
    {
     "data": {
      "text/html": [
       "<div>\n",
       "<style scoped>\n",
       "    .dataframe tbody tr th:only-of-type {\n",
       "        vertical-align: middle;\n",
       "    }\n",
       "\n",
       "    .dataframe tbody tr th {\n",
       "        vertical-align: top;\n",
       "    }\n",
       "\n",
       "    .dataframe thead th {\n",
       "        text-align: right;\n",
       "    }\n",
       "</style>\n",
       "<table border=\"1\" class=\"dataframe\">\n",
       "  <thead>\n",
       "    <tr style=\"text-align: right;\">\n",
       "      <th></th>\n",
       "      <th>classificador</th>\n",
       "      <th>oversampling</th>\n",
       "      <th>undersampling</th>\n",
       "      <th>media_news</th>\n",
       "      <th>std_news</th>\n",
       "      <th>normality_news</th>\n",
       "      <th>normality_p_news</th>\n",
       "      <th>media_opinion</th>\n",
       "      <th>std_opinion</th>\n",
       "      <th>normality_opinion</th>\n",
       "      <th>normality_p_opinion</th>\n",
       "      <th>media_fake</th>\n",
       "      <th>std_fake</th>\n",
       "      <th>normality_fake</th>\n",
       "      <th>normality_p_fake</th>\n",
       "    </tr>\n",
       "  </thead>\n",
       "  <tbody>\n",
       "    <tr>\n",
       "      <th>1</th>\n",
       "      <td>randomforest</td>\n",
       "      <td>True</td>\n",
       "      <td>False</td>\n",
       "      <td>0.511794</td>\n",
       "      <td>0.028128</td>\n",
       "      <td>Sample looks Gaussian (fail to reject H0)</td>\n",
       "      <td>0.540507</td>\n",
       "      <td>0.79988</td>\n",
       "      <td>0.020293</td>\n",
       "      <td>Sample looks Gaussian (fail to reject H0)</td>\n",
       "      <td>0.402381</td>\n",
       "      <td>0.331927</td>\n",
       "      <td>0.058039</td>\n",
       "      <td>Sample looks Gaussian (fail to reject H0)</td>\n",
       "      <td>0.349095</td>\n",
       "    </tr>\n",
       "  </tbody>\n",
       "</table>\n",
       "</div>"
      ],
      "text/plain": [
       "  classificador  oversampling  undersampling  media_news  std_news  \\\n",
       "1  randomforest          True          False    0.511794  0.028128   \n",
       "\n",
       "                              normality_news  normality_p_news  media_opinion  \\\n",
       "1  Sample looks Gaussian (fail to reject H0)          0.540507        0.79988   \n",
       "\n",
       "   std_opinion                          normality_opinion  \\\n",
       "1     0.020293  Sample looks Gaussian (fail to reject H0)   \n",
       "\n",
       "   normality_p_opinion  media_fake  std_fake  \\\n",
       "1             0.402381    0.331927  0.058039   \n",
       "\n",
       "                              normality_fake  normality_p_fake  \n",
       "1  Sample looks Gaussian (fail to reject H0)          0.349095  "
      ]
     },
     "execution_count": 14,
     "metadata": {},
     "output_type": "execute_result"
    }
   ],
   "source": [
    "base_statistics[base_statistics.media_fake == max(base_statistics.media_fake)]"
   ]
  },
  {
   "cell_type": "markdown",
   "metadata": {},
   "source": [
    "### Comparações do melhor algoritmo em relação aos demais"
   ]
  },
  {
   "cell_type": "code",
   "execution_count": 15,
   "metadata": {},
   "outputs": [],
   "source": [
    "rf_ov_false_un_false = base[(base.classifier == 'randomforest') & (base.oversampling == False) & (base.undersampling == False)]\n",
    "rf_ov_false_un_true = base[(base.classifier == 'randomforest') & (base.oversampling == False) & (base.undersampling == True)]\n",
    "rf_ov_true_un_false = base[(base.classifier == 'randomforest') & (base.oversampling == True) & (base.undersampling == False)]\n",
    "rf_ov_true_un_true = base[(base.classifier == 'randomforest') & (base.oversampling == True) & (base.undersampling == True)]\n",
    "xgb_ov_false_un_false = base[(base.classifier == 'xgboost') & (base.oversampling == False) & (base.undersampling == False)]\n",
    "xgb_ov_false_un_true = base[(base.classifier == 'xgboost') & (base.oversampling == False) & (base.undersampling == True)]\n",
    "xgb_ov_true_un_false = base[(base.classifier == 'xgboost') & (base.oversampling == True) & (base.undersampling == False)]\n",
    "xgb_ov_true_un_true = base[(base.classifier == 'xgboost') & (base.oversampling == True) & (base.undersampling == True)]"
   ]
  },
  {
   "cell_type": "markdown",
   "metadata": {},
   "source": [
    "#### News"
   ]
  },
  {
   "cell_type": "code",
   "execution_count": 16,
   "metadata": {},
   "outputs": [
    {
     "name": "stdout",
     "output_type": "stream",
     "text": [
      "RF, OV=True, UN=False X RF, OV=False, UN=False\n",
      "\tT-Student Test:\n",
      "\tStatistics=-4.716, p=0.000\n",
      "\tThe difference between the means is statistically significant (reject H0)\n",
      "RF, OV=True, UN=False X RF, OV=False, UN=True\n",
      "\tT-Student Test:\n",
      "\tStatistics=2.292, p=0.034\n",
      "\tThe difference between the means is statistically significant (reject H0)\n",
      "RF, OV=True, UN=False X RF, OV=True, UN=True\n",
      "\tT-Student Test:\n",
      "\tStatistics=0.384, p=0.706\n",
      "\tThe difference between the means is not statistically significant (do not reject H0)\n",
      "RF, OV=True, UN=False X XGB, OV=False, UN=False\n",
      "\tT-Student Test:\n",
      "\tStatistics=1.981, p=0.063\n",
      "\tThe difference between the means is not statistically significant (do not reject H0)\n",
      "RF, OV=True, UN=False X XGB, OV=False, UN=True\n",
      "\tT-Student Test:\n",
      "\tStatistics=1.620, p=0.123\n",
      "\tThe difference between the means is not statistically significant (do not reject H0)\n",
      "RF, OV=True, UN=False X XGB, OV=True, UN=False\n",
      "\tWilcoxon Test:\n",
      "\tStatistics=21.000, p=0.557\n",
      "\tThe difference between the means is not statistically significant (do not reject H0)\n",
      "RF, OV=True, UN=False X XGB, OV=True, UN=True\n",
      "\tT-Student Test:\n",
      "\tStatistics=0.763, p=0.455\n",
      "\tThe difference between the means is not statistically significant (do not reject H0)\n"
     ]
    }
   ],
   "source": [
    "print('RF, OV=True, UN=False X RF, OV=False, UN=False')\n",
    "perform_fulltest(rf_ov_true_un_false.f_score_opinion, rf_ov_false_un_false.f_score_opinion, shapiro_wilk_p(rf_ov_true_un_false.f_score_opinion), shapiro_wilk_p(rf_ov_false_un_false.f_score_news))\n",
    "print('RF, OV=True, UN=False X RF, OV=False, UN=True')\n",
    "perform_fulltest(rf_ov_true_un_false.f_score_news, rf_ov_false_un_true.f_score_news, shapiro_wilk_p(rf_ov_true_un_false.f_score_news), shapiro_wilk_p(rf_ov_false_un_true.f_score_news))\n",
    "print('RF, OV=True, UN=False X RF, OV=True, UN=True')\n",
    "perform_fulltest(rf_ov_true_un_false.f_score_news, rf_ov_true_un_true.f_score_news, shapiro_wilk_p(rf_ov_true_un_false.f_score_news), shapiro_wilk_p(rf_ov_true_un_true.f_score_news))\n",
    "print('RF, OV=True, UN=False X XGB, OV=False, UN=False')\n",
    "perform_fulltest(rf_ov_true_un_false.f_score_news, xgb_ov_false_un_false.f_score_news, shapiro_wilk_p(rf_ov_true_un_false.f_score_news), shapiro_wilk_p(xgb_ov_false_un_false.f_score_news))\n",
    "print('RF, OV=True, UN=False X XGB, OV=False, UN=True')\n",
    "perform_fulltest(rf_ov_true_un_false.f_score_news, xgb_ov_false_un_true.f_score_news, shapiro_wilk_p(rf_ov_true_un_false.f_score_news), shapiro_wilk_p(xgb_ov_false_un_true.f_score_news))\n",
    "print('RF, OV=True, UN=False X XGB, OV=True, UN=False')\n",
    "perform_fulltest(rf_ov_true_un_false.f_score_news, xgb_ov_true_un_false.f_score_news, shapiro_wilk_p(rf_ov_true_un_false.f_score_news), shapiro_wilk_p(xgb_ov_true_un_false.f_score_news))\n",
    "print('RF, OV=True, UN=False X XGB, OV=True, UN=True')\n",
    "perform_fulltest(rf_ov_true_un_false.f_score_news, xgb_ov_true_un_true.f_score_news, shapiro_wilk_p(rf_ov_true_un_false.f_score_news), shapiro_wilk_p(xgb_ov_true_un_true.f_score_news))"
   ]
  },
  {
   "cell_type": "code",
   "execution_count": 17,
   "metadata": {},
   "outputs": [
    {
     "data": {
      "image/png": "[encoded data removed]",
      "text/plain": [
       "<Figure size 1600x900 with 1 Axes>"
      ]
     },
     "metadata": {},
     "output_type": "display_data"
    }
   ],
   "source": [
    "label_description_news = ['RF, OV=True, UN=False', \n",
    "                     'RF, OV=False, UN=False', 'RF, OV=False, UN=True', \n",
    "                     'RF, OV=True, UN=True', \n",
    "                     'XGB, OV=False, UN=False', 'XGB, OV=False, UN=True', \n",
    "                     'XGB, OV=True, UN=False', 'XGB, OV=True, UN=True'\n",
    "                    ]\n",
    "data_news = [rf_ov_true_un_false.f_score_news, \n",
    "         rf_ov_false_un_false.f_score_news, rf_ov_false_un_true.f_score_news, \n",
    "         rf_ov_true_un_true.f_score_news,\n",
    "         xgb_ov_false_un_false.f_score_news, xgb_ov_false_un_true.f_score_news,\n",
    "         xgb_ov_false_un_true.f_score_news, xgb_ov_true_un_true.f_score_news\n",
    "        ]\n",
    "plt_news = plot_boxplot(data_news, label_description_news)\n",
    "plt_news.show()\n",
    "plt_news.savefig('models/boxplot/boxplot_news.png', format='png')\n",
    "plt_news.close()"
   ]
  },
  {
   "cell_type": "markdown",
   "metadata": {},
   "source": [
    "#### Opinion"
   ]
  },
  {
   "cell_type": "code",
   "execution_count": 18,
   "metadata": {},
   "outputs": [
    {
     "name": "stdout",
     "output_type": "stream",
     "text": [
      "RF, OV=False, UN=False X RF, OV=False, UN=True\n",
      "\tT-Student Test:\n",
      "\tStatistics=12.073, p=0.000\n",
      "\tThe difference between the means is statistically significant (reject H0)\n",
      "RF, OV=False, UN=False X RF, OV=True, UN=False\n",
      "\tT-Student Test:\n",
      "\tStatistics=4.716, p=0.000\n",
      "\tThe difference between the means is statistically significant (reject H0)\n",
      "RF, OV=False, UN=False X RF, OV=True, UN=True\n",
      "\tT-Student Test:\n",
      "\tStatistics=4.641, p=0.000\n",
      "\tThe difference between the means is statistically significant (reject H0)\n",
      "RF, OV=False, UN=False X XGB, OV=False, UN=False\n",
      "\tT-Student Test:\n",
      "\tStatistics=0.934, p=0.363\n",
      "\tThe difference between the means is not statistically significant (do not reject H0)\n",
      "RF, OV=False, UN=False X XGB, OV=False, UN=True\n",
      "\tT-Student Test:\n",
      "\tStatistics=9.641, p=0.000\n",
      "\tThe difference between the means is statistically significant (reject H0)\n",
      "RF, OV=False, UN=False X XGB, OV=True, UN=False\n",
      "\tT-Student Test:\n",
      "\tStatistics=3.855, p=0.001\n",
      "\tThe difference between the means is statistically significant (reject H0)\n",
      "RF, OV=False, UN=False X XGB, OV=True, UN=True\n",
      "\tT-Student Test:\n",
      "\tStatistics=2.385, p=0.028\n",
      "\tThe difference between the means is statistically significant (reject H0)\n"
     ]
    }
   ],
   "source": [
    "print('RF, OV=False, UN=False X RF, OV=False, UN=True')\n",
    "perform_fulltest(rf_ov_false_un_false.f_score_opinion, rf_ov_false_un_true.f_score_opinion, shapiro_wilk_p(rf_ov_false_un_false.f_score_opinion), shapiro_wilk_p(rf_ov_false_un_true.f_score_opinion))\n",
    "print('RF, OV=False, UN=False X RF, OV=True, UN=False')\n",
    "perform_fulltest(rf_ov_false_un_false.f_score_opinion, rf_ov_true_un_false.f_score_opinion, shapiro_wilk_p(rf_ov_false_un_false.f_score_opinion), shapiro_wilk_p(rf_ov_true_un_false.f_score_opinion))\n",
    "print('RF, OV=False, UN=False X RF, OV=True, UN=True')\n",
    "perform_fulltest(rf_ov_false_un_false.f_score_opinion, rf_ov_true_un_true.f_score_opinion, shapiro_wilk_p(rf_ov_false_un_false.f_score_opinion), shapiro_wilk_p(rf_ov_true_un_true.f_score_opinion))\n",
    "print('RF, OV=False, UN=False X XGB, OV=False, UN=False')\n",
    "perform_fulltest(rf_ov_false_un_false.f_score_opinion, xgb_ov_false_un_false.f_score_opinion, shapiro_wilk_p(rf_ov_false_un_false.f_score_opinion), shapiro_wilk_p(xgb_ov_false_un_false.f_score_opinion))\n",
    "print('RF, OV=False, UN=False X XGB, OV=False, UN=True')\n",
    "perform_fulltest(rf_ov_false_un_false.f_score_opinion, xgb_ov_false_un_true.f_score_opinion, shapiro_wilk_p(rf_ov_false_un_false.f_score_opinion), shapiro_wilk_p(xgb_ov_false_un_true.f_score_opinion))\n",
    "print('RF, OV=False, UN=False X XGB, OV=True, UN=False')\n",
    "perform_fulltest(rf_ov_false_un_false.f_score_opinion, xgb_ov_true_un_false.f_score_opinion, shapiro_wilk_p(rf_ov_false_un_false.f_score_opinion), shapiro_wilk_p(xgb_ov_true_un_false.f_score_opinion))\n",
    "print('RF, OV=False, UN=False X XGB, OV=True, UN=True')\n",
    "perform_fulltest(rf_ov_false_un_false.f_score_opinion, xgb_ov_true_un_true.f_score_opinion, shapiro_wilk_p(rf_ov_false_un_false.f_score_opinion), shapiro_wilk_p(xgb_ov_true_un_true.f_score_opinion))"
   ]
  },
  {
   "cell_type": "code",
   "execution_count": 19,
   "metadata": {},
   "outputs": [
    {
     "data": {
      "image/png": "[encoded data removed]",
      "text/plain": [
       "<Figure size 1600x900 with 1 Axes>"
      ]
     },
     "metadata": {},
     "output_type": "display_data"
    }
   ],
   "source": [
    "label_description_opinion = ['RF, OV=False, UN=False',  \n",
    "                     'RF, OV=False, UN=True', 'RF, OV=True, UN=False',\n",
    "                     'RF, OV=True, UN=True', \n",
    "                     'XGB, OV=False, UN=False', 'XGB, OV=False, UN=True', \n",
    "                     'XGB, OV=True, UN=False', 'XGB, OV=True, UN=True'\n",
    "                    ]\n",
    "data_opinion = [rf_ov_false_un_false.f_score_opinion,\n",
    "         rf_ov_false_un_true.f_score_opinion, rf_ov_true_un_false.f_score_opinion, \n",
    "         rf_ov_true_un_true.f_score_opinion,\n",
    "         xgb_ov_false_un_false.f_score_opinion, xgb_ov_false_un_true.f_score_opinion,\n",
    "         xgb_ov_false_un_true.f_score_opinion, xgb_ov_true_un_true.f_score_opinion\n",
    "        ]\n",
    "plt_opinion = plot_boxplot(data_opinion, label_description_opinion)\n",
    "plt_opinion.show()\n",
    "plt_opinion.savefig('models/boxplot/boxplot_opinion.png', format='png')\n",
    "plt_opinion.close()"
   ]
  },
  {
   "cell_type": "markdown",
   "metadata": {},
   "source": [
    "#### Fake"
   ]
  },
  {
   "cell_type": "code",
   "execution_count": 20,
   "metadata": {},
   "outputs": [
    {
     "name": "stdout",
     "output_type": "stream",
     "text": [
      "RF, OV=True, UN=False X RF, OV=False, UN=False\n",
      "\tT-Student Test:\n",
      "\tStatistics=1.866, p=0.078\n",
      "\tThe difference between the means is not statistically significant (do not reject H0)\n",
      "RF, OV=True, UN=False X RF, OV=False, UN=True\n",
      "\tWilcoxon Test:\n",
      "\tStatistics=4.000, p=0.014\n",
      "\tThe difference between the means is statistically significant (reject H0)\n",
      "RF, OV=True, UN=False X RF, OV=True, UN=True\n",
      "\tT-Student Test:\n",
      "\tStatistics=0.076, p=0.940\n",
      "\tThe difference between the means is not statistically significant (do not reject H0)\n",
      "RF, OV=True, UN=False X XGB, OV=False, UN=False\n",
      "\tWilcoxon Test:\n",
      "\tStatistics=13.000, p=0.160\n",
      "\tThe difference between the means is not statistically significant (do not reject H0)\n",
      "RF, OV=True, UN=False X XGB, OV=False, UN=True\n",
      "\tT-Student Test:\n",
      "\tStatistics=1.250, p=0.227\n",
      "\tThe difference between the means is not statistically significant (do not reject H0)\n",
      "RF, OV=True, UN=False X XGB, OV=True, UN=False\n",
      "\tT-Student Test:\n",
      "\tStatistics=0.591, p=0.562\n",
      "\tThe difference between the means is not statistically significant (do not reject H0)\n",
      "RF, OV=True, UN=False X XGB, OV=True, UN=True\n",
      "\tT-Student Test:\n",
      "\tStatistics=0.321, p=0.752\n",
      "\tThe difference between the means is not statistically significant (do not reject H0)\n"
     ]
    }
   ],
   "source": [
    "print('RF, OV=True, UN=False X RF, OV=False, UN=False')\n",
    "perform_fulltest(rf_ov_true_un_false.f_score_fake, rf_ov_false_un_false.f_score_fake, shapiro_wilk_p(rf_ov_true_un_false.f_score_fake), shapiro_wilk_p(rf_ov_false_un_false.f_score_fake))\n",
    "print('RF, OV=True, UN=False X RF, OV=False, UN=True')\n",
    "perform_fulltest(rf_ov_true_un_false.f_score_fake, rf_ov_false_un_true.f_score_fake, shapiro_wilk_p(rf_ov_true_un_false.f_score_fake), shapiro_wilk_p(rf_ov_false_un_true.f_score_fake))\n",
    "print('RF, OV=True, UN=False X RF, OV=True, UN=True')\n",
    "perform_fulltest(rf_ov_true_un_false.f_score_fake, rf_ov_true_un_true.f_score_fake, shapiro_wilk_p(rf_ov_true_un_false.f_score_fake), shapiro_wilk_p(rf_ov_true_un_true.f_score_fake))\n",
    "print('RF, OV=True, UN=False X XGB, OV=False, UN=False')\n",
    "perform_fulltest(rf_ov_true_un_false.f_score_fake, xgb_ov_false_un_false.f_score_fake, shapiro_wilk_p(rf_ov_true_un_false.f_score_fake), shapiro_wilk_p(xgb_ov_false_un_false.f_score_fake))\n",
    "print('RF, OV=True, UN=False X XGB, OV=False, UN=True')\n",
    "perform_fulltest(rf_ov_true_un_false.f_score_fake, xgb_ov_false_un_true.f_score_fake, shapiro_wilk_p(rf_ov_true_un_false.f_score_fake), shapiro_wilk_p(xgb_ov_false_un_true.f_score_fake))\n",
    "print('RF, OV=True, UN=False X XGB, OV=True, UN=False')\n",
    "perform_fulltest(rf_ov_true_un_false.f_score_fake, xgb_ov_true_un_false.f_score_fake, shapiro_wilk_p(rf_ov_true_un_false.f_score_fake), shapiro_wilk_p(xgb_ov_true_un_false.f_score_fake))\n",
    "print('RF, OV=True, UN=False X XGB, OV=True, UN=True')\n",
    "perform_fulltest(rf_ov_true_un_false.f_score_fake, xgb_ov_true_un_true.f_score_fake, shapiro_wilk_p(rf_ov_true_un_false.f_score_fake), shapiro_wilk_p(xgb_ov_true_un_true.f_score_fake))"
   ]
  },
  {
   "cell_type": "code",
   "execution_count": 21,
   "metadata": {},
   "outputs": [
    {
     "data": {
      "image/png": "[encoded data removed]",
      "text/plain": [
       "<Figure size 1600x900 with 1 Axes>"
      ]
     },
     "metadata": {},
     "output_type": "display_data"
    }
   ],
   "source": [
    "label_description_fake = ['RF, OV=True, UN=False', \n",
    "                     'RF, OV=False, UN=False', 'RF, OV=False, UN=True', \n",
    "                     'RF, OV=True, UN=True', \n",
    "                     'XGB, OV=False, UN=False', 'XGB, OV=False, UN=True', \n",
    "                     'XGB, OV=True, UN=False', 'XGB, OV=True, UN=True'\n",
    "                    ]\n",
    "data_fake = [rf_ov_true_un_false.f_score_fake, \n",
    "         rf_ov_false_un_false.f_score_fake, rf_ov_false_un_true.f_score_fake, \n",
    "         rf_ov_true_un_true.f_score_fake,\n",
    "         xgb_ov_false_un_false.f_score_fake, xgb_ov_false_un_true.f_score_fake,\n",
    "         xgb_ov_false_un_true.f_score_fake, xgb_ov_true_un_true.f_score_fake\n",
    "        ]\n",
    "plt_fake = plot_boxplot(data_fake, label_description_fake)\n",
    "plt_fake.show()\n",
    "plt_fake.savefig('models/boxplot/boxplot_fake.png', format='png')\n",
    "plt.close()"
   ]
  }
 ],
 "metadata": {
  "kernelspec": {
   "display_name": "Python 3.10.4 ('tcc310')",
   "language": "python",
   "name": "python3"
  },
  "language_info": {
   "codemirror_mode": {
    "name": "ipython",
    "version": 3
   },
   "file_extension": ".py",
   "mimetype": "text/x-python",
   "name": "python",
   "nbconvert_exporter": "python",
   "pygments_lexer": "ipython3",
   "version": "3.10.4"
  },
  "orig_nbformat": 4,
  "vscode": {
   "interpreter": {
    "hash": "f4f5805ba710d0677e54e741567247f67083628d51f873d74e374cda809e29b0"
   }
  }
 },
 "nbformat": 4,
 "nbformat_minor": 2
}
