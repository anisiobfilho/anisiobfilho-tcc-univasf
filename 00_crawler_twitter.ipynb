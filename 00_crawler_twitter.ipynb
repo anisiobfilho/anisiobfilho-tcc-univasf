{
 "cells": [
  {
   "cell_type": "markdown",
   "metadata": {},
   "source": [
    "### TCC: \"Um modelo computacional para classificação de notícias sobre a Covid-19 no Brasil\"\n",
    "### Code: Crawler for Twitter\n",
    "### Author: Anísio Pereira Batista Filho"
   ]
  },
  {
   "cell_type": "code",
   "execution_count": null,
   "metadata": {},
   "outputs": [],
   "source": [
    "import os\n",
    "import tweepy as tw\n",
    "import csv\n",
    "from tqdm.auto import tqdm\n",
    "import time\n",
    "import timeit"
   ]
  },
  {
   "cell_type": "code",
   "execution_count": null,
   "metadata": {},
   "outputs": [],
   "source": [
    "# Twitter Developer Keys for crawler_pivic app\n",
    "consumer_key = '<consumer_key>'\n",
    "consumer_secret = '<consumer_secret>'\n",
    "access_token = '<access_token>'\n",
    "access_token_secret = '<access_token_secret>'"
   ]
  },
  {
   "cell_type": "code",
   "execution_count": null,
   "metadata": {},
   "outputs": [],
   "source": [
    "# Autgentication between Twitter Developer and this script\n",
    "auth = tw.OAuthHandler(consumer_key, consumer_secret)\n",
    "auth.set_access_token(access_token, access_token_secret)\n",
    "api = tw.API(auth, wait_on_rate_limit=True)"
   ]
  },
  {
   "cell_type": "code",
   "execution_count": null,
   "metadata": {},
   "outputs": [],
   "source": [
    "# Create a file to write the tweets\n",
    "csvFile = open('data/original_corpus/data_twitter.csv', 'a', encoding='utf-8')\n",
    "csvWriter = csv.writer(csvFile)"
   ]
  },
  {
   "cell_type": "code",
   "execution_count": null,
   "metadata": {},
   "outputs": [],
   "source": [
    "# Define the search term\n",
    "search_words = \"covid OR covid19 OR coronavirus OR caronavac OR astrazeneca OR pfizer OR sputnik v OR sputnik OR sinovac OR johnson & johnson OR johnson&johnson OR jnj OR butantan OR fio cruz OR fiocruz OR oxford OR moderna OR butanvac OR ufpr OR universidade OR federal OR parana OR paraná OR versamune OR covshield\"\n",
    "new_search = search_words + \" -filter:retweets\""
   ]
  },
  {
   "cell_type": "code",
   "execution_count": null,
   "metadata": {},
   "outputs": [],
   "source": [
    "# Collect tweets\n",
    "tweets = tw.Cursor(api.search,\n",
    "                       q=new_search,\n",
    "                       lang='pt',\n",
    "                       tweet_mode=\"extended\",                    \n",
    "                       result_type='mixed',\n",
    "                       count=10,\n",
    "                       since='2021-08-06',\n",
    "                       until='2021-08-07'\n",
    "                    ).items(100)"
   ]
  },
  {
   "cell_type": "code",
   "execution_count": null,
   "metadata": {},
   "outputs": [],
   "source": [
    "# Write a list of tweets in .csv\n",
    "for tweet in tqdm(tweets, total=tweets.limit):\n",
    "    #print (tweet.id, tweet.created_at, tweet.user.location, tweet.full_text)\n",
    "    csvWriter.writerow([tweet.id, tweet.created_at, tweet.user.location, tweet.full_text])"
   ]
  }
 ],
 "metadata": {
  "kernelspec": {
   "display_name": "Python 3.10.2 64-bit",
   "language": "python",
   "name": "python3"
  },
  "language_info": {
   "name": "python",
   "version": "3.10.2"
  },
  "orig_nbformat": 4,
  "vscode": {
   "interpreter": {
    "hash": "73c0c369c41acf2cf19d488461a19c058511f149d04f8cdeb696b477ee1e0b54"
   }
  }
 },
 "nbformat": 4,
 "nbformat_minor": 2
}
