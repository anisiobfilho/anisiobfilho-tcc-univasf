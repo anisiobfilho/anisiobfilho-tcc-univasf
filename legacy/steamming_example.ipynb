{
 "cells": [
  {
   "cell_type": "code",
   "execution_count": 3,
   "id": "31b23054-da3f-40cf-8137-a6734b380eef",
   "metadata": {},
   "outputs": [
    {
     "name": "stdout",
     "output_type": "stream",
     "text": [
      "tod mort é human . se aristótel é human , log ele é mort\n",
      "tod mort ser human . se aristótel ser human , log ele ser mort\n"
     ]
    }
   ],
   "source": [
    "##NLTK\n",
    "import nltk\n",
    "from nltk.tokenize import sent_tokenize, word_tokenize\n",
    "from nltk.corpus import stopwords\n",
    "\n",
    "##Cogroo-Interface\n",
    "#from cogroo_interface import Cogroo\n",
    "#cogroo = Cogroo.Instance()\n",
    "from cogroo4py.cogroo import Cogroo\n",
    "cogroo = Cogroo()\n",
    "##Lemmatization utilizando Cogroo4py:\n",
    "##Stemming utilizando NLTK:\n",
    "\n",
    "stemmer = nltk.stem.RSLPStemmer()\n",
    "stemmed_list = []\n",
    "line = \"Todo mortal é humano. Se Aristóteles é humano, logo ele é mortal\"\n",
    "#line = \" \".join(line.split())\n",
    "words = word_tokenize(line, language='portuguese')\n",
    "sent = []\n",
    "for word in words:\n",
    "     sent.append(stemmer.stem(word))\n",
    "sent_str = \" \".join(sent)\n",
    "print(sent_str)\n",
    "\n",
    "line = sent_str\n",
    "\n",
    "#line = \"O rato roeu a roupa do rei de Roma\"\n",
    "words = word_tokenize(line, language='portuguese')\n",
    "sent = []\n",
    "for word in words:\n",
    "    sent.append(cogroo.lemmatize(word).lower())\n",
    "sent_str = \" \".join(sent)\n",
    "\n",
    "print(sent_str)"
   ]
  },
  {
   "cell_type": "code",
   "execution_count": null,
   "id": "24f130f6-714d-48b0-82d1-9a4c375f1ec7",
   "metadata": {},
   "outputs": [],
   "source": []
  }
 ],
 "metadata": {
  "kernelspec": {
   "display_name": "Python 3 (ipykernel)",
   "language": "python",
   "name": "python3"
  },
  "language_info": {
   "codemirror_mode": {
    "name": "ipython",
    "version": 3
   },
   "file_extension": ".py",
   "mimetype": "text/x-python",
   "name": "python",
   "nbconvert_exporter": "python",
   "pygments_lexer": "ipython3",
   "version": "3.7.10"
  }
 },
 "nbformat": 4,
 "nbformat_minor": 5
}
