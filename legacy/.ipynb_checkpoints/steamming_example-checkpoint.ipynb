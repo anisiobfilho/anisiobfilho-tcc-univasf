{
 "cells": [
  {
   "cell_type": "code",
   "execution_count": 7,
   "id": "31b23054-da3f-40cf-8137-a6734b380eef",
   "metadata": {},
   "outputs": [
    {
     "data": {
      "text/plain": [
       "'tod mort é human . se aristótel é human , log ele é mort'"
      ]
     },
     "execution_count": 7,
     "metadata": {},
     "output_type": "execute_result"
    }
   ],
   "source": [
    "##NLTK\n",
    "import nltk\n",
    "from nltk.tokenize import sent_tokenize, word_tokenize\n",
    "from nltk.corpus import stopwords\n",
    "\n",
    "##Stemming utilizando NLTK:\n",
    "\n",
    "stemmer = nltk.stem.RSLPStemmer()\n",
    "stemmed_list = []\n",
    "line = \"Todo mortal é humano. Se Aristóteles é humano, logo ele é mortal\"\n",
    "#line = \" \".join(line.split())\n",
    "words = word_tokenize(line, language='portuguese')\n",
    "sent = []\n",
    "for word in words:\n",
    "     sent.append(stemmer.stem(word))\n",
    "sent_str = \" \".join(sent)\n",
    "sent_str"
   ]
  },
  {
   "cell_type": "code",
   "execution_count": null,
   "id": "24f130f6-714d-48b0-82d1-9a4c375f1ec7",
   "metadata": {},
   "outputs": [],
   "source": []
  }
 ],
 "metadata": {
  "kernelspec": {
   "display_name": "Python 3 (ipykernel)",
   "language": "python",
   "name": "python3"
  },
  "language_info": {
   "codemirror_mode": {
    "name": "ipython",
    "version": 3
   },
   "file_extension": ".py",
   "mimetype": "text/x-python",
   "name": "python",
   "nbconvert_exporter": "python",
   "pygments_lexer": "ipython3",
   "version": "3.7.10"
  }
 },
 "nbformat": 4,
 "nbformat_minor": 5
}
